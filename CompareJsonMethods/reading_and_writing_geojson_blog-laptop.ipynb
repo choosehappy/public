{
 "cells": [
  {
   "cell_type": "code",
   "execution_count": 1,
   "id": "ce233f93-5a6c-4ef3-9a4a-6d8eb5cb6d6a",
   "metadata": {
    "ExecuteTime": {
     "end_time": "2024-08-06T16:11:21.196273Z",
     "start_time": "2024-08-06T16:11:01.701250Z"
    }
   },
   "outputs": [],
   "source": [
    "import json\n",
    "with open('input.json', 'r') as file:\n",
    "    data = json.load(file)"
   ]
  },
  {
   "cell_type": "markdown",
   "id": "1a5cd096",
   "metadata": {},
   "source": [
    "# Json Native"
   ]
  },
  {
   "cell_type": "markdown",
   "id": "85f43ac5",
   "metadata": {
    "ExecuteTime": {
     "end_time": "2024-08-06T11:19:24.943372Z",
     "start_time": "2024-08-06T11:19:24.936370Z"
    }
   },
   "source": [
    "### Reading"
   ]
  },
  {
   "cell_type": "code",
   "execution_count": 2,
   "id": "8544c7a5",
   "metadata": {
    "ExecuteTime": {
     "end_time": "2024-08-06T16:12:29.761061Z",
     "start_time": "2024-08-06T16:11:21.200273Z"
    }
   },
   "outputs": [
    {
     "name": "stdout",
     "output_type": "stream",
     "text": [
      "6.95 s ± 313 ms per loop (mean ± std. dev. of 7 runs, 1 loop each)\n"
     ]
    }
   ],
   "source": [
    "%%timeit\n",
    "#read geojson normally\n",
    "import json\n",
    "with open('input.json', 'r') as file:\n",
    "    data = json.load(file)"
   ]
  },
  {
   "cell_type": "markdown",
   "id": "c14f2c9b",
   "metadata": {},
   "source": [
    "### Writing"
   ]
  },
  {
   "cell_type": "code",
   "execution_count": 3,
   "id": "e62948de",
   "metadata": {
    "ExecuteTime": {
     "end_time": "2024-08-06T16:25:50.482296Z",
     "start_time": "2024-08-06T16:12:29.767063Z"
    }
   },
   "outputs": [
    {
     "name": "stdout",
     "output_type": "stream",
     "text": [
      "1min 39s ± 1.32 s per loop (mean ± std. dev. of 7 runs, 1 loop each)\n"
     ]
    }
   ],
   "source": [
    "%%timeit\n",
    "with open(\"outfile.json\", 'w') as outfile:\n",
    "    json.dump(data,outfile)"
   ]
  },
  {
   "cell_type": "markdown",
   "id": "b7b07a43",
   "metadata": {},
   "source": [
    "# Compressed Json Native"
   ]
  },
  {
   "cell_type": "markdown",
   "id": "9e6e8d1b",
   "metadata": {},
   "source": [
    "### Writing"
   ]
  },
  {
   "cell_type": "code",
   "execution_count": 4,
   "id": "a75774e1",
   "metadata": {
    "ExecuteTime": {
     "end_time": "2024-08-06T16:55:46.497062Z",
     "start_time": "2024-08-06T16:25:50.486304Z"
    }
   },
   "outputs": [
    {
     "name": "stdout",
     "output_type": "stream",
     "text": [
      "3min 44s ± 2.37 s per loop (mean ± std. dev. of 7 runs, 1 loop each)\n"
     ]
    }
   ],
   "source": [
    "%%timeit\n",
    "import gzip\n",
    "#write geojson compressed\n",
    "with gzip.open(\"outfile.json.gz\", 'wt', encoding=\"ascii\") as zipfile:\n",
    "        json.dump(data, zipfile)"
   ]
  },
  {
   "cell_type": "markdown",
   "id": "9655f511",
   "metadata": {},
   "source": [
    "### Reading"
   ]
  },
  {
   "cell_type": "code",
   "execution_count": 5,
   "id": "6ded99a5",
   "metadata": {
    "ExecuteTime": {
     "end_time": "2024-08-06T16:56:57.081002Z",
     "start_time": "2024-08-06T16:55:46.501613Z"
    },
    "lines_to_next_cell": 2
   },
   "outputs": [
    {
     "name": "stdout",
     "output_type": "stream",
     "text": [
      "7.25 s ± 105 ms per loop (mean ± std. dev. of 7 runs, 1 loop each)\n"
     ]
    }
   ],
   "source": [
    "%%timeit\n",
    "import gzip\n",
    "#read geojson compressed\n",
    "with gzip.GzipFile(\"outfile.json.gz\", 'r') as f:\n",
    "    data = json.loads(f.read())"
   ]
  },
  {
   "cell_type": "markdown",
   "id": "abb16274",
   "metadata": {},
   "source": [
    "# Orjson"
   ]
  },
  {
   "cell_type": "markdown",
   "id": "68d65ab2",
   "metadata": {},
   "source": [
    "## Compressed"
   ]
  },
  {
   "cell_type": "markdown",
   "id": "f24e7f3f",
   "metadata": {},
   "source": [
    "### Writing"
   ]
  },
  {
   "cell_type": "code",
   "execution_count": 6,
   "id": "5602203d",
   "metadata": {
    "ExecuteTime": {
     "end_time": "2024-08-06T17:15:16.131868Z",
     "start_time": "2024-08-06T16:56:57.085963Z"
    }
   },
   "outputs": [
    {
     "name": "stdout",
     "output_type": "stream",
     "text": [
      "2min 17s ± 389 ms per loop (mean ± std. dev. of 7 runs, 1 loop each)\n"
     ]
    }
   ],
   "source": [
    "%%timeit\n",
    "import gzip\n",
    "import orjson\n",
    "\n",
    "with gzip.open(\"outfile.json.gz\", 'wb') as zipfile:\n",
    "    zipfile.write(orjson.dumps(data))"
   ]
  },
  {
   "cell_type": "markdown",
   "id": "89af4713",
   "metadata": {},
   "source": [
    "### Reading"
   ]
  },
  {
   "cell_type": "code",
   "execution_count": 7,
   "id": "c3a9d9bc",
   "metadata": {
    "ExecuteTime": {
     "end_time": "2024-08-06T17:16:06.473981Z",
     "start_time": "2024-08-06T17:15:16.135834Z"
    }
   },
   "outputs": [
    {
     "name": "stdout",
     "output_type": "stream",
     "text": [
      "4.77 s ± 69.8 ms per loop (mean ± std. dev. of 7 runs, 1 loop each)\n"
     ]
    }
   ],
   "source": [
    "%%timeit\n",
    "import gzip\n",
    "import orjson\n",
    "\n",
    "with gzip.open(\"outfile.json.gz\", 'rb') as zipfile:\n",
    "    data = orjson.loads(zipfile.read())"
   ]
  },
  {
   "cell_type": "markdown",
   "id": "f9ed98fc",
   "metadata": {},
   "source": [
    "## Uncompressed"
   ]
  },
  {
   "cell_type": "markdown",
   "id": "44e00c20",
   "metadata": {},
   "source": [
    "### Writing"
   ]
  },
  {
   "cell_type": "code",
   "execution_count": 8,
   "id": "c8d9ef50",
   "metadata": {
    "ExecuteTime": {
     "end_time": "2024-08-06T17:16:21.618901Z",
     "start_time": "2024-08-06T17:16:06.477982Z"
    }
   },
   "outputs": [
    {
     "name": "stdout",
     "output_type": "stream",
     "text": [
      "1.89 s ± 22.7 ms per loop (mean ± std. dev. of 7 runs, 1 loop each)\n"
     ]
    }
   ],
   "source": [
    "%%timeit\n",
    "import orjson\n",
    "\n",
    "with open(\"outfile.json\", 'wb') as regfile:\n",
    "    regfile.write(orjson.dumps(data))"
   ]
  },
  {
   "cell_type": "markdown",
   "id": "184672cc",
   "metadata": {},
   "source": [
    "### Reading"
   ]
  },
  {
   "cell_type": "code",
   "execution_count": 9,
   "id": "53f04117",
   "metadata": {
    "ExecuteTime": {
     "end_time": "2024-08-06T17:17:00.861059Z",
     "start_time": "2024-08-06T17:16:21.632780Z"
    }
   },
   "outputs": [
    {
     "name": "stdout",
     "output_type": "stream",
     "text": [
      "3.51 s ± 118 ms per loop (mean ± std. dev. of 7 runs, 1 loop each)\n"
     ]
    }
   ],
   "source": [
    "%%timeit\n",
    "import orjson\n",
    "\n",
    "with open(\"outfile.json\", 'rb') as regfile:\n",
    "    data = orjson.loads(regfile.read())"
   ]
  },
  {
   "cell_type": "markdown",
   "id": "8bead771",
   "metadata": {},
   "source": [
    "# Ujson"
   ]
  },
  {
   "cell_type": "markdown",
   "id": "a21b1d54",
   "metadata": {},
   "source": [
    "## Compressed"
   ]
  },
  {
   "cell_type": "markdown",
   "id": "e9983e4b",
   "metadata": {},
   "source": [
    "### Writing"
   ]
  },
  {
   "cell_type": "code",
   "execution_count": 10,
   "id": "74707a59",
   "metadata": {
    "ExecuteTime": {
     "end_time": "2024-08-06T17:35:49.966347Z",
     "start_time": "2024-08-06T17:17:00.864582Z"
    }
   },
   "outputs": [
    {
     "name": "stdout",
     "output_type": "stream",
     "text": [
      "2min 21s ± 2.63 s per loop (mean ± std. dev. of 7 runs, 1 loop each)\n"
     ]
    }
   ],
   "source": [
    "%%timeit\n",
    "import gzip\n",
    "import ujson\n",
    "\n",
    "with gzip.open(\"outfile.json.gz\", 'wt',encoding=\"ascii\") as zipfile:\n",
    "    zipfile.write(ujson.dumps(data))"
   ]
  },
  {
   "cell_type": "markdown",
   "id": "b42b0021",
   "metadata": {},
   "source": [
    "### Reading"
   ]
  },
  {
   "cell_type": "code",
   "execution_count": 11,
   "id": "68e34fdb",
   "metadata": {
    "ExecuteTime": {
     "end_time": "2024-08-06T17:36:42.500391Z",
     "start_time": "2024-08-06T17:35:49.969878Z"
    }
   },
   "outputs": [
    {
     "name": "stdout",
     "output_type": "stream",
     "text": [
      "5.12 s ± 69.8 ms per loop (mean ± std. dev. of 7 runs, 1 loop each)\n"
     ]
    }
   ],
   "source": [
    "%%timeit\n",
    "import gzip\n",
    "import ujson\n",
    "\n",
    "with gzip.open(\"outfile.json.gz\", 'rb') as zipfile:\n",
    "    data = ujson.loads(zipfile.read().decode('utf-8'))"
   ]
  },
  {
   "cell_type": "markdown",
   "id": "09345f1d",
   "metadata": {},
   "source": [
    "## Uncompressed"
   ]
  },
  {
   "cell_type": "markdown",
   "id": "f9db7c2c",
   "metadata": {},
   "source": [
    "### Writing"
   ]
  },
  {
   "cell_type": "code",
   "execution_count": 12,
   "id": "2f0f74b3",
   "metadata": {
    "ExecuteTime": {
     "end_time": "2024-08-06T17:37:22.506934Z",
     "start_time": "2024-08-06T17:36:42.508345Z"
    }
   },
   "outputs": [
    {
     "name": "stdout",
     "output_type": "stream",
     "text": [
      "4.94 s ± 50.6 ms per loop (mean ± std. dev. of 7 runs, 1 loop each)\n"
     ]
    }
   ],
   "source": [
    "%%timeit\n",
    "import ujson\n",
    "\n",
    "with open(\"outfile.json\", 'w', encoding='utf-8') as regfile:\n",
    "    regfile.write(ujson.dumps(data))"
   ]
  },
  {
   "cell_type": "markdown",
   "id": "73056920",
   "metadata": {},
   "source": [
    "### Reading"
   ]
  },
  {
   "cell_type": "code",
   "execution_count": 13,
   "id": "89ffe915",
   "metadata": {
    "ExecuteTime": {
     "end_time": "2024-08-06T17:38:04.619408Z",
     "start_time": "2024-08-06T17:37:22.512606Z"
    }
   },
   "outputs": [
    {
     "name": "stdout",
     "output_type": "stream",
     "text": [
      "3.89 s ± 77.4 ms per loop (mean ± std. dev. of 7 runs, 1 loop each)\n"
     ]
    }
   ],
   "source": [
    "%%timeit\n",
    "import ujson\n",
    "\n",
    "with open(\"outfile.json\", 'r', encoding='utf-8') as regfile:\n",
    "    data = ujson.loads(regfile.read())"
   ]
  },
  {
   "cell_type": "markdown",
   "id": "5804467b",
   "metadata": {},
   "source": [
    "# Msgpack"
   ]
  },
  {
   "cell_type": "markdown",
   "id": "f663a2ca",
   "metadata": {},
   "source": [
    "## Writing"
   ]
  },
  {
   "cell_type": "markdown",
   "id": "dd79e111-1882-42d3-8601-4e1b2dda84dd",
   "metadata": {},
   "source": [
    "### Compressed"
   ]
  },
  {
   "cell_type": "code",
   "execution_count": 14,
   "id": "6677ce65-8b4a-4787-9b5e-6e63d3b1d218",
   "metadata": {
    "ExecuteTime": {
     "end_time": "2024-08-06T17:47:12.371984Z",
     "start_time": "2024-08-06T17:38:04.622367Z"
    }
   },
   "outputs": [
    {
     "name": "stdout",
     "output_type": "stream",
     "text": [
      "1min 9s ± 7.09 s per loop (mean ± std. dev. of 7 runs, 1 loop each)\n"
     ]
    }
   ],
   "source": [
    "%%timeit\n",
    "import gzip\n",
    "import msgpack\n",
    "\n",
    "with gzip.open(\"outfile.msgpack.gz\", 'wb') as zipfile:\n",
    "    zipfile.write(msgpack.packb(data, use_bin_type=True))"
   ]
  },
  {
   "cell_type": "markdown",
   "id": "f110cf53-3d06-4506-a6b4-3355fe6aafa8",
   "metadata": {},
   "source": [
    "### Uncompressed"
   ]
  },
  {
   "cell_type": "code",
   "execution_count": 15,
   "id": "4c97d89a",
   "metadata": {
    "ExecuteTime": {
     "end_time": "2024-08-06T17:48:10.758323Z",
     "start_time": "2024-08-06T17:47:12.376727Z"
    }
   },
   "outputs": [
    {
     "name": "stdout",
     "output_type": "stream",
     "text": [
      "7.46 s ± 1.31 s per loop (mean ± std. dev. of 7 runs, 1 loop each)\n"
     ]
    }
   ],
   "source": [
    "%%timeit\n",
    "import msgpack\n",
    "\n",
    "with open(\"outfile.msgpack\", 'wb') as regfile:\n",
    "    regfile.write(msgpack.packb(data, use_bin_type=True))"
   ]
  },
  {
   "cell_type": "markdown",
   "id": "f10db5b3",
   "metadata": {},
   "source": [
    "## Reading"
   ]
  },
  {
   "cell_type": "markdown",
   "id": "45775a92-d4ff-47b0-9734-0622885afd14",
   "metadata": {},
   "source": [
    "## Compressed"
   ]
  },
  {
   "cell_type": "code",
   "execution_count": 16,
   "id": "2e17276d-4c4e-4345-aa61-3f8402a41ea8",
   "metadata": {
    "ExecuteTime": {
     "end_time": "2024-08-06T17:49:08.663400Z",
     "start_time": "2024-08-06T17:48:10.761327Z"
    }
   },
   "outputs": [
    {
     "name": "stdout",
     "output_type": "stream",
     "text": [
      "4.81 s ± 868 ms per loop (mean ± std. dev. of 7 runs, 1 loop each)\n"
     ]
    }
   ],
   "source": [
    "%%timeit\n",
    "import gzip\n",
    "import msgpack\n",
    "\n",
    "with gzip.open(\"outfile.msgpack.gz\", 'rb') as zipfile:\n",
    "    data = msgpack.unpackb(zipfile.read(), raw=False)"
   ]
  },
  {
   "cell_type": "markdown",
   "id": "072fa106-1753-4fa5-85ab-8a5ebb39a246",
   "metadata": {},
   "source": [
    "### Uncompressed"
   ]
  },
  {
   "cell_type": "code",
   "execution_count": 17,
   "id": "7aa9ea48-0cab-4963-8a11-40ef55bee25c",
   "metadata": {
    "ExecuteTime": {
     "end_time": "2024-08-06T17:49:50.079408Z",
     "start_time": "2024-08-06T17:49:08.674403Z"
    }
   },
   "outputs": [
    {
     "name": "stdout",
     "output_type": "stream",
     "text": [
      "3.35 s ± 330 ms per loop (mean ± std. dev. of 7 runs, 1 loop each)\n"
     ]
    }
   ],
   "source": [
    "%%timeit\n",
    "import msgpack\n",
    "\n",
    "with open(\"outfile.msgpack\", 'rb') as regfile:\n",
    "    data = msgpack.unpackb(regfile.read(), raw=False)"
   ]
  },
  {
   "cell_type": "markdown",
   "id": "33aa3e45",
   "metadata": {},
   "source": [
    "# Ujson + Snappy"
   ]
  },
  {
   "cell_type": "markdown",
   "id": "c99f170a",
   "metadata": {},
   "source": [
    "## Writing"
   ]
  },
  {
   "cell_type": "code",
   "execution_count": 18,
   "id": "f6f498ef",
   "metadata": {
    "ExecuteTime": {
     "end_time": "2024-08-06T17:50:52.952822Z",
     "start_time": "2024-08-06T17:49:50.082932Z"
    }
   },
   "outputs": [
    {
     "name": "stdout",
     "output_type": "stream",
     "text": [
      "7.18 s ± 632 ms per loop (mean ± std. dev. of 7 runs, 1 loop each)\n"
     ]
    }
   ],
   "source": [
    "%%timeit\n",
    "import snappy\n",
    "import ujson\n",
    "\n",
    "compressed_data = snappy.compress(ujson.dumps(data).encode('utf-8'))\n",
    "with open(\"outfile.json.snappy\", 'wb') as snappyfile:\n",
    "    snappyfile.write(compressed_data)"
   ]
  },
  {
   "cell_type": "markdown",
   "id": "617dcab3",
   "metadata": {},
   "source": [
    "## Reading"
   ]
  },
  {
   "cell_type": "code",
   "execution_count": 19,
   "id": "18ef2517",
   "metadata": {
    "ExecuteTime": {
     "end_time": "2024-08-06T17:52:01.863007Z",
     "start_time": "2024-08-06T17:50:52.962797Z"
    },
    "lines_to_next_cell": 0
   },
   "outputs": [
    {
     "name": "stdout",
     "output_type": "stream",
     "text": [
      "5.41 s ± 466 ms per loop (mean ± std. dev. of 7 runs, 1 loop each)\n"
     ]
    }
   ],
   "source": [
    "%%timeit\n",
    "import snappy\n",
    "import ujson\n",
    "\n",
    "with open(\"outfile.json.snappy\", 'rb') as snappyfile:\n",
    "    compressed_data = snappyfile.read()\n",
    "    decompressed_data = snappy.decompress(compressed_data)\n",
    "    data = ujson.loads(decompressed_data.decode('utf-8'))"
   ]
  }
 ],
 "metadata": {
  "jupytext": {
   "formats": "ipynb,py:light"
  },
  "kernelspec": {
   "display_name": "Python 3 (ipykernel)",
   "language": "python",
   "name": "python3"
  },
  "language_info": {
   "codemirror_mode": {
    "name": "ipython",
    "version": 3
   },
   "file_extension": ".py",
   "mimetype": "text/x-python",
   "name": "python",
   "nbconvert_exporter": "python",
   "pygments_lexer": "ipython3",
   "version": "3.10.5"
  }
 },
 "nbformat": 4,
 "nbformat_minor": 5
}
