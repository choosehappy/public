{
 "cells": [
  {
   "cell_type": "code",
   "execution_count": 1,
   "id": "c0239173",
   "metadata": {
    "lines_to_next_cell": 2
   },
   "outputs": [],
   "source": [
    "from sqlalchemy import create_engine, Column, String, Integer, func, event, text\n",
    "from sqlalchemy.ext.declarative import declarative_base\n",
    "from sqlalchemy.dialects.postgresql import ARRAY\n",
    "from sqlalchemy.orm import sessionmaker\n",
    "from geoalchemy2 import Geometry \n",
    "from tqdm import tqdm\n",
    "from shapely.wkt import dumps\n",
    "\n",
    "import orjson\n"
   ]
  },
  {
   "cell_type": "code",
   "execution_count": 2,
   "id": "cf0bcd33",
   "metadata": {},
   "outputs": [
    {
     "name": "stderr",
     "output_type": "stream",
     "text": [
      "/tmp/ipykernel_87291/2237727833.py:2: MovedIn20Warning: The ``declarative_base()`` function is now available as sqlalchemy.orm.declarative_base(). (deprecated since: 2.0) (Background on SQLAlchemy 2.0 at: https://sqlalche.me/e/b8d9)\n",
      "  Base = declarative_base()\n"
     ]
    }
   ],
   "source": [
    "# Create a base class for our declarative mapping\n",
    "Base = declarative_base()\n",
    "\n",
    "# Define your SQLAlchemy model\n",
    "class GeometryModel(Base):\n",
    "    __tablename__ = 'geometries'\n",
    "    id = Column(Integer, primary_key=True)\n",
    "    name = Column(String)\n",
    "    geom = Column(Geometry('POLYGON'))"
   ]
  },
  {
   "cell_type": "code",
   "execution_count": 3,
   "id": "373646b3",
   "metadata": {},
   "outputs": [],
   "source": [
    "# Connect to the Spatialite database\n",
    "db_path = 'sqlite:////tmp/blog/spatialite_ray.db'\n",
    "engine = create_engine(db_path, echo=True)  # Set echo=True to see SQL commands being executed"
   ]
  },
  {
   "cell_type": "code",
   "execution_count": 4,
   "id": "1efdf09c",
   "metadata": {},
   "outputs": [],
   "source": [
    "# Initialize Spatialite extension\n",
    "@event.listens_for(engine, \"connect\")\n",
    "def connect(dbapi_connection, connection_record):\n",
    "    dbapi_connection.enable_load_extension(True)\n",
    "    dbapi_connection.execute('SELECT load_extension(\"mod_spatialite\")')\n",
    "    dbapi_connection.execute('SELECT InitSpatialMetaData(1);')"
   ]
  },
  {
   "cell_type": "code",
   "execution_count": 5,
   "id": "1edec859",
   "metadata": {},
   "outputs": [
    {
     "name": "stdout",
     "output_type": "stream",
     "text": [
      "2024-11-05 20:38:27,999 INFO sqlalchemy.engine.Engine BEGIN (implicit)\n",
      "2024-11-05 20:38:28,000 INFO sqlalchemy.engine.Engine PRAGMA main.table_info(\"geometries\")\n",
      "2024-11-05 20:38:28,002 INFO sqlalchemy.engine.Engine [raw sql] ()\n",
      "2024-11-05 20:38:28,004 INFO sqlalchemy.engine.Engine COMMIT\n"
     ]
    },
    {
     "name": "stderr",
     "output_type": "stream",
     "text": [
      "InitSpatiaMetaData() error:\"table spatial_ref_sys already exists\"\n"
     ]
    }
   ],
   "source": [
    "# Create the table\n",
    "Base.metadata.create_all(engine)\n",
    "\n",
    "# Start a session\n",
    "from sqlalchemy.orm import sessionmaker\n",
    "Session = sessionmaker(bind=engine)\n",
    "session = Session()"
   ]
  },
  {
   "cell_type": "code",
   "execution_count": 6,
   "id": "694f9b21-e9ca-432b-ad08-8d1fed2eac9d",
   "metadata": {},
   "outputs": [
    {
     "name": "stdout",
     "output_type": "stream",
     "text": [
      "2024-11-05 20:38:28,020 INFO sqlalchemy.engine.Engine BEGIN (implicit)\n",
      "2024-11-05 20:38:28,026 INFO sqlalchemy.engine.Engine SELECT geometries.id AS geometries_id, geometries.name AS geometries_name, AsEWKB(geometries.geom) AS geometries_geom \n",
      "FROM geometries\n",
      "2024-11-05 20:38:28,028 INFO sqlalchemy.engine.Engine [generated in 0.00188s] ()\n",
      "CPU times: user 7min, sys: 18.4 s, total: 7min 19s\n",
      "Wall time: 7min 31s\n"
     ]
    }
   ],
   "source": [
    "%%time\n",
    "results = session.query(GeometryModel).all()"
   ]
  },
  {
   "cell_type": "code",
   "execution_count": 7,
   "id": "7bf01123-6654-4941-b78c-82caa49e6c23",
   "metadata": {},
   "outputs": [
    {
     "data": {
      "text/plain": [
       "1063260"
      ]
     },
     "execution_count": 7,
     "metadata": {},
     "output_type": "execute_result"
    }
   ],
   "source": [
    "len(results)"
   ]
  },
  {
   "cell_type": "code",
   "execution_count": 8,
   "id": "1619123b-0135-40a5-8fca-2129dddb79f5",
   "metadata": {},
   "outputs": [
    {
     "name": "stdout",
     "output_type": "stream",
     "text": [
      "CPU times: user 342 ms, sys: 10.1 ms, total: 352 ms\n",
      "Wall time: 351 ms\n"
     ]
    }
   ],
   "source": [
    "%%time\n",
    "# Detach all results from the session\n",
    "# expunge_all() removes all objects from the session, making them detached. Detached objects are no longer tracked by the session, so changes made to them will not be automatically persisted to the database.\n",
    "session.expunge_all()"
   ]
  },
  {
   "cell_type": "code",
   "execution_count": 9,
   "id": "7ac951f3-4805-44fc-951f-e342d3ff6842",
   "metadata": {},
   "outputs": [
    {
     "name": "stderr",
     "output_type": "stream",
     "text": [
      "100%|█████████████████████████████████████████████████████████████████████████████████████████████████████████████████████████████████████████████████████████████████████████████████████████████████████████████████████████████| 1063260/1063260 [02:21<00:00, 7535.98it/s]"
     ]
    },
    {
     "name": "stdout",
     "output_type": "stream",
     "text": [
      "CPU times: user 2min 8s, sys: 13.2 s, total: 2min 21s\n",
      "Wall time: 2min 21s\n"
     ]
    },
    {
     "name": "stderr",
     "output_type": "stream",
     "text": [
      "\n"
     ]
    }
   ],
   "source": [
    "%%time\n",
    "## -- Convert from EWKB to Shapely\n",
    "from shapely.geometry import shape\n",
    "from shapely import wkb\n",
    "for r in tqdm(results):\n",
    "#    r.geom = wkb.loads(r.geom.data)\n",
    "    r.geom = wkb.loads(str(r.geom))"
   ]
  },
  {
   "cell_type": "code",
   "execution_count": null,
   "id": "c90e3ec5-5a6f-46af-8d3d-bbdee8faf713",
   "metadata": {},
   "outputs": [],
   "source": [
    "%%time\n",
    "from geoalchemy2.functions import ST_AsGeoJSON\n",
    "results = session.query(ST_AsGeoJSON(GeometryModel.geom)).all()"
   ]
  },
  {
   "cell_type": "code",
   "execution_count": null,
   "id": "9e492270-daa4-4f03-beab-2dcec3d93f32",
   "metadata": {},
   "outputs": [],
   "source": [
    "results[0]"
   ]
  },
  {
   "cell_type": "code",
   "execution_count": null,
   "id": "476c5cea-5ed6-4125-9167-79076e5835b4",
   "metadata": {},
   "outputs": [],
   "source": [
    "# %%time\n",
    "# from geoalchemy2.functions import ST_AsEWKT\n",
    "# results = session.query(ST_AsEWKT(GeometryModel.geom)).all()"
   ]
  },
  {
   "cell_type": "code",
   "execution_count": null,
   "id": "f19d8a64-cf88-42ed-863c-7c9171d24e71",
   "metadata": {},
   "outputs": [],
   "source": [
    "%%time\n",
    "from geoalchemy2.functions import ST_Centroid\n",
    "results = session.query(ST_Centroid(GeometryModel.geom)).all()"
   ]
  },
  {
   "cell_type": "code",
   "execution_count": null,
   "id": "6d4ad2e9-1f02-4f3e-9807-b6c841de2854",
   "metadata": {},
   "outputs": [],
   "source": [
    "len(results)"
   ]
  },
  {
   "cell_type": "code",
   "execution_count": null,
   "id": "e054671e-1756-47ba-af86-0c8d1c3946b6",
   "metadata": {},
   "outputs": [],
   "source": [
    "results[0]"
   ]
  },
  {
   "cell_type": "code",
   "execution_count": null,
   "id": "77e0abb1-c6c9-4213-8fe2-b662cbdfc08c",
   "metadata": {},
   "outputs": [],
   "source": [
    "%%time\n",
    "from geoalchemy2.functions import ST_Centroid\n",
    "results = session.query(ST_AsGeoJSON(ST_Centroid(GeometryModel.geom))).all()"
   ]
  },
  {
   "cell_type": "code",
   "execution_count": null,
   "id": "8656bbe9-44c9-4c23-bb2a-9b6ae4b9fe9b",
   "metadata": {},
   "outputs": [],
   "source": [
    "# %%time\n",
    "results = session.query(GeometryModel.geom).limit(10).all()"
   ]
  },
  {
   "cell_type": "code",
   "execution_count": null,
   "id": "0a566ea0-3128-4786-a35d-08ae58c4c52a",
   "metadata": {},
   "outputs": [],
   "source": []
  }
 ],
 "metadata": {
  "jupytext": {
   "formats": "ipynb,py"
  },
  "kernelspec": {
   "display_name": "Python 3 (ipykernel)",
   "language": "python",
   "name": "python3"
  },
  "language_info": {
   "codemirror_mode": {
    "name": "ipython",
    "version": 3
   },
   "file_extension": ".py",
   "mimetype": "text/x-python",
   "name": "python",
   "nbconvert_exporter": "python",
   "pygments_lexer": "ipython3",
   "version": "3.10.12"
  }
 },
 "nbformat": 4,
 "nbformat_minor": 5
}
