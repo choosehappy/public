{
 "cells": [
  {
   "cell_type": "code",
   "execution_count": 1,
   "id": "7b8ec9c1-30f2-4f4e-b5a5-229416bd650d",
   "metadata": {
    "lines_to_next_cell": 2
   },
   "outputs": [],
   "source": [
    "from sqlalchemy import create_engine, Column, String, Integer, func, event, text\n",
    "from sqlalchemy.ext.declarative import declarative_base\n",
    "from sqlalchemy.dialects.postgresql import ARRAY\n",
    "from sqlalchemy.orm import sessionmaker\n",
    "from geoalchemy2 import Geometry \n",
    "from tqdm import tqdm\n",
    "from shapely.wkt import dumps\n",
    "\n",
    "import orjson"
   ]
  },
  {
   "cell_type": "code",
   "execution_count": 2,
   "id": "89165c57-0f1a-41eb-bdf4-037701f0e0a8",
   "metadata": {},
   "outputs": [
    {
     "name": "stderr",
     "output_type": "stream",
     "text": [
      "/tmp/ipykernel_90296/2237727833.py:2: MovedIn20Warning: The ``declarative_base()`` function is now available as sqlalchemy.orm.declarative_base(). (deprecated since: 2.0) (Background on SQLAlchemy 2.0 at: https://sqlalche.me/e/b8d9)\n",
      "  Base = declarative_base()\n"
     ]
    }
   ],
   "source": [
    "# Create a base class for our declarative mapping\n",
    "Base = declarative_base()\n",
    "\n",
    "# Define your SQLAlchemy model\n",
    "class GeometryModel(Base):\n",
    "    __tablename__ = 'geometries'\n",
    "    id = Column(Integer, primary_key=True)\n",
    "    name = Column(String)\n",
    "    geom = Column(Geometry('POLYGON'))"
   ]
  },
  {
   "cell_type": "code",
   "execution_count": 3,
   "id": "5887b43a-535b-47ff-b7df-8dd87bad4cf0",
   "metadata": {},
   "outputs": [],
   "source": [
    "from sqlalchemy_utils import database_exists, create_database\n",
    "engine = create_engine('postgresql://postgres@localhost:5333/test')#,echo=True)"
   ]
  },
  {
   "cell_type": "code",
   "execution_count": 4,
   "id": "7c8b6227-0a40-4281-8df7-80e481ee4e71",
   "metadata": {},
   "outputs": [],
   "source": [
    "# Initialize Spatialite extension\n",
    "@event.listens_for(engine, \"connect\")\n",
    "def connect(dbapi_connection, connection_record):\n",
    "    with dbapi_connection.cursor() as cursor:\n",
    "        cursor.execute('CREATE EXTENSION IF NOT EXISTS postgis;')"
   ]
  },
  {
   "cell_type": "code",
   "execution_count": 5,
   "id": "57928369-2fe9-4757-828b-954eba24f339",
   "metadata": {
    "lines_to_next_cell": 2
   },
   "outputs": [],
   "source": [
    "# Create the table\n",
    "Base.metadata.create_all(engine)"
   ]
  },
  {
   "cell_type": "code",
   "execution_count": 6,
   "id": "a094f6ca-b184-4aa9-8bc8-754341429ff9",
   "metadata": {},
   "outputs": [],
   "source": [
    "from tqdm import tqdm"
   ]
  },
  {
   "cell_type": "code",
   "execution_count": 7,
   "id": "871bc8d1",
   "metadata": {},
   "outputs": [
    {
     "name": "stdout",
     "output_type": "stream",
     "text": [
      "CPU times: user 5.09 s, sys: 27.7 s, total: 32.8 s\n",
      "Wall time: 1min 2s\n"
     ]
    }
   ],
   "source": [
    "%%time\n",
    "with  engine.connect() as conn:\n",
    "    results=conn.execute(text(\"select * from geometries\")).fetchall()"
   ]
  },
  {
   "cell_type": "code",
   "execution_count": 8,
   "id": "a5219f3b-755d-48ac-be7c-da2ac75db3f1",
   "metadata": {},
   "outputs": [
    {
     "data": {
      "text/plain": [
       "1063260"
      ]
     },
     "execution_count": 8,
     "metadata": {},
     "output_type": "execute_result"
    }
   ],
   "source": [
    "len(results)"
   ]
  },
  {
   "cell_type": "code",
   "execution_count": 11,
   "id": "5af39831-add0-431d-87ac-17a7cc3e242e",
   "metadata": {},
   "outputs": [
    {
     "name": "stdout",
     "output_type": "stream",
     "text": [
      "CPU times: user 43.4 s, sys: 2.64 s, total: 46.1 s\n",
      "Wall time: 1min 6s\n"
     ]
    }
   ],
   "source": [
    "%%time\n",
    "with  engine.connect() as conn:\n",
    "    results=conn.execute(text(\"select id,name,geom from geometries\")).fetchall()"
   ]
  },
  {
   "cell_type": "code",
   "execution_count": 12,
   "id": "1426e714-8c23-4d9d-92c0-c30dfe55f1a7",
   "metadata": {},
   "outputs": [
    {
     "data": {
      "text/plain": [
       "(883, 'te+lumen', '0103000020E6100000010000000503000000000000A0EEE94000000000004CCA4000000000A0EEE94000000000804CCA4000000000A0EEE94000000000004DCA4000000000A0EEE940000 ... (24472 characters truncated) ... FE94000000000004CCA400000000000EFE94000000000004CCA4000000000E0EEE94000000000004CCA4000000000C0EEE94000000000004CCA4000000000A0EEE94000000000004CCA40')"
      ]
     },
     "execution_count": 12,
     "metadata": {},
     "output_type": "execute_result"
    }
   ],
   "source": [
    "results[0]"
   ]
  },
  {
   "cell_type": "code",
   "execution_count": 13,
   "id": "1564d607-f62c-4758-84ca-2b05ff2acb24",
   "metadata": {},
   "outputs": [
    {
     "name": "stdout",
     "output_type": "stream",
     "text": [
      "CPU times: user 3.56 s, sys: 1.37 s, total: 4.92 s\n",
      "Wall time: 23.8 s\n"
     ]
    }
   ],
   "source": [
    "%%time\n",
    "with  engine.connect() as conn:\n",
    "    results=conn.execute(text(\"select id,name,ST_AsGeoJSON(geom) from geometries\")).fetchall()"
   ]
  },
  {
   "cell_type": "code",
   "execution_count": 14,
   "id": "f6496bfe-c3f0-470a-a056-6814454b74a8",
   "metadata": {},
   "outputs": [
    {
     "data": {
      "text/plain": [
       "(883, 'te+lumen', '{\"type\":\"Polygon\",\"coordinates\":[[[53109,13464],[53109,13465],[53109,13466],[53109,13467],[53109,13468],[53108,13469],[53107,13470],[53106,13471],[53 ... (10560 characters truncated) ... 13464],[53118,13464],[53117,13464],[53116,13464],[53115,13464],[53114,13464],[53113,13464],[53112,13464],[53111,13464],[53110,13464],[53109,13464]]]}')"
      ]
     },
     "execution_count": 14,
     "metadata": {},
     "output_type": "execute_result"
    }
   ],
   "source": [
    "results[0]"
   ]
  },
  {
   "cell_type": "code",
   "execution_count": null,
   "id": "53fee63b-0818-48ab-a121-4ccd35cd927d",
   "metadata": {},
   "outputs": [],
   "source": [
    "%%time\n",
    "with  engine.connect() as conn:\n",
    "    results=conn.execute(text(\"select id,name,ST_AsEWKB(geom) from geometries\")).fetchall()"
   ]
  },
  {
   "cell_type": "code",
   "execution_count": null,
   "id": "1db2b756-76fe-4d5f-a7dd-24892311c737",
   "metadata": {},
   "outputs": [],
   "source": [
    "results[0]"
   ]
  },
  {
   "cell_type": "code",
   "execution_count": null,
   "id": "16ec1409-dd36-4d01-9d51-b9bac131a0ad",
   "metadata": {},
   "outputs": [],
   "source": [
    "%%time\n",
    "with  engine.connect() as conn:\n",
    "    results=conn.execute(text(\"select id,name,ST_AsEWKT(geom) from geometries\")).fetchall()"
   ]
  },
  {
   "cell_type": "code",
   "execution_count": null,
   "id": "1930bff4-c020-4d8d-b804-45bf37f56bef",
   "metadata": {},
   "outputs": [],
   "source": [
    "results[0]"
   ]
  },
  {
   "cell_type": "code",
   "execution_count": null,
   "id": "2e00bb46-b2d1-4500-b959-1f2bb67ffcf1",
   "metadata": {},
   "outputs": [],
   "source": [
    "%%time\n",
    "with  engine.connect() as conn:\n",
    "    results=conn.execute(text(\"select id,name,ST_Centroid(geom) from geometries\")).fetchall()"
   ]
  },
  {
   "cell_type": "code",
   "execution_count": null,
   "id": "1ba238e6-cf14-4ebd-af9f-7ce9632bc884",
   "metadata": {},
   "outputs": [],
   "source": [
    "%%time\n",
    "with  engine.connect() as conn:\n",
    "    results=conn.execute(text(\"select id,name,ST_AsGeoJSON(ST_Centroid(geom)) from geometries\")).fetchall()"
   ]
  },
  {
   "cell_type": "code",
   "execution_count": null,
   "id": "190de3f2-0c4f-43e4-9c2e-0bf700de8a53",
   "metadata": {},
   "outputs": [],
   "source": [
    "%%time\n",
    "with  engine.connect() as conn:\n",
    "    results=conn.execute(text(\"select id,name,ST_AsEWKT(ST_Centroid(geom)) from geometries\")).fetchall()"
   ]
  },
  {
   "cell_type": "code",
   "execution_count": null,
   "id": "974217d6-3455-40fe-9384-1951c72ab3fd",
   "metadata": {},
   "outputs": [],
   "source": [
    "%%time\n",
    "with  engine.connect() as conn:\n",
    "    results=conn.execute(text(\"select id,name,ST_AsEWKB(ST_Centroid(geom)) from geometries\")).fetchall()"
   ]
  },
  {
   "cell_type": "code",
   "execution_count": null,
   "id": "afcdf4f4-9698-42e8-8b6c-af5155e67f4c",
   "metadata": {},
   "outputs": [],
   "source": []
  }
 ],
 "metadata": {
  "jupytext": {
   "formats": "ipynb,py"
  },
  "kernelspec": {
   "display_name": "Python 3 (ipykernel)",
   "language": "python",
   "name": "python3"
  },
  "language_info": {
   "codemirror_mode": {
    "name": "ipython",
    "version": 3
   },
   "file_extension": ".py",
   "mimetype": "text/x-python",
   "name": "python",
   "nbconvert_exporter": "python",
   "pygments_lexer": "ipython3",
   "version": "3.10.12"
  }
 },
 "nbformat": 4,
 "nbformat_minor": 5
}
