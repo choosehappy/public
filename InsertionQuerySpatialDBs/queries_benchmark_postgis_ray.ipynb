{
 "cells": [
  {
   "cell_type": "code",
   "execution_count": 1,
   "id": "4dfed961-daf2-4386-98a9-5b794a0f309d",
   "metadata": {},
   "outputs": [],
   "source": [
    "import orjson\n",
    "\n",
    "from sqlalchemy import create_engine, Column, String, Integer, func, event, text\n",
    "from sqlalchemy.ext.declarative import declarative_base\n",
    "from sqlalchemy.dialects.postgresql import ARRAY\n",
    "from sqlalchemy.orm import sessionmaker\n",
    "from geoalchemy2 import Geometry \n",
    "from tqdm import tqdm\n",
    "from shapely.wkt import dumps\n",
    "import shapely\n",
    "from shapely.wkb import loads as load_wkb\n",
    "import random"
   ]
  },
  {
   "cell_type": "code",
   "execution_count": 2,
   "id": "3e12fd0b-6eb8-4c77-9382-0f51a0a71f00",
   "metadata": {},
   "outputs": [],
   "source": [
    "from sqlalchemy import create_engine\n",
    "from sqlalchemy_utils import database_exists, create_database"
   ]
  },
  {
   "cell_type": "code",
   "execution_count": 3,
   "id": "cc1c1d8a-5338-480e-8452-ad91b4c669b6",
   "metadata": {},
   "outputs": [],
   "source": [
    "import ray"
   ]
  },
  {
   "cell_type": "code",
   "execution_count": 4,
   "id": "5bff2e86-4fd4-423d-8f73-ac2faaa8f6bd",
   "metadata": {},
   "outputs": [
    {
     "name": "stderr",
     "output_type": "stream",
     "text": [
      "2024-11-06 16:08:42,279\tINFO worker.py:1777 -- Started a local Ray instance. View the dashboard at \u001b[1m\u001b[32m127.0.0.1:8265 \u001b[39m\u001b[22m\n"
     ]
    },
    {
     "data": {
      "application/vnd.jupyter.widget-view+json": {
       "model_id": "105eb994e3574d6ab0808dcfdbcb7eac",
       "version_major": 2,
       "version_minor": 0
      },
      "text/html": [
       "<div class=\"lm-Widget p-Widget lm-Panel p-Panel jp-Cell-outputWrapper\">\n",
       "    <div style=\"margin-left: 50px;display: flex;flex-direction: row;align-items: center\">\n",
       "        <div class=\"jp-RenderedHTMLCommon\" style=\"display: flex; flex-direction: row;\">\n",
       "  <svg viewBox=\"0 0 567 224\" fill=\"none\" xmlns=\"http://www.w3.org/2000/svg\" style=\"height: 3em;\">\n",
       "    <g clip-path=\"url(#clip0_4338_178347)\">\n",
       "        <path d=\"M341.29 165.561H355.29L330.13 129.051C345.63 123.991 354.21 112.051 354.21 94.2307C354.21 71.3707 338.72 58.1807 311.88 58.1807H271V165.561H283.27V131.661H311.8C314.25 131.661 316.71 131.501 319.01 131.351L341.25 165.561H341.29ZM283.29 119.851V70.0007H311.82C331.3 70.0007 342.34 78.2907 342.34 94.5507C342.34 111.271 331.34 119.861 311.82 119.861L283.29 119.851ZM451.4 138.411L463.4 165.561H476.74L428.74 58.1807H416L367.83 165.561H380.83L392.83 138.411H451.4ZM446.19 126.601H398L422 72.1407L446.24 126.601H446.19ZM526.11 128.741L566.91 58.1807H554.35L519.99 114.181L485.17 58.1807H472.44L514.01 129.181V165.541H526.13V128.741H526.11Z\" fill=\"var(--jp-ui-font-color0)\"/>\n",
       "        <path d=\"M82.35 104.44C84.0187 97.8827 87.8248 92.0678 93.1671 87.9146C98.5094 83.7614 105.083 81.5067 111.85 81.5067C118.617 81.5067 125.191 83.7614 130.533 87.9146C135.875 92.0678 139.681 97.8827 141.35 104.44H163.75C164.476 101.562 165.622 98.8057 167.15 96.2605L127.45 56.5605C121.071 60.3522 113.526 61.6823 106.235 60.3005C98.9443 58.9187 92.4094 54.9203 87.8602 49.0574C83.3109 43.1946 81.0609 35.8714 81.5332 28.4656C82.0056 21.0599 85.1679 14.0819 90.4252 8.8446C95.6824 3.60726 102.672 0.471508 110.08 0.0272655C117.487 -0.416977 124.802 1.86091 130.647 6.4324C136.493 11.0039 140.467 17.5539 141.821 24.8501C143.175 32.1463 141.816 39.6859 138 46.0505L177.69 85.7505C182.31 82.9877 187.58 81.4995 192.962 81.4375C198.345 81.3755 203.648 82.742 208.33 85.3976C213.012 88.0532 216.907 91.9029 219.616 96.5544C222.326 101.206 223.753 106.492 223.753 111.875C223.753 117.258 222.326 122.545 219.616 127.197C216.907 131.848 213.012 135.698 208.33 138.353C203.648 141.009 198.345 142.375 192.962 142.313C187.58 142.251 182.31 140.763 177.69 138L138 177.7C141.808 184.071 143.155 191.614 141.79 198.91C140.424 206.205 136.44 212.75 130.585 217.313C124.731 221.875 117.412 224.141 110.004 223.683C102.596 223.226 95.6103 220.077 90.3621 214.828C85.1139 209.58 81.9647 202.595 81.5072 195.187C81.0497 187.779 83.3154 180.459 87.878 174.605C92.4405 168.751 98.9853 164.766 106.281 163.401C113.576 162.035 121.119 163.383 127.49 167.19L167.19 127.49C165.664 124.941 164.518 122.182 163.79 119.3H141.39C139.721 125.858 135.915 131.673 130.573 135.826C125.231 139.98 118.657 142.234 111.89 142.234C105.123 142.234 98.5494 139.98 93.2071 135.826C87.8648 131.673 84.0587 125.858 82.39 119.3H60C58.1878 126.495 53.8086 132.78 47.6863 136.971C41.5641 141.163 34.1211 142.972 26.7579 142.059C19.3947 141.146 12.6191 137.574 7.70605 132.014C2.79302 126.454 0.0813599 119.29 0.0813599 111.87C0.0813599 104.451 2.79302 97.2871 7.70605 91.7272C12.6191 86.1673 19.3947 82.5947 26.7579 81.6817C34.1211 80.7686 41.5641 82.5781 47.6863 86.7696C53.8086 90.9611 58.1878 97.2456 60 104.44H82.35ZM100.86 204.32C103.407 206.868 106.759 208.453 110.345 208.806C113.93 209.159 117.527 208.258 120.522 206.256C123.517 204.254 125.725 201.276 126.771 197.828C127.816 194.38 127.633 190.677 126.253 187.349C124.874 184.021 122.383 181.274 119.205 179.577C116.027 177.88 112.359 177.337 108.826 178.042C105.293 178.746 102.113 180.654 99.8291 183.44C97.5451 186.226 96.2979 189.718 96.3 193.32C96.2985 195.364 96.7006 197.388 97.4831 199.275C98.2656 201.163 99.4132 202.877 100.86 204.32ZM204.32 122.88C206.868 120.333 208.453 116.981 208.806 113.396C209.159 109.811 208.258 106.214 206.256 103.219C204.254 100.223 201.275 98.0151 197.827 96.97C194.38 95.9249 190.676 96.1077 187.348 97.4873C184.02 98.8669 181.274 101.358 179.577 104.536C177.879 107.714 177.337 111.382 178.041 114.915C178.746 118.448 180.653 121.627 183.439 123.911C186.226 126.195 189.717 127.443 193.32 127.44C195.364 127.443 197.388 127.042 199.275 126.259C201.163 125.476 202.878 124.328 204.32 122.88ZM122.88 19.4205C120.333 16.8729 116.981 15.2876 113.395 14.9347C109.81 14.5817 106.213 15.483 103.218 17.4849C100.223 19.4868 98.0146 22.4654 96.9696 25.9131C95.9245 29.3608 96.1073 33.0642 97.4869 36.3922C98.8665 39.7202 101.358 42.4668 104.535 44.1639C107.713 45.861 111.381 46.4036 114.914 45.6992C118.447 44.9949 121.627 43.0871 123.911 40.301C126.195 37.515 127.442 34.0231 127.44 30.4205C127.44 28.3772 127.038 26.3539 126.255 24.4664C125.473 22.5788 124.326 20.8642 122.88 19.4205ZM19.42 100.86C16.8725 103.408 15.2872 106.76 14.9342 110.345C14.5813 113.93 15.4826 117.527 17.4844 120.522C19.4863 123.518 22.4649 125.726 25.9127 126.771C29.3604 127.816 33.0638 127.633 36.3918 126.254C39.7198 124.874 42.4664 122.383 44.1635 119.205C45.8606 116.027 46.4032 112.359 45.6988 108.826C44.9944 105.293 43.0866 102.114 40.3006 99.8296C37.5145 97.5455 34.0227 96.2983 30.42 96.3005C26.2938 96.3018 22.337 97.9421 19.42 100.86ZM100.86 100.86C98.3125 103.408 96.7272 106.76 96.3742 110.345C96.0213 113.93 96.9226 117.527 98.9244 120.522C100.926 123.518 103.905 125.726 107.353 126.771C110.8 127.816 114.504 127.633 117.832 126.254C121.16 124.874 123.906 122.383 125.604 119.205C127.301 116.027 127.843 112.359 127.139 108.826C126.434 105.293 124.527 102.114 121.741 99.8296C118.955 97.5455 115.463 96.2983 111.86 96.3005C109.817 96.299 107.793 96.701 105.905 97.4835C104.018 98.2661 102.303 99.4136 100.86 100.86Z\" fill=\"#00AEEF\"/>\n",
       "    </g>\n",
       "    <defs>\n",
       "        <clipPath id=\"clip0_4338_178347\">\n",
       "            <rect width=\"566.93\" height=\"223.75\" fill=\"white\"/>\n",
       "        </clipPath>\n",
       "    </defs>\n",
       "  </svg>\n",
       "</div>\n",
       "\n",
       "        <table class=\"jp-RenderedHTMLCommon\" style=\"border-collapse: collapse;color: var(--jp-ui-font-color1);font-size: var(--jp-ui-font-size1);\">\n",
       "    <tr>\n",
       "        <td style=\"text-align: left\"><b>Python version:</b></td>\n",
       "        <td style=\"text-align: left\"><b>3.10.12</b></td>\n",
       "    </tr>\n",
       "    <tr>\n",
       "        <td style=\"text-align: left\"><b>Ray version:</b></td>\n",
       "        <td style=\"text-align: left\"><b>2.37.0</b></td>\n",
       "    </tr>\n",
       "    <tr>\n",
       "    <td style=\"text-align: left\"><b>Dashboard:</b></td>\n",
       "    <td style=\"text-align: left\"><b><a href=\"http://127.0.0.1:8265\" target=\"_blank\">http://127.0.0.1:8265</a></b></td>\n",
       "</tr>\n",
       "\n",
       "</table>\n",
       "\n",
       "    </div>\n",
       "</div>\n"
      ],
      "text/plain": [
       "RayContext(dashboard_url='127.0.0.1:8265', python_version='3.10.12', ray_version='2.37.0', ray_commit='1b620f244c4fb67d80661046091573fb6eefecb6')"
      ]
     },
     "execution_count": 4,
     "metadata": {},
     "output_type": "execute_result"
    },
    {
     "name": "stderr",
     "output_type": "stream",
     "text": [
      "\u001b[36m(query_id_orm pid=18595)\u001b[0m /tmp/ipykernel_18293/2977066988.py:17: MovedIn20Warning: The ``declarative_base()`` function is now available as sqlalchemy.orm.declarative_base(). (deprecated since: 2.0) (Background on SQLAlchemy 2.0 at: https://sqlalche.me/e/b8d9)\n"
     ]
    }
   ],
   "source": [
    "ray.init()"
   ]
  },
  {
   "cell_type": "code",
   "execution_count": 5,
   "id": "c846d26d-000f-48a7-bc26-61e7bf68644a",
   "metadata": {},
   "outputs": [
    {
     "data": {
      "text/plain": [
       "{'accelerator_type:G': 1.0,\n",
       " 'node:__internal_head__': 1.0,\n",
       " 'CPU': 16.0,\n",
       " 'object_store_memory': 7858042060.0,\n",
       " 'memory': 15716084123.0,\n",
       " 'node:172.17.185.211': 1.0,\n",
       " 'GPU': 1.0}"
      ]
     },
     "execution_count": 5,
     "metadata": {},
     "output_type": "execute_result"
    }
   ],
   "source": [
    "ray.cluster_resources()"
   ]
  },
  {
   "cell_type": "code",
   "execution_count": 6,
   "id": "bb56d332-5303-4d62-97ec-379a44b05bab",
   "metadata": {},
   "outputs": [],
   "source": [
    "from sqlalchemy_utils import database_exists, create_database\n",
    "engine = create_engine('postgresql://postgres@localhost:5333/test')#,echo=True)"
   ]
  },
  {
   "cell_type": "code",
   "execution_count": 7,
   "id": "758b8f9c-a0e6-4ac1-9d0f-1fccf3e5645f",
   "metadata": {},
   "outputs": [],
   "source": [
    "# Initialize Spatialite extension\n",
    "@event.listens_for(engine, \"connect\")\n",
    "def connect(dbapi_connection, connection_record):\n",
    "    with dbapi_connection.cursor() as cursor:\n",
    "        cursor.execute('CREATE EXTENSION IF NOT EXISTS postgis;')"
   ]
  },
  {
   "cell_type": "code",
   "execution_count": 8,
   "id": "3f6edab2-5b39-48c6-9b72-7a99f831b7f0",
   "metadata": {
    "scrolled": true
   },
   "outputs": [
    {
     "name": "stderr",
     "output_type": "stream",
     "text": [
      "/tmp/ipykernel_18293/2057255873.py:2: MovedIn20Warning: The ``declarative_base()`` function is now available as sqlalchemy.orm.declarative_base(). (deprecated since: 2.0) (Background on SQLAlchemy 2.0 at: https://sqlalche.me/e/b8d9)\n",
      "  Base = declarative_base()\n"
     ]
    }
   ],
   "source": [
    "# Create a base class for our declarative mapping\n",
    "Base = declarative_base()\n",
    "\n",
    "# Define your SQLAlchemy model\n",
    "class GeometryModel(Base):\n",
    "    __tablename__ = 'geometries'\n",
    "    id = Column(Integer, primary_key=True)\n",
    "    name = Column(String)\n",
    "    geom = Column(Geometry('POLYGON'))\n",
    "\n",
    "    @property\n",
    "    def shapely_geom(self):\n",
    "        return load_wkb(self.geom.desc) if self.geom else None"
   ]
  },
  {
   "cell_type": "code",
   "execution_count": 9,
   "id": "5be61f3a-87db-4354-bcba-3230d23fd4fc",
   "metadata": {},
   "outputs": [],
   "source": [
    "# Create the table\n",
    "Base.metadata.create_all(engine)"
   ]
  },
  {
   "cell_type": "code",
   "execution_count": 10,
   "id": "50c29597-dc3e-4e97-b92c-23980daae864",
   "metadata": {},
   "outputs": [
    {
     "name": "stdout",
     "output_type": "stream",
     "text": [
      "1063260\n",
      "CPU times: user 17.7 ms, sys: 5.45 ms, total: 23.2 ms\n",
      "Wall time: 1.52 s\n"
     ]
    }
   ],
   "source": [
    "%%time\n",
    "# -- orm approach\n",
    "from sqlalchemy.orm import Session\n",
    "\n",
    "# Getting the total number of rows\n",
    "with Session(engine) as session:\n",
    "    total_rows = session.query(GeometryModel).count()\n",
    "print(total_rows)    "
   ]
  },
  {
   "cell_type": "code",
   "execution_count": 11,
   "id": "e6ece99e-a7c1-48b7-871c-137be957a30a",
   "metadata": {},
   "outputs": [],
   "source": [
    "@ray.remote\n",
    "def query_id_orm(random_index):\n",
    "    from sqlalchemy import create_engine, Column, String, Integer, func, event, text\n",
    "    from geoalchemy2 import Geometry \n",
    "\n",
    "    engine = create_engine('postgresql://postgres@localhost:5333/test')#,echo=True)\n",
    "\n",
    "    # Initialize Spatialite extension-\n",
    "    @event.listens_for(engine, \"connect\")\n",
    "    def connect(dbapi_connection, connection_record):\n",
    "        with dbapi_connection.cursor() as cursor:\n",
    "            cursor.execute('CREATE EXTENSION IF NOT EXISTS postgis;')\n",
    "    \n",
    "    try:\n",
    "\n",
    "       # Create a base class for our declarative mapping\n",
    "        Base = declarative_base()\n",
    "        \n",
    "        # Define your SQLAlchemy model\n",
    "        class GeometryModel(Base):\n",
    "            __tablename__ = 'geometries'\n",
    "            id = Column(Integer, primary_key=True)\n",
    "            name = Column(String)\n",
    "            geom = Column(Geometry('POLYGON'))\n",
    "        \n",
    "            @property\n",
    "            def shapely_geom(self):\n",
    "                return load_wkb(self.geom.desc) if self.geom else None\n",
    "\n",
    "\n",
    "        with Session(engine) as session:\n",
    "            #random_row = session.query(GeometryModel).filter_by(id=random_index).first()\n",
    "            random_row = session.query(GeometryModel).first()\n",
    "            #--- approach 1 - return only id\n",
    "            return random_row.id\n",
    "            #--- approach 2 - inline convert to shapely\n",
    "            # geom = random_row.shapely_geom #force convert\n",
    "            # return random_row.id\n",
    "            #--- approach 3 - inline convert to shapely and compute area\n",
    "            #return random_row.shapely_geom.area\n",
    "                \n",
    "\n",
    "    except Exception as inst:\n",
    "        print(inst)\n",
    "        pass\n",
    "    finally:\n",
    "        engine.dispose() ##might be needed? --- yes needed"
   ]
  },
  {
   "cell_type": "code",
   "execution_count": 13,
   "id": "54a40243-7009-4501-83c1-b46a4e21b7a1",
   "metadata": {},
   "outputs": [
    {
     "name": "stderr",
     "output_type": "stream",
     "text": [
      "100%|██████████████████████████████████████████████████████████████████████████████████████████████████████████████████████████████████████████████████████████████████████████████████████████████████████████████████████████████████| 10000/10000 [00:44<00:00, 222.70it/s]"
     ]
    },
    {
     "name": "stdout",
     "output_type": "stream",
     "text": [
      "CPU times: user 13.4 s, sys: 3.08 s, total: 16.4 s\n",
      "Wall time: 47.5 s\n"
     ]
    },
    {
     "name": "stderr",
     "output_type": "stream",
     "text": [
      "\n"
     ]
    }
   ],
   "source": [
    "%%time\n",
    "futures = [] \n",
    "for _ in range(10_000):\n",
    "    random_index = random.randint(1, total_rows)\n",
    "    futures.append(query_id_orm.remote(random_index))\n",
    "    \n",
    "for f in tqdm(futures):\n",
    "    ray.get(f)"
   ]
  },
  {
   "cell_type": "markdown",
   "id": "ab141ea7-4ce5-4092-8c28-ab8ed3a3f302",
   "metadata": {},
   "source": [
    "### test multiple"
   ]
  },
  {
   "cell_type": "code",
   "execution_count": null,
   "id": "329670db-0abe-4bea-abdf-cd71d3693640",
   "metadata": {},
   "outputs": [],
   "source": [
    "@ray.remote\n",
    "def query_id_orm_bulk(total_rows,num):\n",
    "    from sqlalchemy import create_engine, Column, String, Integer, func, event, text\n",
    "    from geoalchemy2 import Geometry \n",
    "\n",
    "    engine = create_engine('postgresql://postgres@localhost:5333/test')#,echo=True)\n",
    "\n",
    "    # Initialize Spatialite extension-\n",
    "    @event.listens_for(engine, \"connect\")\n",
    "    def connect(dbapi_connection, connection_record):\n",
    "        with dbapi_connection.cursor() as cursor:\n",
    "            cursor.execute('CREATE EXTENSION IF NOT EXISTS postgis;')\n",
    "    \n",
    "    try:\n",
    "\n",
    "       # Create a base class for our declarative mapping\n",
    "        Base = declarative_base()\n",
    "        \n",
    "        # Define your SQLAlchemy model\n",
    "        class GeometryModel(Base):\n",
    "            __tablename__ = 'geometries'\n",
    "            id = Column(Integer, primary_key=True)\n",
    "            name = Column(String)\n",
    "            geom = Column(Geometry('POLYGON'))\n",
    "        \n",
    "            @property\n",
    "            def shapely_geom(self):\n",
    "                return load_wkb(self.geom.desc) if self.geom else None\n",
    "\n",
    "        retval=[]\n",
    "        with Session(engine) as session:\n",
    "            for _ in range(num):\n",
    "                random_index = random.randint(1, total_rows)\n",
    "                random_row = session.query(GeometryModel).filter_by(id=random_index).first()\n",
    "                retval.append(random_row.id)\n",
    "        #     #--- approach 1 - return only id\n",
    "        #     return random_row.id\n",
    "        #     #--- approach 2 - inline convert to shapely\n",
    "        #     # geom = random_row.shapely_geom #force convert\n",
    "        #     # return random_row.id\n",
    "        #     #--- approach 3 - inline convert to shapely and compute area\n",
    "        #     #return random_row.shapely_geom.area\n",
    "        return retval\n",
    "\n",
    "    except Exception as inst:\n",
    "        print(inst)\n",
    "        pass\n",
    "    finally:\n",
    "        engine.dispose() ##might be needed? --- yes needed"
   ]
  },
  {
   "cell_type": "code",
   "execution_count": null,
   "id": "5c3e427c-ec94-4884-a01d-8e7d07c60181",
   "metadata": {},
   "outputs": [],
   "source": [
    "%%time\n",
    "futures = [] \n",
    "num=80\n",
    "for _ in range(128):\n",
    "    futures.append(query_id_orm_bulk.remote(total_rows,num))\n",
    "    \n",
    "for f in tqdm(futures):\n",
    "    ray.get(f)"
   ]
  },
  {
   "cell_type": "code",
   "execution_count": null,
   "id": "44f1b626-db05-40a5-8286-80be90de2773",
   "metadata": {},
   "outputs": [],
   "source": [
    "len(sum(ray.get(futures),[]))"
   ]
  },
  {
   "cell_type": "code",
   "execution_count": null,
   "id": "8f1f1928-50cb-4547-a71e-0d8cbda9996a",
   "metadata": {},
   "outputs": [],
   "source": [
    "ray.get(futures)"
   ]
  },
  {
   "cell_type": "code",
   "execution_count": null,
   "id": "c136c9c2-dbd6-4307-8d5c-96340e1ec62a",
   "metadata": {},
   "outputs": [],
   "source": []
  },
  {
   "cell_type": "code",
   "execution_count": null,
   "id": "5f45a4bc-2178-4dba-8c7e-82ee1307f10d",
   "metadata": {},
   "outputs": [],
   "source": [
    "@ray.remote\n",
    "def query_id_wkb(random_index):\n",
    "    from sqlalchemy import create_engine, Column, String, Integer, func, event, text\n",
    "    from geoalchemy2 import Geometry \n",
    "\n",
    "    engine = create_engine('postgresql://postgres@localhost:5333/test')#,echo=True)\n",
    "\n",
    "    # Initialize Spatialite extension-\n",
    "    @event.listens_for(engine, \"connect\")\n",
    "    def connect(dbapi_connection, connection_record):\n",
    "        with dbapi_connection.cursor() as cursor:\n",
    "            cursor.execute('CREATE EXTENSION IF NOT EXISTS postgis;')\n",
    "    \n",
    "    try:\n",
    "\n",
    "       # Create a base class for our declarative mapping\n",
    "        Base = declarative_base()\n",
    "        \n",
    "        # Define your SQLAlchemy model\n",
    "        class GeometryModel(Base):\n",
    "            __tablename__ = 'geometries'\n",
    "            id = Column(Integer, primary_key=True)\n",
    "            name = Column(String)\n",
    "            geom = Column(Geometry('POLYGON'))\n",
    "        \n",
    "            @property\n",
    "            def shapely_geom(self):\n",
    "                return load_wkb(self.geom.desc) if self.geom else None\n",
    "\n",
    "        with engine.connect() as conn:\n",
    "            random_row = conn.execute(\n",
    "                text(f'''\n",
    "                SELECT id,geom\n",
    "                FROM geometries \n",
    "                WHERE id = {random_index}\n",
    "                ''')\n",
    "            ).fetchone()\n",
    "            obj=shapely.wkb.loads(random_row[1])\n",
    "\n",
    "            return random_row[0]\n",
    "            #return obj.area\n",
    "\n",
    "    except Exception as inst:\n",
    "        print(inst)\n",
    "        pass\n",
    "    finally:\n",
    "        engine.dispose() ##might be needed? --- yes needed"
   ]
  },
  {
   "cell_type": "code",
   "execution_count": null,
   "id": "26e3dc64-bca7-4f0d-9d70-7aef3b1456d0",
   "metadata": {
    "scrolled": true
   },
   "outputs": [],
   "source": [
    "%%time\n",
    "futures = [] \n",
    "for _ in range(10_000):\n",
    "    random_index = random.randint(1, total_rows)\n",
    "    futures.append(query_id_wkb.remote(random_index))\n",
    "    \n",
    "for f in tqdm(futures):\n",
    "    ray.get(f)"
   ]
  },
  {
   "cell_type": "code",
   "execution_count": null,
   "id": "6900d4a6-a587-4459-80f8-77860685618e",
   "metadata": {},
   "outputs": [],
   "source": [
    "@ray.remote\n",
    "def query_id_geojson(random_index):\n",
    "    from sqlalchemy import create_engine, Column, String, Integer, func, event, text\n",
    "    from geoalchemy2 import Geometry \n",
    "\n",
    "    engine = create_engine('postgresql://postgres@localhost:5333/test')#,echo=True)\n",
    "\n",
    "    # Initialize Spatialite extension-\n",
    "    @event.listens_for(engine, \"connect\")\n",
    "    def connect(dbapi_connection, connection_record):\n",
    "        with dbapi_connection.cursor() as cursor:\n",
    "            cursor.execute('CREATE EXTENSION IF NOT EXISTS postgis;')\n",
    "    \n",
    "    try:\n",
    "\n",
    "       # Create a base class for our declarative mapping\n",
    "        Base = declarative_base()\n",
    "        \n",
    "        # Define your SQLAlchemy model\n",
    "        class GeometryModel(Base):\n",
    "            __tablename__ = 'geometries'\n",
    "            id = Column(Integer, primary_key=True)\n",
    "            name = Column(String)\n",
    "            geom = Column(Geometry('POLYGON'))\n",
    "        \n",
    "            @property\n",
    "            def shapely_geom(self):\n",
    "                return load_wkb(self.geom.desc) if self.geom else None\n",
    "\n",
    "        with engine.connect() as conn:\n",
    "            random_row = conn.execute(\n",
    "                text(f'''\n",
    "                SELECT id, ST_AsGeoJSON(geom) as geom \n",
    "                FROM geometries \n",
    "                WHERE id = {random_index}\n",
    "                ''')\n",
    "            ).fetchone()\n",
    "            return len(random_row[1])\n",
    "            \n",
    "\n",
    "\n",
    "    except Exception as inst:\n",
    "        print(inst)\n",
    "        pass\n",
    "    finally:\n",
    "        engine.dispose() ##might be needed? --- yes needed"
   ]
  },
  {
   "cell_type": "code",
   "execution_count": null,
   "id": "43f72d93-0018-4f2b-898d-add3c3c7b43a",
   "metadata": {
    "scrolled": true
   },
   "outputs": [],
   "source": [
    "%%time\n",
    "futures = [] \n",
    "for _ in range(10_000):\n",
    "    random_index = random.randint(1, total_rows)\n",
    "    futures.append(query_id_geojson.remote(random_index))\n",
    "    \n",
    "for f in tqdm(futures):\n",
    "    ray.get(f)"
   ]
  },
  {
   "cell_type": "code",
   "execution_count": null,
   "id": "51044112-f90e-49ff-8a1a-a12933f7f627",
   "metadata": {},
   "outputs": [],
   "source": [
    "ray.get(futures)"
   ]
  },
  {
   "cell_type": "code",
   "execution_count": null,
   "id": "73d35e95-6263-4f62-81a7-b078c5eb972f",
   "metadata": {},
   "outputs": [],
   "source": [
    "@ray.remote\n",
    "def query_id_geojson_area(random_index):\n",
    "    from sqlalchemy import create_engine, Column, String, Integer, func, event, text\n",
    "    from geoalchemy2 import Geometry \n",
    "\n",
    "    engine = create_engine('postgresql://postgres@localhost:5333/test')#,echo=True)\n",
    "\n",
    "    # Initialize Spatialite extension-\n",
    "    @event.listens_for(engine, \"connect\")\n",
    "    def connect(dbapi_connection, connection_record):\n",
    "        with dbapi_connection.cursor() as cursor:\n",
    "            cursor.execute('CREATE EXTENSION IF NOT EXISTS postgis;')\n",
    "    \n",
    "    try:\n",
    "\n",
    "       # Create a base class for our declarative mapping\n",
    "        Base = declarative_base()\n",
    "        \n",
    "        # Define your SQLAlchemy model\n",
    "        class GeometryModel(Base):\n",
    "            __tablename__ = 'geometries'\n",
    "            id = Column(Integer, primary_key=True)\n",
    "            name = Column(String)\n",
    "            geom = Column(Geometry('POLYGON'))\n",
    "        \n",
    "            @property\n",
    "            def shapely_geom(self):\n",
    "                return load_wkb(self.geom.desc) if self.geom else None\n",
    "        \n",
    "        with engine.connect() as conn:\n",
    "            random_row = conn.execute(\n",
    "                text(f'''\n",
    "                SELECT id, ST_AsGeoJSON(geom) as geom\n",
    "                FROM geometries\n",
    "                WHERE id = {random_index}\n",
    "                ''')\n",
    "            ).fetchone()\n",
    "        obj=shapely.from_geojson(random_row[1])\n",
    "        return obj.area\n",
    "            \n",
    "\n",
    "\n",
    "    except Exception as inst:\n",
    "        print(inst)\n",
    "        pass\n",
    "    finally:\n",
    "        engine.dispose() ##might be needed? --- yes needed"
   ]
  },
  {
   "cell_type": "code",
   "execution_count": null,
   "id": "69bc3026-739e-45ea-8676-1a968ab911ba",
   "metadata": {},
   "outputs": [],
   "source": [
    "%%time\n",
    "futures = [] \n",
    "for _ in range(10_000):\n",
    "    random_index = random.randint(1, total_rows)\n",
    "    futures.append(query_id_geojson_area.remote(random_index))\n",
    "    \n",
    "for f in tqdm(futures):\n",
    "    ray.get(f)"
   ]
  },
  {
   "cell_type": "code",
   "execution_count": null,
   "id": "ca537062-381d-44a2-adda-a4a21bd7c8a6",
   "metadata": {},
   "outputs": [],
   "source": [
    "@ray.remote\n",
    "def query_id_geojson_dynamic_centroid(random_index):\n",
    "    from sqlalchemy import create_engine, Column, String, Integer, func, event, text\n",
    "    from geoalchemy2 import Geometry \n",
    "\n",
    "    engine = create_engine('postgresql://postgres@localhost:5333/test')#,echo=True)\n",
    "\n",
    "    # Initialize Spatialite extension-\n",
    "    @event.listens_for(engine, \"connect\")\n",
    "    def connect(dbapi_connection, connection_record):\n",
    "        with dbapi_connection.cursor() as cursor:\n",
    "            cursor.execute('CREATE EXTENSION IF NOT EXISTS postgis;')\n",
    "    \n",
    "    try:\n",
    "\n",
    "       # Create a base class for our declarative mapping\n",
    "        Base = declarative_base()\n",
    "        \n",
    "        # Define your SQLAlchemy model\n",
    "        class GeometryModel(Base):\n",
    "            __tablename__ = 'geometries'\n",
    "            id = Column(Integer, primary_key=True)\n",
    "            name = Column(String)\n",
    "            geom = Column(Geometry('POLYGON'))\n",
    "        \n",
    "            @property\n",
    "            def shapely_geom(self):\n",
    "                return load_wkb(self.geom.desc) if self.geom else None\n",
    "        \n",
    "        with engine.connect() as conn:\n",
    "            random_row = conn.execute(\n",
    "                text(f'''\n",
    "                SELECT id, ST_AsGeoJSON(geom) as geom, ST_AsGeoJSON(ST_Centroid(geom)) as centroid \n",
    "                FROM geometries \n",
    "                WHERE id = {random_index}\n",
    "                ''')\n",
    "            ).fetchone()\n",
    "        return len(random_row[1])\n",
    "            \n",
    "\n",
    "\n",
    "    except Exception as inst:\n",
    "        print(inst)\n",
    "        pass\n",
    "    finally:\n",
    "        engine.dispose() ##might be needed? --- yes needed"
   ]
  },
  {
   "cell_type": "code",
   "execution_count": null,
   "id": "737d7239-f739-459d-a2da-e95cc4917293",
   "metadata": {},
   "outputs": [],
   "source": [
    "%%time\n",
    "futures = [] \n",
    "for _ in range(10_000):\n",
    "    random_index = random.randint(1, total_rows)\n",
    "    futures.append(query_id_geojson_dynamic_centroid.remote(random_index))\n",
    "    \n",
    "for f in tqdm(futures):\n",
    "    ray.get(f)"
   ]
  },
  {
   "cell_type": "code",
   "execution_count": null,
   "id": "22803841-a54d-4c14-b218-304a6d53ad52",
   "metadata": {},
   "outputs": [],
   "source": []
  },
  {
   "cell_type": "code",
   "execution_count": null,
   "id": "2f2668e7-56ea-402d-8eb1-80012ee71f82",
   "metadata": {},
   "outputs": [],
   "source": []
  },
  {
   "cell_type": "code",
   "execution_count": null,
   "id": "48d76093-5f63-47a0-8c25-dfda8c8c43f3",
   "metadata": {},
   "outputs": [],
   "source": []
  },
  {
   "cell_type": "markdown",
   "id": "04ab10ec-699e-4903-8cb5-e9c301d6679d",
   "metadata": {},
   "source": [
    "### below are spatial query tests"
   ]
  },
  {
   "cell_type": "code",
   "execution_count": null,
   "id": "51c8eaa8-21e8-4fc5-b8a6-43b04107d0a0",
   "metadata": {},
   "outputs": [],
   "source": [
    "%%timeit\n",
    "random_index = random.randint(1, total_rows)\n",
    "    \n",
    "half_bbox_size= 500\n",
    "# Step 3: Query for the specific row based on the random index\n",
    "with engine.connect() as conn:\n",
    "    random_row = conn.execute(\n",
    "        text(f'''\n",
    "        SELECT id, ST_AsGeoJSON(ST_Centroid(geom)) as centroid \n",
    "        FROM geometries \n",
    "        WHERE id = {random_index}\n",
    "        ''')\n",
    "    ).fetchone()\n",
    "    \n",
    "    centroid_x,centroid_y=orjson.loads(random_row[1])['coordinates']\n",
    "\n",
    "    bounding_box_polygons = conn.execute(\n",
    "        text(f'''\n",
    "        SELECT id, ST_AsGeoJSON(geom) as geom \n",
    "        FROM geometries \n",
    "        WHERE ST_Intersects(\n",
    "            geom,\n",
    "            ST_MakeEnvelope(\n",
    "                {centroid_x - half_bbox_size}, {centroid_y - half_bbox_size},\n",
    "                {centroid_x + half_bbox_size}, {centroid_y + half_bbox_size},\n",
    "                4326\n",
    "            )\n",
    "        )\n",
    "        ''')\n",
    "     ).fetchall()\n",
    "\n",
    "\n",
    "\n",
    "print(len(bounding_box_polygons), end= \" \" )"
   ]
  },
  {
   "cell_type": "code",
   "execution_count": null,
   "id": "784cd245-b924-4b12-94d4-4f534bd119ef",
   "metadata": {},
   "outputs": [],
   "source": [
    "%%timeit\n",
    "random_index = random.randint(1, total_rows)\n",
    "    \n",
    "half_bbox_size= 6_000\n",
    "# Step 3: Query for the specific row based on the random index\n",
    "with engine.connect() as conn:\n",
    "    random_row = conn.execute(\n",
    "        text(f'''\n",
    "        SELECT id, ST_AsGeoJSON(centroid) as centroid \n",
    "        FROM geometries \n",
    "        WHERE id = {random_index}\n",
    "        ''')\n",
    "    ).fetchone()\n",
    "    \n",
    "    centroid_x,centroid_y=orjson.loads(random_row[1])['coordinates']\n",
    "\n",
    "    bounding_box_polygons = conn.execute(\n",
    "        text(f'''\n",
    "        SELECT id, ST_AsGeoJSON(geom) as geom \n",
    "        FROM geometries \n",
    "        WHERE ST_Intersects(\n",
    "            centroid,\n",
    "            ST_MakeEnvelope(\n",
    "                {centroid_x - half_bbox_size}, {centroid_y - half_bbox_size},\n",
    "                {centroid_x + half_bbox_size}, {centroid_y + half_bbox_size},\n",
    "                4326\n",
    "            )\n",
    "        )\n",
    "        ''')\n",
    "     ).fetchall()\n",
    "\n",
    "\n",
    "\n",
    "print(len(bounding_box_polygons), end= \" \" )"
   ]
  },
  {
   "cell_type": "code",
   "execution_count": null,
   "id": "a5a28a55-6bf2-4d19-a60a-6da809f9b75b",
   "metadata": {},
   "outputs": [],
   "source": []
  },
  {
   "cell_type": "code",
   "execution_count": null,
   "id": "abb1a22f-9ddf-4a80-b13b-351d7e0a7135",
   "metadata": {},
   "outputs": [],
   "source": []
  }
 ],
 "metadata": {
  "jupytext": {
   "formats": "ipynb,py"
  },
  "kernelspec": {
   "display_name": "Python 3 (ipykernel)",
   "language": "python",
   "name": "python3"
  },
  "language_info": {
   "codemirror_mode": {
    "name": "ipython",
    "version": 3
   },
   "file_extension": ".py",
   "mimetype": "text/x-python",
   "name": "python",
   "nbconvert_exporter": "python",
   "pygments_lexer": "ipython3",
   "version": "3.10.12"
  }
 },
 "nbformat": 4,
 "nbformat_minor": 5
}
