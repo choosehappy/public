{
 "cells": [
  {
   "cell_type": "code",
   "execution_count": 1,
   "id": "4dfed961-daf2-4386-98a9-5b794a0f309d",
   "metadata": {},
   "outputs": [],
   "source": [
    "import orjson\n",
    "\n",
    "from sqlalchemy import create_engine, Column, String, Integer, func, event, text\n",
    "from sqlalchemy.ext.declarative import declarative_base\n",
    "from sqlalchemy.dialects.postgresql import ARRAY\n",
    "from sqlalchemy.orm import sessionmaker\n",
    "from geoalchemy2 import Geometry \n",
    "from tqdm import tqdm\n",
    "from shapely.wkt import dumps\n",
    "import shapely\n",
    "from shapely.wkb import loads as load_wkb\n",
    "import random"
   ]
  },
  {
   "cell_type": "code",
   "execution_count": 2,
   "id": "3e12fd0b-6eb8-4c77-9382-0f51a0a71f00",
   "metadata": {},
   "outputs": [],
   "source": [
    "from sqlalchemy import create_engine\n",
    "from sqlalchemy_utils import database_exists, create_database"
   ]
  },
  {
   "cell_type": "code",
   "execution_count": 3,
   "id": "bb56d332-5303-4d62-97ec-379a44b05bab",
   "metadata": {},
   "outputs": [],
   "source": [
    "db_path = 'sqlite:////tmp/blog/spatialite_core_orm.db'\n",
    "engine = create_engine(db_path,echo=True)"
   ]
  },
  {
   "cell_type": "code",
   "execution_count": 4,
   "id": "758b8f9c-a0e6-4ac1-9d0f-1fccf3e5645f",
   "metadata": {},
   "outputs": [],
   "source": [
    "# Initialize Spatialite extension\n",
    "@event.listens_for(engine, \"connect\")\n",
    "def connect(dbapi_connection, connection_record):\n",
    "    dbapi_connection.enable_load_extension(True)\n",
    "    dbapi_connection.execute('SELECT load_extension(\"mod_spatialite\")')\n",
    "    dbapi_connection.execute('SELECT InitSpatialMetaData(1);')\n"
   ]
  },
  {
   "cell_type": "code",
   "execution_count": 5,
   "id": "3f6edab2-5b39-48c6-9b72-7a99f831b7f0",
   "metadata": {
    "scrolled": true
   },
   "outputs": [
    {
     "name": "stderr",
     "output_type": "stream",
     "text": [
      "/tmp/ipykernel_34877/3638041328.py:2: MovedIn20Warning: The ``declarative_base()`` function is now available as sqlalchemy.orm.declarative_base(). (deprecated since: 2.0) (Background on SQLAlchemy 2.0 at: https://sqlalche.me/e/b8d9)\n",
      "  Base = declarative_base()\n"
     ]
    }
   ],
   "source": [
    "# Create a base class for our declarative mapping\n",
    "Base = declarative_base()\n",
    "\n",
    "# Define your SQLAlchemy model\n",
    "class GeometryModel(Base):\n",
    "    __tablename__ = 'geometries'\n",
    "    id = Column(Integer, primary_key=True)\n",
    "    name = Column(String)\n",
    "    geom = Column(Geometry('POLYGON'))\n",
    "    centroid = Column(Geometry('POINT'))\n",
    "\n",
    "\n",
    "    @property\n",
    "    def shapely_geom(self):\n",
    "        return load_wkb(self.geom.desc) if self.geom else None"
   ]
  },
  {
   "cell_type": "code",
   "execution_count": 6,
   "id": "5be61f3a-87db-4354-bcba-3230d23fd4fc",
   "metadata": {},
   "outputs": [
    {
     "name": "stdout",
     "output_type": "stream",
     "text": [
      "2024-11-06 22:37:26,628 INFO sqlalchemy.engine.Engine BEGIN (implicit)\n",
      "2024-11-06 22:37:26,629 INFO sqlalchemy.engine.Engine PRAGMA main.table_info(\"geometries\")\n",
      "2024-11-06 22:37:26,630 INFO sqlalchemy.engine.Engine [raw sql] ()\n",
      "2024-11-06 22:37:26,631 INFO sqlalchemy.engine.Engine COMMIT\n"
     ]
    },
    {
     "name": "stderr",
     "output_type": "stream",
     "text": [
      "InitSpatiaMetaData() error:\"table spatial_ref_sys already exists\"\n"
     ]
    }
   ],
   "source": [
    "# Create the table\n",
    "Base.metadata.create_all(engine)"
   ]
  },
  {
   "cell_type": "code",
   "execution_count": 7,
   "id": "50c29597-dc3e-4e97-b92c-23980daae864",
   "metadata": {},
   "outputs": [
    {
     "name": "stdout",
     "output_type": "stream",
     "text": [
      "2024-11-06 22:37:26,754 INFO sqlalchemy.engine.Engine BEGIN (implicit)\n",
      "2024-11-06 22:37:26,759 INFO sqlalchemy.engine.Engine SELECT count(*) AS count_1 \n",
      "FROM (SELECT geometries.id AS geometries_id, geometries.name AS geometries_name, geometries.geom AS geometries_geom, geometries.centroid AS geometries_centroid \n",
      "FROM geometries) AS anon_1\n",
      "2024-11-06 22:37:26,759 INFO sqlalchemy.engine.Engine [generated in 0.00083s] ()\n",
      "2024-11-06 22:37:27,308 INFO sqlalchemy.engine.Engine ROLLBACK\n",
      "1063260\n",
      "CPU times: user 73.6 ms, sys: 484 ms, total: 558 ms\n",
      "Wall time: 556 ms\n"
     ]
    }
   ],
   "source": [
    "%%time\n",
    "# -- orm approach\n",
    "from sqlalchemy.orm import Session\n",
    "\n",
    "# Getting the total number of rows\n",
    "with Session(engine) as session:\n",
    "    total_rows = session.query(GeometryModel).count()\n",
    "print(total_rows)    "
   ]
  },
  {
   "cell_type": "markdown",
   "id": "af032e1f-602b-41b8-9a33-395893b0d65b",
   "metadata": {},
   "source": [
    "#### Query Spatial Intersection "
   ]
  },
  {
   "cell_type": "markdown",
   "id": "8304cbeb-fb9d-4562-be09-fe597fa0dd57",
   "metadata": {},
   "source": [
    "## Core"
   ]
  },
  {
   "cell_type": "markdown",
   "id": "d4b7e6f1-8283-48c0-974a-1a0d688a3fe7",
   "metadata": {},
   "source": [
    "### Geom"
   ]
  },
  {
   "cell_type": "markdown",
   "id": "7c52726f-ab98-4f00-8b98-5374d894ffd9",
   "metadata": {},
   "source": [
    "Query Spatial Count-only Intersection "
   ]
  },
  {
   "cell_type": "code",
   "execution_count": null,
   "id": "16c29d65-4b81-474e-874b-101707718128",
   "metadata": {},
   "outputs": [],
   "source": [
    "%%timeit\n",
    "#--- Core approach\n",
    "## --- this is for counts only\n",
    "\n",
    "random_index = random.randint(1, total_rows)\n",
    "    \n",
    "half_bbox_size= 6000\n",
    "# Step 3: Query for the specific row based on the random index\n",
    "with engine.connect() as conn:\n",
    "    random_row = conn.execute(\n",
    "        text(f'''\n",
    "        SELECT id, AsGeoJSON(centroid) as centroid \n",
    "        FROM geometries \n",
    "        WHERE id = {random_index}\n",
    "        ''')\n",
    "    ).fetchone()\n",
    "    \n",
    "    centroid_x,centroid_y=orjson.loads(random_row[1])['coordinates']\n",
    "\n",
    "    npolys = conn.execute(\n",
    "        text(f'''\n",
    "        SELECT count(geom) \n",
    "        FROM geometries \n",
    "        WHERE geometries.ROWID IN (\n",
    "        SELECT ROWID\n",
    "        FROM SpatialIndex\n",
    "        WHERE f_table_name = 'geometries'\n",
    "            AND f_geometry_column = 'geom'\n",
    "           AND search_frame =             BuildMBR(\n",
    "                {centroid_x - half_bbox_size}, {centroid_y - half_bbox_size},\n",
    "                {centroid_x + half_bbox_size}, {centroid_y + half_bbox_size}\n",
    "            ))\n",
    "        ''')\n",
    "     ).fetchone()\n",
    "\n",
    "\n",
    "#print(npolys, end= \" \" )"
   ]
  },
  {
   "cell_type": "markdown",
   "id": "d4dcd92e-31cc-4460-abd4-e7dc61099a77",
   "metadata": {},
   "source": [
    "id only"
   ]
  },
  {
   "cell_type": "code",
   "execution_count": null,
   "id": "324e297d-28be-4b69-8556-ab3260ba1b17",
   "metadata": {},
   "outputs": [],
   "source": [
    "%%timeit\n",
    "#--- Core approach\n",
    "## --- this is for counts only\n",
    "\n",
    "random_index = random.randint(1, total_rows)\n",
    "    \n",
    "half_bbox_size= 6000\n",
    "# Step 3: Query for the specific row based on the random index\n",
    "with engine.connect() as conn:\n",
    "    random_row = conn.execute(\n",
    "        text(f'''\n",
    "        SELECT id, AsGeoJSON(centroid) as centroid \n",
    "        FROM geometries \n",
    "        WHERE id = {random_index}\n",
    "        ''')\n",
    "    ).fetchone()\n",
    "    \n",
    "    centroid_x,centroid_y=orjson.loads(random_row[1])['coordinates']\n",
    "\n",
    "    npolys = conn.execute(\n",
    "        text(f'''\n",
    "        SELECT id\n",
    "        FROM geometries \n",
    "        WHERE geometries.ROWID IN (\n",
    "        SELECT ROWID\n",
    "        FROM SpatialIndex\n",
    "        WHERE f_table_name = 'geometries'\n",
    "            AND f_geometry_column = 'geom'\n",
    "           AND search_frame =             BuildMBR(\n",
    "                {centroid_x - half_bbox_size}, {centroid_y - half_bbox_size},\n",
    "                {centroid_x + half_bbox_size}, {centroid_y + half_bbox_size}\n",
    "            ))\n",
    "        ''')\n",
    "     ).fetchall()\n",
    "\n",
    "\n",
    "#print(len(npolys), end= \" \" )"
   ]
  },
  {
   "cell_type": "markdown",
   "id": "a4d22459-4f62-45d9-92b1-ddceebecc849",
   "metadata": {},
   "source": [
    "return with geojson"
   ]
  },
  {
   "cell_type": "code",
   "execution_count": null,
   "id": "d0768c41-15ab-43c3-81c5-257328b0f249",
   "metadata": {},
   "outputs": [],
   "source": [
    "%%timeit\n",
    "#--- Core approach\n",
    "## --- this is for counts only\n",
    "\n",
    "random_index = random.randint(1, total_rows)\n",
    "    \n",
    "half_bbox_size= 6000\n",
    "# Step 3: Query for the specific row based on the random index\n",
    "with engine.connect() as conn:\n",
    "    random_row = conn.execute(\n",
    "        text(f'''\n",
    "        SELECT id, AsGeoJSON(centroid) as centroid \n",
    "        FROM geometries \n",
    "        WHERE id = {random_index}\n",
    "        ''')\n",
    "    ).fetchone()\n",
    "    \n",
    "    centroid_x,centroid_y=orjson.loads(random_row[1])['coordinates']\n",
    "\n",
    " \n",
    "    npolys = conn.execute(\n",
    "        text(f'''\n",
    "        SELECT AsGeoJSON(geom)\n",
    "        FROM geometries \n",
    "        WHERE geometries.ROWID IN (\n",
    "        SELECT ROWID\n",
    "        FROM SpatialIndex\n",
    "        WHERE f_table_name = 'geometries'\n",
    "            AND f_geometry_column = 'geom'\n",
    "           AND search_frame =             BuildMBR(\n",
    "                {centroid_x - half_bbox_size}, {centroid_y - half_bbox_size},\n",
    "                {centroid_x + half_bbox_size}, {centroid_y + half_bbox_size}\n",
    "            ))\n",
    "        ''')\n",
    "     ).fetchall()\n",
    "\n",
    "\n",
    "#print(npolys, end= \" \" )"
   ]
  },
  {
   "cell_type": "markdown",
   "id": "0203068d-fc6e-40f9-ac28-b45cac7f4765",
   "metadata": {},
   "source": [
    "### Centroid"
   ]
  },
  {
   "attachments": {},
   "cell_type": "markdown",
   "id": "9b649b0a-4ab0-4981-9fa0-552fdc1977f5",
   "metadata": {},
   "source": [
    "Query Spatial Count-only Intersection "
   ]
  },
  {
   "cell_type": "code",
   "execution_count": null,
   "id": "a54a2d1a-33eb-49b0-bb9d-443d7b77acb6",
   "metadata": {},
   "outputs": [],
   "source": [
    "%%timeit\n",
    "#--- Core approach\n",
    "## --- this is for counts only\n",
    "\n",
    "random_index = random.randint(1, total_rows)\n",
    "    \n",
    "half_bbox_size= 6000\n",
    "# Step 3: Query for the specific row based on the random index\n",
    "with engine.connect() as conn:\n",
    "    random_row = conn.execute(\n",
    "        text(f'''\n",
    "        SELECT id, AsGeoJSON(centroid) as centroid \n",
    "        FROM geometries \n",
    "        WHERE id = {random_index}\n",
    "        ''')\n",
    "    ).fetchone()\n",
    "    \n",
    "    centroid_x,centroid_y=orjson.loads(random_row[1])['coordinates']\n",
    "\n",
    "    npolys = conn.execute(\n",
    "        text(f'''\n",
    "        SELECT count(geom) \n",
    "        FROM geometries \n",
    "         WHERE geometries.ROWID IN (\n",
    "        SELECT ROWID\n",
    "        FROM SpatialIndex\n",
    "        WHERE f_table_name = 'geometries'\n",
    "            AND f_geometry_column = 'centroid'\n",
    "           AND search_frame =             BuildMBR(\n",
    "                {centroid_x - half_bbox_size}, {centroid_y - half_bbox_size},\n",
    "                {centroid_x + half_bbox_size}, {centroid_y + half_bbox_size}\n",
    "            ))\n",
    "        ''')\n",
    "     ).fetchone()\n",
    "\n",
    "\n",
    "\n",
    "#print(npolys, end= \" \" )"
   ]
  },
  {
   "cell_type": "code",
   "execution_count": null,
   "id": "223c41ff-6c86-4e9e-af32-ebea053e8e11",
   "metadata": {},
   "outputs": [],
   "source": [
    "s=\"(110316,) (89460,) (102888,) (97608,) (99024,) (117720,) (84444,) (128844,)\""
   ]
  },
  {
   "cell_type": "code",
   "execution_count": null,
   "id": "44c81213-595c-417c-81fe-faec1ce26ae7",
   "metadata": {},
   "outputs": [],
   "source": [
    "import numpy as np\n",
    "s=s.replace(\"(\",\"\").replace(\")\",\"\")\n",
    "numbers = [int(num.strip()) for num in s.split(',') if num.strip()]\n",
    "\n",
    "print(np.mean(numbers))"
   ]
  },
  {
   "cell_type": "markdown",
   "id": "7bb70d3a-6687-43ba-967e-72954f68a4d4",
   "metadata": {},
   "source": [
    "id only"
   ]
  },
  {
   "cell_type": "code",
   "execution_count": null,
   "id": "ff53e7bc-c8bd-4da8-896a-f8b9c1434a94",
   "metadata": {},
   "outputs": [],
   "source": [
    "%%timeit\n",
    "#--- Core approach\n",
    "## --- this is for counts only\n",
    "\n",
    "random_index = random.randint(1, total_rows)\n",
    "    \n",
    "half_bbox_size= 6000\n",
    "# Step 3: Query for the specific row based on the random index\n",
    "with engine.connect() as conn:\n",
    "    random_row = conn.execute(\n",
    "        text(f'''\n",
    "        SELECT id, AsGeoJSON(centroid) as centroid \n",
    "        FROM geometries \n",
    "        WHERE id = {random_index}\n",
    "        ''')\n",
    "    ).fetchone()\n",
    "    \n",
    "    centroid_x,centroid_y=orjson.loads(random_row[1])['coordinates']\n",
    "\n",
    "    npolys = conn.execute(\n",
    "        text(f'''\n",
    "        SELECT id\n",
    "        FROM geometries \n",
    "        WHERE geometries.ROWID IN (\n",
    "        SELECT ROWID\n",
    "        FROM SpatialIndex\n",
    "        WHERE f_table_name = 'geometries'\n",
    "            AND f_geometry_column = 'centroid'\n",
    "           AND search_frame =             BuildMBR(\n",
    "                {centroid_x - half_bbox_size}, {centroid_y - half_bbox_size},\n",
    "                {centroid_x + half_bbox_size}, {centroid_y + half_bbox_size}\n",
    "            ))\n",
    "        ''')\n",
    "     ).fetchall()\n",
    "\n",
    "\n",
    "\n",
    "#print(npolys, end= \" \" )"
   ]
  },
  {
   "cell_type": "markdown",
   "id": "edfb19b8-c5af-4ed0-9449-7e474ff7c1fe",
   "metadata": {},
   "source": [
    "return with geojson"
   ]
  },
  {
   "cell_type": "code",
   "execution_count": null,
   "id": "a7959249-f254-4582-b13a-0ac321f4720a",
   "metadata": {},
   "outputs": [],
   "source": [
    "%%timeit\n",
    "#--- Core approach\n",
    "## --- this is for counts only\n",
    "\n",
    "random_index = random.randint(1, total_rows)\n",
    "    \n",
    "half_bbox_size= 6000\n",
    "# Step 3: Query for the specific row based on the random index\n",
    "with engine.connect() as conn:\n",
    "    random_row = conn.execute(\n",
    "        text(f'''\n",
    "        SELECT id, AsGeoJSON(centroid) as centroid \n",
    "        FROM geometries \n",
    "        WHERE id = {random_index}\n",
    "        ''')\n",
    "    ).fetchone()\n",
    "    \n",
    "    centroid_x,centroid_y=orjson.loads(random_row[1])['coordinates']\n",
    "\n",
    "    npolys = conn.execute(\n",
    "        text(f'''\n",
    "        SELECT AsGeoJSON(geom)\n",
    "        FROM geometries \n",
    "               WHERE geometries.ROWID IN (\n",
    "        SELECT ROWID\n",
    "        FROM SpatialIndex\n",
    "        WHERE f_table_name = 'geometries'\n",
    "            AND f_geometry_column = 'centroid'\n",
    "           AND search_frame =             BuildMBR(\n",
    "                {centroid_x - half_bbox_size}, {centroid_y - half_bbox_size},\n",
    "                {centroid_x + half_bbox_size}, {centroid_y + half_bbox_size}\n",
    "            ))\n",
    "        ''')\n",
    "     ).fetchall()\n",
    "\n",
    "\n",
    "\n",
    "#print(npolys, end= \" \" )"
   ]
  }
 ],
 "metadata": {
  "jupytext": {
   "formats": "ipynb,py"
  },
  "kernelspec": {
   "display_name": "Python 3 (ipykernel)",
   "language": "python",
   "name": "python3"
  },
  "language_info": {
   "codemirror_mode": {
    "name": "ipython",
    "version": 3
   },
   "file_extension": ".py",
   "mimetype": "text/x-python",
   "name": "python",
   "nbconvert_exporter": "python",
   "pygments_lexer": "ipython3",
   "version": "3.10.12"
  }
 },
 "nbformat": 4,
 "nbformat_minor": 5
}
