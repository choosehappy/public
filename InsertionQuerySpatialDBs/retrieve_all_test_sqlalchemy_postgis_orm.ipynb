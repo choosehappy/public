{
 "cells": [
  {
   "cell_type": "code",
   "execution_count": 1,
   "id": "c0239173",
   "metadata": {
    "lines_to_next_cell": 2
   },
   "outputs": [],
   "source": [
    "from sqlalchemy import create_engine, Column, String, Integer, func, event, text\n",
    "from sqlalchemy.ext.declarative import declarative_base\n",
    "from sqlalchemy.dialects.postgresql import ARRAY\n",
    "from sqlalchemy.orm import sessionmaker\n",
    "from geoalchemy2 import Geometry \n",
    "from tqdm import tqdm\n",
    "from shapely.wkt import dumps\n",
    "\n",
    "import orjson\n"
   ]
  },
  {
   "cell_type": "code",
   "execution_count": 2,
   "id": "cf0bcd33",
   "metadata": {},
   "outputs": [
    {
     "name": "stderr",
     "output_type": "stream",
     "text": [
      "/tmp/ipykernel_84458/2237727833.py:2: MovedIn20Warning: The ``declarative_base()`` function is now available as sqlalchemy.orm.declarative_base(). (deprecated since: 2.0) (Background on SQLAlchemy 2.0 at: https://sqlalche.me/e/b8d9)\n",
      "  Base = declarative_base()\n"
     ]
    }
   ],
   "source": [
    "# Create a base class for our declarative mapping\n",
    "Base = declarative_base()\n",
    "\n",
    "# Define your SQLAlchemy model\n",
    "class GeometryModel(Base):\n",
    "    __tablename__ = 'geometries'\n",
    "    id = Column(Integer, primary_key=True)\n",
    "    name = Column(String)\n",
    "    geom = Column(Geometry('POLYGON'))"
   ]
  },
  {
   "cell_type": "code",
   "execution_count": 3,
   "id": "373646b3",
   "metadata": {},
   "outputs": [],
   "source": [
    "from sqlalchemy_utils import database_exists, create_database\n",
    "engine = create_engine('postgresql://postgres@localhost:5333/test')#,echo=True)\n"
   ]
  },
  {
   "cell_type": "code",
   "execution_count": 4,
   "id": "1efdf09c",
   "metadata": {},
   "outputs": [],
   "source": [
    "# Initialize Spatialite extension\n",
    "@event.listens_for(engine, \"connect\")\n",
    "def connect(dbapi_connection, connection_record):\n",
    "    with dbapi_connection.cursor() as cursor:\n",
    "        cursor.execute('CREATE EXTENSION IF NOT EXISTS postgis;')"
   ]
  },
  {
   "cell_type": "code",
   "execution_count": 5,
   "id": "1edec859",
   "metadata": {},
   "outputs": [],
   "source": [
    "# Create the table\n",
    "Base.metadata.create_all(engine)\n",
    "\n",
    "# Start a session\n",
    "from sqlalchemy.orm import sessionmaker\n",
    "Session = sessionmaker(bind=engine)\n",
    "session = Session()"
   ]
  },
  {
   "cell_type": "code",
   "execution_count": null,
   "id": "694f9b21-e9ca-432b-ad08-8d1fed2eac9d",
   "metadata": {},
   "outputs": [],
   "source": [
    "%%time\n",
    "results = session.query(GeometryModel).all()"
   ]
  },
  {
   "cell_type": "code",
   "execution_count": 41,
   "id": "7bf01123-6654-4941-b78c-82caa49e6c23",
   "metadata": {},
   "outputs": [
    {
     "data": {
      "text/plain": [
       "1063260"
      ]
     },
     "execution_count": 41,
     "metadata": {},
     "output_type": "execute_result"
    }
   ],
   "source": [
    "len(results)"
   ]
  },
  {
   "cell_type": "code",
   "execution_count": 42,
   "id": "1619123b-0135-40a5-8fca-2129dddb79f5",
   "metadata": {},
   "outputs": [
    {
     "name": "stdout",
     "output_type": "stream",
     "text": [
      "CPU times: user 287 ms, sys: 3.03 ms, total: 290 ms\n",
      "Wall time: 288 ms\n"
     ]
    }
   ],
   "source": [
    "%%time\n",
    "# Detach all results from the session\n",
    "# expunge_all() removes all objects from the session, making them detached. Detached objects are no longer tracked by the session, so changes made to them will not be automatically persisted to the database.\n",
    "session.expunge_all()"
   ]
  },
  {
   "cell_type": "code",
   "execution_count": 43,
   "id": "7ac951f3-4805-44fc-951f-e342d3ff6842",
   "metadata": {},
   "outputs": [
    {
     "name": "stderr",
     "output_type": "stream",
     "text": [
      "100%|█████████████████████████████████████████████████████████████████████████████████████████████████████████████████████████████████████████████████████████████████████████████████████████████████████████████████████████████| 1063260/1063260 [02:37<00:00, 6754.20it/s]"
     ]
    },
    {
     "name": "stdout",
     "output_type": "stream",
     "text": [
      "CPU times: user 2min 37s, sys: 654 ms, total: 2min 37s\n",
      "Wall time: 2min 37s\n"
     ]
    },
    {
     "name": "stderr",
     "output_type": "stream",
     "text": [
      "\n"
     ]
    }
   ],
   "source": [
    "%%time\n",
    "## -- Convert from EWKB to Shapely\n",
    "from shapely.geometry import shape\n",
    "from shapely import wkb\n",
    "for r in tqdm(results):\n",
    "    r.geom = wkb.loads(str(r.geom)) #note that this is different than the spatialite version"
   ]
  },
  {
   "cell_type": "code",
   "execution_count": null,
   "id": "4cb26e14-a365-4781-96f0-16d59096943e",
   "metadata": {},
   "outputs": [],
   "source": []
  },
  {
   "cell_type": "code",
   "execution_count": null,
   "id": "95cceb7a-bc85-4ab8-a39a-11292f838fda",
   "metadata": {},
   "outputs": [],
   "source": []
  },
  {
   "cell_type": "code",
   "execution_count": 10,
   "id": "c90e3ec5-5a6f-46af-8d3d-bbdee8faf713",
   "metadata": {},
   "outputs": [
    {
     "name": "stdout",
     "output_type": "stream",
     "text": [
      "CPU times: user 8.19 s, sys: 1.98 s, total: 10.2 s\n",
      "Wall time: 30.8 s\n"
     ]
    }
   ],
   "source": [
    "%%time\n",
    "from geoalchemy2.functions import ST_AsGeoJSON\n",
    "results = session.query(ST_AsGeoJSON(GeometryModel.geom)).all()"
   ]
  },
  {
   "cell_type": "code",
   "execution_count": 11,
   "id": "9e492270-daa4-4f03-beab-2dcec3d93f32",
   "metadata": {},
   "outputs": [
    {
     "data": {
      "text/plain": [
       "('{\"type\":\"Polygon\",\"coordinates\":[[[53109,13464],[53109,13465],[53109,13466],[53109,13467],[53109,13468],[53108,13469],[53107,13470],[53106,13471],[53 ... (10560 characters truncated) ... 13464],[53118,13464],[53117,13464],[53116,13464],[53115,13464],[53114,13464],[53113,13464],[53112,13464],[53111,13464],[53110,13464],[53109,13464]]]}',)"
      ]
     },
     "execution_count": 11,
     "metadata": {},
     "output_type": "execute_result"
    }
   ],
   "source": [
    "results[0]"
   ]
  },
  {
   "cell_type": "code",
   "execution_count": 12,
   "id": "476c5cea-5ed6-4125-9167-79076e5835b4",
   "metadata": {},
   "outputs": [],
   "source": [
    "# %%time\n",
    "# from geoalchemy2.functions import ST_AsEWKT\n",
    "# results = session.query(ST_AsEWKT(GeometryModel.geom)).all()"
   ]
  },
  {
   "cell_type": "code",
   "execution_count": 13,
   "id": "f19d8a64-cf88-42ed-863c-7c9171d24e71",
   "metadata": {},
   "outputs": [
    {
     "name": "stdout",
     "output_type": "stream",
     "text": [
      "CPU times: user 7.64 s, sys: 312 ms, total: 7.95 s\n",
      "Wall time: 13.3 s\n"
     ]
    }
   ],
   "source": [
    "%%time\n",
    "from geoalchemy2.functions import ST_Centroid\n",
    "results = session.query(ST_Centroid(GeometryModel.geom)).all()"
   ]
  },
  {
   "cell_type": "code",
   "execution_count": 14,
   "id": "6d4ad2e9-1f02-4f3e-9807-b6c841de2854",
   "metadata": {},
   "outputs": [
    {
     "data": {
      "text/plain": [
       "1063260"
      ]
     },
     "execution_count": 14,
     "metadata": {},
     "output_type": "execute_result"
    }
   ],
   "source": [
    "len(results)"
   ]
  },
  {
   "cell_type": "code",
   "execution_count": 15,
   "id": "e054671e-1756-47ba-af86-0c8d1c3946b6",
   "metadata": {},
   "outputs": [
    {
     "data": {
      "text/plain": [
       "(<WKBElement at 0x7f0c30c9a3e0; 0101000020e6100000e6daad49a7f7e9405afb777be186ca40>,)"
      ]
     },
     "execution_count": 15,
     "metadata": {},
     "output_type": "execute_result"
    }
   ],
   "source": [
    "results[0]"
   ]
  },
  {
   "cell_type": "code",
   "execution_count": 16,
   "id": "77e0abb1-c6c9-4213-8fe2-b662cbdfc08c",
   "metadata": {},
   "outputs": [
    {
     "name": "stdout",
     "output_type": "stream",
     "text": [
      "CPU times: user 2.55 s, sys: 226 ms, total: 2.78 s\n",
      "Wall time: 7.95 s\n"
     ]
    }
   ],
   "source": [
    "%%time\n",
    "from geoalchemy2.functions import ST_Centroid\n",
    "results = session.query(ST_AsGeoJSON(ST_Centroid(GeometryModel.geom))).all()"
   ]
  },
  {
   "cell_type": "code",
   "execution_count": 17,
   "id": "8656bbe9-44c9-4c23-bb2a-9b6ae4b9fe9b",
   "metadata": {},
   "outputs": [],
   "source": [
    "# %%time\n",
    "results = session.query(GeometryModel.geom).limit(10).all()"
   ]
  },
  {
   "cell_type": "code",
   "execution_count": null,
   "id": "0a566ea0-3128-4786-a35d-08ae58c4c52a",
   "metadata": {},
   "outputs": [],
   "source": []
  }
 ],
 "metadata": {
  "jupytext": {
   "formats": "ipynb,py:light"
  },
  "kernelspec": {
   "display_name": "Python 3 (ipykernel)",
   "language": "python",
   "name": "python3"
  },
  "language_info": {
   "codemirror_mode": {
    "name": "ipython",
    "version": 3
   },
   "file_extension": ".py",
   "mimetype": "text/x-python",
   "name": "python",
   "nbconvert_exporter": "python",
   "pygments_lexer": "ipython3",
   "version": "3.10.12"
  }
 },
 "nbformat": 4,
 "nbformat_minor": 5
}
