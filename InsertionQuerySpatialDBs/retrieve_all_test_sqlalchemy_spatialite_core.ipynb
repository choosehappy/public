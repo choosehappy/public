{
 "cells": [
  {
   "cell_type": "code",
   "execution_count": 1,
   "id": "7b8ec9c1-30f2-4f4e-b5a5-229416bd650d",
   "metadata": {
    "lines_to_next_cell": 2
   },
   "outputs": [],
   "source": [
    "from sqlalchemy import create_engine, Column, String, Integer, func, event, text\n",
    "from sqlalchemy.ext.declarative import declarative_base\n",
    "from sqlalchemy.dialects.postgresql import ARRAY\n",
    "from sqlalchemy.orm import sessionmaker\n",
    "from geoalchemy2 import Geometry \n",
    "from tqdm import tqdm\n",
    "from shapely.wkt import dumps\n",
    "\n",
    "import orjson"
   ]
  },
  {
   "cell_type": "code",
   "execution_count": 2,
   "id": "89165c57-0f1a-41eb-bdf4-037701f0e0a8",
   "metadata": {},
   "outputs": [
    {
     "name": "stderr",
     "output_type": "stream",
     "text": [
      "/tmp/ipykernel_75793/2237727833.py:2: MovedIn20Warning: The ``declarative_base()`` function is now available as sqlalchemy.orm.declarative_base(). (deprecated since: 2.0) (Background on SQLAlchemy 2.0 at: https://sqlalche.me/e/b8d9)\n",
      "  Base = declarative_base()\n"
     ]
    }
   ],
   "source": [
    "# Create a base class for our declarative mapping\n",
    "Base = declarative_base()\n",
    "\n",
    "# Define your SQLAlchemy model\n",
    "class GeometryModel(Base):\n",
    "    __tablename__ = 'geometries'\n",
    "    id = Column(Integer, primary_key=True)\n",
    "    name = Column(String)\n",
    "    geom = Column(Geometry('POLYGON'))"
   ]
  },
  {
   "cell_type": "code",
   "execution_count": 3,
   "id": "5887b43a-535b-47ff-b7df-8dd87bad4cf0",
   "metadata": {},
   "outputs": [],
   "source": [
    "# Connect to the Spatialite database\n",
    "db_path = 'sqlite:////tmp/blog/spatialite_ray.db'\n",
    "engine = create_engine(db_path, echo=False)  # Set echo=True to see SQL commands being executed"
   ]
  },
  {
   "cell_type": "code",
   "execution_count": 4,
   "id": "7c8b6227-0a40-4281-8df7-80e481ee4e71",
   "metadata": {},
   "outputs": [],
   "source": [
    "# Initialize Spatialite extension\n",
    "@event.listens_for(engine, \"connect\")\n",
    "def connect(dbapi_connection, connection_record):\n",
    "    dbapi_connection.enable_load_extension(True)\n",
    "    dbapi_connection.execute('SELECT load_extension(\"mod_spatialite\")')\n",
    "    dbapi_connection.execute('SELECT InitSpatialMetaData(1);')"
   ]
  },
  {
   "cell_type": "code",
   "execution_count": 5,
   "id": "57928369-2fe9-4757-828b-954eba24f339",
   "metadata": {
    "lines_to_next_cell": 2
   },
   "outputs": [
    {
     "name": "stderr",
     "output_type": "stream",
     "text": [
      "InitSpatiaMetaData() error:\"table spatial_ref_sys already exists\"\n"
     ]
    }
   ],
   "source": [
    "# Create the table\n",
    "Base.metadata.create_all(engine)"
   ]
  },
  {
   "cell_type": "code",
   "execution_count": 6,
   "id": "a094f6ca-b184-4aa9-8bc8-754341429ff9",
   "metadata": {},
   "outputs": [],
   "source": [
    "from tqdm import tqdm"
   ]
  },
  {
   "cell_type": "code",
   "execution_count": 7,
   "id": "871bc8d1",
   "metadata": {},
   "outputs": [
    {
     "name": "stdout",
     "output_type": "stream",
     "text": [
      "CPU times: user 3.27 s, sys: 5.37 s, total: 8.65 s\n",
      "Wall time: 10.3 s\n"
     ]
    }
   ],
   "source": [
    "%%time\n",
    "with  engine.connect() as conn:\n",
    "    results=conn.execute(text(\"select * from geometries\")).fetchall()"
   ]
  },
  {
   "cell_type": "code",
   "execution_count": 8,
   "id": "a5219f3b-755d-48ac-be7c-da2ac75db3f1",
   "metadata": {},
   "outputs": [
    {
     "data": {
      "text/plain": [
       "1063260"
      ]
     },
     "execution_count": 8,
     "metadata": {},
     "output_type": "execute_result"
    }
   ],
   "source": [
    "len(results)"
   ]
  },
  {
   "cell_type": "code",
   "execution_count": 9,
   "id": "1426e714-8c23-4d9d-92c0-c30dfe55f1a7",
   "metadata": {},
   "outputs": [
    {
     "data": {
      "text/plain": [
       "(1, 'tubule', b'\\x00\\x01\\x00\\x00\\x00\\x00\\x00\\x00\\x00\\x00\\xa0Q\\xe6@\\x00\\x00\\x00\\x00\\x00\\x9f\\xd3@\\x00\\x00\\x00\\x00 x\\xe6@\\x00\\x00\\x00\\x00\\x00\\xeb\\xd3@|\\x03\\x00\\x00\\x00 ... (48619 characters truncated) ... a\\xe6@\\x00\\x00\\x00\\x00\\x00\\x9f\\xd3@\\x00\\x00\\x00\\x00\\xc0a\\xe6@\\x00\\x00\\x00\\x00\\x00\\x9f\\xd3@\\x00\\x00\\x00\\x00\\xa0a\\xe6@\\x00\\x00\\x00\\x00\\x00\\x9f\\xd3@\\xfe')"
      ]
     },
     "execution_count": 9,
     "metadata": {},
     "output_type": "execute_result"
    }
   ],
   "source": [
    "results[0]"
   ]
  },
  {
   "cell_type": "code",
   "execution_count": 10,
   "id": "1564d607-f62c-4758-84ca-2b05ff2acb24",
   "metadata": {},
   "outputs": [
    {
     "name": "stdout",
     "output_type": "stream",
     "text": [
      "CPU times: user 2min 33s, sys: 6.23 s, total: 2min 39s\n",
      "Wall time: 2min 39s\n"
     ]
    }
   ],
   "source": [
    "%%time\n",
    "with  engine.connect() as conn:\n",
    "    results=conn.execute(text(\"select id,name,AsGeoJSON(geom) from geometries\")).fetchall()"
   ]
  },
  {
   "cell_type": "code",
   "execution_count": 11,
   "id": "f6496bfe-c3f0-470a-a056-6814454b74a8",
   "metadata": {},
   "outputs": [
    {
     "data": {
      "text/plain": [
       "(1, 'tubule', '{\"type\":\"Polygon\",\"coordinates\":[[[45837,20092],[45835.99999999999,20093],[45835,20093.99999999999],[45834,20094.99999999999],[45832.99999999999,2009 ... (22044 characters truncated) ... 45844,20092],[45842.99999999999,20092],[45842,20092],[45840.99999999999,20092],[45840,20092],[45839,20092],[45837.99999999999,20092],[45837,20092]]]}')"
      ]
     },
     "execution_count": 11,
     "metadata": {},
     "output_type": "execute_result"
    }
   ],
   "source": [
    "results[0]"
   ]
  },
  {
   "cell_type": "code",
   "execution_count": 12,
   "id": "53fee63b-0818-48ab-a121-4ccd35cd927d",
   "metadata": {},
   "outputs": [
    {
     "name": "stdout",
     "output_type": "stream",
     "text": [
      "CPU times: user 6min 9s, sys: 6.65 s, total: 6min 15s\n",
      "Wall time: 6min 15s\n"
     ]
    }
   ],
   "source": [
    "%%time\n",
    "with  engine.connect() as conn:\n",
    "    results=conn.execute(text(\"select id,name,AsEWKB(geom) from geometries\")).fetchall()"
   ]
  },
  {
   "cell_type": "code",
   "execution_count": 13,
   "id": "1db2b756-76fe-4d5f-a7dd-24892311c737",
   "metadata": {},
   "outputs": [
    {
     "data": {
      "text/plain": [
       "(1, 'tubule', '010300002000000000010000009503000000000000A061E64000000000009FD340000000008061E64000000000409FD340000000006061E64000000000809FD340000000004061E640000 ... (29080 characters truncated) ... 2E64000000000009FD340000000000062E64000000000009FD34000000000E061E64000000000009FD34000000000C061E64000000000009FD34000000000A061E64000000000009FD340')"
      ]
     },
     "execution_count": 13,
     "metadata": {},
     "output_type": "execute_result"
    }
   ],
   "source": [
    "results[0]"
   ]
  },
  {
   "cell_type": "code",
   "execution_count": 14,
   "id": "16ec1409-dd36-4d01-9d51-b9bac131a0ad",
   "metadata": {},
   "outputs": [
    {
     "name": "stdout",
     "output_type": "stream",
     "text": [
      "CPU times: user 2min 34s, sys: 2.07 s, total: 2min 36s\n",
      "Wall time: 2min 36s\n"
     ]
    }
   ],
   "source": [
    "%%time\n",
    "with  engine.connect() as conn:\n",
    "    results=conn.execute(text(\"select id,name,AsEWKT(geom) from geometries\")).fetchall()"
   ]
  },
  {
   "cell_type": "code",
   "execution_count": 15,
   "id": "1930bff4-c020-4d8d-b804-45bf37f56bef",
   "metadata": {},
   "outputs": [
    {
     "data": {
      "text/plain": [
       "(1, 'tubule', 'SRID=0;POLYGON((45837 20092,45835.99999999999 20093,45835 20093.99999999999,45834 20094.99999999999,45832.99999999999 20096,45832 20096,45830.9999999 ... (20191 characters truncated) ... 092,45845 20092,45844 20092,45842.99999999999 20092,45842 20092,45840.99999999999 20092,45840 20092,45839 20092,45837.99999999999 20092,45837 20092))')"
      ]
     },
     "execution_count": 15,
     "metadata": {},
     "output_type": "execute_result"
    }
   ],
   "source": [
    "results[0]"
   ]
  },
  {
   "cell_type": "code",
   "execution_count": 16,
   "id": "2e00bb46-b2d1-4500-b959-1f2bb67ffcf1",
   "metadata": {},
   "outputs": [
    {
     "name": "stdout",
     "output_type": "stream",
     "text": [
      "CPU times: user 17.6 s, sys: 1.88 s, total: 19.4 s\n",
      "Wall time: 19.4 s\n"
     ]
    }
   ],
   "source": [
    "%%time\n",
    "with  engine.connect() as conn:\n",
    "    results=conn.execute(text(\"select id,name,ST_Centroid(geom) from geometries\")).fetchall()"
   ]
  },
  {
   "cell_type": "code",
   "execution_count": 17,
   "id": "1ba238e6-cf14-4ebd-af9f-7ce9632bc884",
   "metadata": {},
   "outputs": [
    {
     "name": "stdout",
     "output_type": "stream",
     "text": [
      "CPU times: user 16.7 s, sys: 1.78 s, total: 18.5 s\n",
      "Wall time: 18.5 s\n"
     ]
    }
   ],
   "source": [
    "%%time\n",
    "with  engine.connect() as conn:\n",
    "    results=conn.execute(text(\"select id,name,AsGeoJSON(ST_Centroid(geom)) from geometries\")).fetchall()"
   ]
  },
  {
   "cell_type": "code",
   "execution_count": 18,
   "id": "190de3f2-0c4f-43e4-9c2e-0bf700de8a53",
   "metadata": {},
   "outputs": [
    {
     "name": "stdout",
     "output_type": "stream",
     "text": [
      "CPU times: user 15.4 s, sys: 1.75 s, total: 17.2 s\n",
      "Wall time: 17.2 s\n"
     ]
    }
   ],
   "source": [
    "%%time\n",
    "with  engine.connect() as conn:\n",
    "    results=conn.execute(text(\"select id,name,AsEWKT(ST_Centroid(geom)) from geometries\")).fetchall()"
   ]
  },
  {
   "cell_type": "code",
   "execution_count": 19,
   "id": "974217d6-3455-40fe-9384-1951c72ab3fd",
   "metadata": {},
   "outputs": [
    {
     "name": "stdout",
     "output_type": "stream",
     "text": [
      "CPU times: user 17.7 s, sys: 1.19 s, total: 18.8 s\n",
      "Wall time: 18.8 s\n"
     ]
    }
   ],
   "source": [
    "%%time\n",
    "with  engine.connect() as conn:\n",
    "    results=conn.execute(text(\"select id,name,AsEWKB(ST_Centroid(geom)) from geometries\")).fetchall()"
   ]
  },
  {
   "cell_type": "code",
   "execution_count": null,
   "id": "afcdf4f4-9698-42e8-8b6c-af5155e67f4c",
   "metadata": {},
   "outputs": [],
   "source": []
  }
 ],
 "metadata": {
  "jupytext": {
   "formats": "ipynb,py:light"
  },
  "kernelspec": {
   "display_name": "Python 3 (ipykernel)",
   "language": "python",
   "name": "python3"
  },
  "language_info": {
   "codemirror_mode": {
    "name": "ipython",
    "version": 3
   },
   "file_extension": ".py",
   "mimetype": "text/x-python",
   "name": "python",
   "nbconvert_exporter": "python",
   "pygments_lexer": "ipython3",
   "version": "3.10.12"
  }
 },
 "nbformat": 4,
 "nbformat_minor": 5
}
