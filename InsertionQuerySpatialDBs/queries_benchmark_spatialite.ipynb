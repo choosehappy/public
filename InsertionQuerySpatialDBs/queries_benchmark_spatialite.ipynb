{
 "cells": [
  {
   "cell_type": "code",
   "execution_count": 1,
   "id": "8f111aaa-d74e-4b8b-b732-e065749cb1cc",
   "metadata": {},
   "outputs": [],
   "source": [
    "import geoalchemy2"
   ]
  },
  {
   "cell_type": "code",
   "execution_count": 2,
   "id": "86131a55-b846-4279-b74a-72d540523d13",
   "metadata": {},
   "outputs": [
    {
     "data": {
      "text/plain": [
       "'0.16.0'"
      ]
     },
     "execution_count": 2,
     "metadata": {},
     "output_type": "execute_result"
    }
   ],
   "source": [
    "geoalchemy2.__version__"
   ]
  },
  {
   "cell_type": "code",
   "execution_count": 3,
   "id": "4dfed961-daf2-4386-98a9-5b794a0f309d",
   "metadata": {},
   "outputs": [],
   "source": [
    "import orjson\n",
    "\n",
    "from sqlalchemy import create_engine, Column, String, Integer, func, event, text\n",
    "from sqlalchemy.ext.declarative import declarative_base\n",
    "from sqlalchemy.dialects.postgresql import ARRAY\n",
    "from sqlalchemy.orm import sessionmaker\n",
    "from geoalchemy2 import Geometry \n",
    "from tqdm import tqdm\n",
    "from shapely.wkt import dumps\n",
    "import shapely\n",
    "from shapely.wkb import loads as load_wkb"
   ]
  },
  {
   "cell_type": "code",
   "execution_count": 4,
   "id": "3e12fd0b-6eb8-4c77-9382-0f51a0a71f00",
   "metadata": {},
   "outputs": [],
   "source": [
    "from sqlalchemy import create_engine\n",
    "from sqlalchemy_utils import database_exists, create_database"
   ]
  },
  {
   "cell_type": "code",
   "execution_count": 5,
   "id": "bb56d332-5303-4d62-97ec-379a44b05bab",
   "metadata": {},
   "outputs": [],
   "source": [
    "from sqlalchemy_utils import database_exists, create_database\n",
    "db_path = 'sqlite:////tmp/blog/spatialite_ray.db'\n",
    "engine = create_engine(db_path, echo=False)  # Set echo=True to see SQL commands being executed\n"
   ]
  },
  {
   "cell_type": "code",
   "execution_count": 6,
   "id": "758b8f9c-a0e6-4ac1-9d0f-1fccf3e5645f",
   "metadata": {},
   "outputs": [],
   "source": [
    "# Initialize Spatialite extension\n",
    "@event.listens_for(engine, \"connect\")\n",
    "def connect(dbapi_connection, connection_record):\n",
    "    dbapi_connection.enable_load_extension(True)\n",
    "    dbapi_connection.execute('SELECT load_extension(\"mod_spatialite\")')\n"
   ]
  },
  {
   "cell_type": "code",
   "execution_count": 7,
   "id": "3f6edab2-5b39-48c6-9b72-7a99f831b7f0",
   "metadata": {},
   "outputs": [
    {
     "name": "stderr",
     "output_type": "stream",
     "text": [
      "/tmp/ipykernel_131840/2057255873.py:2: MovedIn20Warning: The ``declarative_base()`` function is now available as sqlalchemy.orm.declarative_base(). (deprecated since: 2.0) (Background on SQLAlchemy 2.0 at: https://sqlalche.me/e/b8d9)\n",
      "  Base = declarative_base()\n"
     ]
    }
   ],
   "source": [
    "# Create a base class for our declarative mapping\n",
    "Base = declarative_base()\n",
    "\n",
    "# Define your SQLAlchemy model\n",
    "class GeometryModel(Base):\n",
    "    __tablename__ = 'geometries'\n",
    "    id = Column(Integer, primary_key=True)\n",
    "    name = Column(String)\n",
    "    geom = Column(Geometry('POLYGON'))\n",
    "\n",
    "    @property\n",
    "    def shapely_geom(self):\n",
    "        return load_wkb(self.geom.desc) if self.geom else None"
   ]
  },
  {
   "cell_type": "code",
   "execution_count": 8,
   "id": "5be61f3a-87db-4354-bcba-3230d23fd4fc",
   "metadata": {},
   "outputs": [
    {
     "ename": "OperationalError",
     "evalue": "(sqlite3.OperationalError) unable to open database file\n(Background on this error at: https://sqlalche.me/e/20/e3q8)",
     "output_type": "error",
     "traceback": [
      "\u001b[0;31m---------------------------------------------------------------------------\u001b[0m",
      "\u001b[0;31mOperationalError\u001b[0m                          Traceback (most recent call last)",
      "File \u001b[0;32m~/code/research/public/InsertionQuerySpatialDBs/venv/lib/python3.12/site-packages/sqlalchemy/engine/base.py:146\u001b[0m, in \u001b[0;36mConnection.__init__\u001b[0;34m(self, engine, connection, _has_events, _allow_revalidate, _allow_autobegin)\u001b[0m\n\u001b[1;32m    145\u001b[0m \u001b[38;5;28;01mtry\u001b[39;00m:\n\u001b[0;32m--> 146\u001b[0m     \u001b[38;5;28mself\u001b[39m\u001b[38;5;241m.\u001b[39m_dbapi_connection \u001b[38;5;241m=\u001b[39m \u001b[43mengine\u001b[49m\u001b[38;5;241;43m.\u001b[39;49m\u001b[43mraw_connection\u001b[49m\u001b[43m(\u001b[49m\u001b[43m)\u001b[49m\n\u001b[1;32m    147\u001b[0m \u001b[38;5;28;01mexcept\u001b[39;00m dialect\u001b[38;5;241m.\u001b[39mloaded_dbapi\u001b[38;5;241m.\u001b[39mError \u001b[38;5;28;01mas\u001b[39;00m err:\n",
      "File \u001b[0;32m~/code/research/public/InsertionQuerySpatialDBs/venv/lib/python3.12/site-packages/sqlalchemy/engine/base.py:3302\u001b[0m, in \u001b[0;36mEngine.raw_connection\u001b[0;34m(self)\u001b[0m\n\u001b[1;32m   3281\u001b[0m \u001b[38;5;250m\u001b[39m\u001b[38;5;124;03m\"\"\"Return a \"raw\" DBAPI connection from the connection pool.\u001b[39;00m\n\u001b[1;32m   3282\u001b[0m \n\u001b[1;32m   3283\u001b[0m \u001b[38;5;124;03mThe returned object is a proxied version of the DBAPI\u001b[39;00m\n\u001b[0;32m   (...)\u001b[0m\n\u001b[1;32m   3300\u001b[0m \n\u001b[1;32m   3301\u001b[0m \u001b[38;5;124;03m\"\"\"\u001b[39;00m\n\u001b[0;32m-> 3302\u001b[0m \u001b[38;5;28;01mreturn\u001b[39;00m \u001b[38;5;28;43mself\u001b[39;49m\u001b[38;5;241;43m.\u001b[39;49m\u001b[43mpool\u001b[49m\u001b[38;5;241;43m.\u001b[39;49m\u001b[43mconnect\u001b[49m\u001b[43m(\u001b[49m\u001b[43m)\u001b[49m\n",
      "File \u001b[0;32m~/code/research/public/InsertionQuerySpatialDBs/venv/lib/python3.12/site-packages/sqlalchemy/pool/base.py:449\u001b[0m, in \u001b[0;36mPool.connect\u001b[0;34m(self)\u001b[0m\n\u001b[1;32m    442\u001b[0m \u001b[38;5;250m\u001b[39m\u001b[38;5;124;03m\"\"\"Return a DBAPI connection from the pool.\u001b[39;00m\n\u001b[1;32m    443\u001b[0m \n\u001b[1;32m    444\u001b[0m \u001b[38;5;124;03mThe connection is instrumented such that when its\u001b[39;00m\n\u001b[0;32m   (...)\u001b[0m\n\u001b[1;32m    447\u001b[0m \n\u001b[1;32m    448\u001b[0m \u001b[38;5;124;03m\"\"\"\u001b[39;00m\n\u001b[0;32m--> 449\u001b[0m \u001b[38;5;28;01mreturn\u001b[39;00m \u001b[43m_ConnectionFairy\u001b[49m\u001b[38;5;241;43m.\u001b[39;49m\u001b[43m_checkout\u001b[49m\u001b[43m(\u001b[49m\u001b[38;5;28;43mself\u001b[39;49m\u001b[43m)\u001b[49m\n",
      "File \u001b[0;32m~/code/research/public/InsertionQuerySpatialDBs/venv/lib/python3.12/site-packages/sqlalchemy/pool/base.py:1263\u001b[0m, in \u001b[0;36m_ConnectionFairy._checkout\u001b[0;34m(cls, pool, threadconns, fairy)\u001b[0m\n\u001b[1;32m   1262\u001b[0m \u001b[38;5;28;01mif\u001b[39;00m \u001b[38;5;129;01mnot\u001b[39;00m fairy:\n\u001b[0;32m-> 1263\u001b[0m     fairy \u001b[38;5;241m=\u001b[39m \u001b[43m_ConnectionRecord\u001b[49m\u001b[38;5;241;43m.\u001b[39;49m\u001b[43mcheckout\u001b[49m\u001b[43m(\u001b[49m\u001b[43mpool\u001b[49m\u001b[43m)\u001b[49m\n\u001b[1;32m   1265\u001b[0m     \u001b[38;5;28;01mif\u001b[39;00m threadconns \u001b[38;5;129;01mis\u001b[39;00m \u001b[38;5;129;01mnot\u001b[39;00m \u001b[38;5;28;01mNone\u001b[39;00m:\n",
      "File \u001b[0;32m~/code/research/public/InsertionQuerySpatialDBs/venv/lib/python3.12/site-packages/sqlalchemy/pool/base.py:712\u001b[0m, in \u001b[0;36m_ConnectionRecord.checkout\u001b[0;34m(cls, pool)\u001b[0m\n\u001b[1;32m    711\u001b[0m \u001b[38;5;28;01melse\u001b[39;00m:\n\u001b[0;32m--> 712\u001b[0m     rec \u001b[38;5;241m=\u001b[39m \u001b[43mpool\u001b[49m\u001b[38;5;241;43m.\u001b[39;49m\u001b[43m_do_get\u001b[49m\u001b[43m(\u001b[49m\u001b[43m)\u001b[49m\n\u001b[1;32m    714\u001b[0m \u001b[38;5;28;01mtry\u001b[39;00m:\n",
      "File \u001b[0;32m~/code/research/public/InsertionQuerySpatialDBs/venv/lib/python3.12/site-packages/sqlalchemy/pool/impl.py:179\u001b[0m, in \u001b[0;36mQueuePool._do_get\u001b[0;34m(self)\u001b[0m\n\u001b[1;32m    178\u001b[0m \u001b[38;5;28;01mexcept\u001b[39;00m:\n\u001b[0;32m--> 179\u001b[0m \u001b[43m    \u001b[49m\u001b[38;5;28;43;01mwith\u001b[39;49;00m\u001b[43m \u001b[49m\u001b[43mutil\u001b[49m\u001b[38;5;241;43m.\u001b[39;49m\u001b[43msafe_reraise\u001b[49m\u001b[43m(\u001b[49m\u001b[43m)\u001b[49m\u001b[43m:\u001b[49m\n\u001b[1;32m    180\u001b[0m \u001b[43m        \u001b[49m\u001b[38;5;28;43mself\u001b[39;49m\u001b[38;5;241;43m.\u001b[39;49m\u001b[43m_dec_overflow\u001b[49m\u001b[43m(\u001b[49m\u001b[43m)\u001b[49m\n",
      "File \u001b[0;32m~/code/research/public/InsertionQuerySpatialDBs/venv/lib/python3.12/site-packages/sqlalchemy/util/langhelpers.py:146\u001b[0m, in \u001b[0;36msafe_reraise.__exit__\u001b[0;34m(self, type_, value, traceback)\u001b[0m\n\u001b[1;32m    145\u001b[0m     \u001b[38;5;28mself\u001b[39m\u001b[38;5;241m.\u001b[39m_exc_info \u001b[38;5;241m=\u001b[39m \u001b[38;5;28;01mNone\u001b[39;00m  \u001b[38;5;66;03m# remove potential circular references\u001b[39;00m\n\u001b[0;32m--> 146\u001b[0m     \u001b[38;5;28;01mraise\u001b[39;00m exc_value\u001b[38;5;241m.\u001b[39mwith_traceback(exc_tb)\n\u001b[1;32m    147\u001b[0m \u001b[38;5;28;01melse\u001b[39;00m:\n",
      "File \u001b[0;32m~/code/research/public/InsertionQuerySpatialDBs/venv/lib/python3.12/site-packages/sqlalchemy/pool/impl.py:177\u001b[0m, in \u001b[0;36mQueuePool._do_get\u001b[0;34m(self)\u001b[0m\n\u001b[1;32m    176\u001b[0m \u001b[38;5;28;01mtry\u001b[39;00m:\n\u001b[0;32m--> 177\u001b[0m     \u001b[38;5;28;01mreturn\u001b[39;00m \u001b[38;5;28;43mself\u001b[39;49m\u001b[38;5;241;43m.\u001b[39;49m\u001b[43m_create_connection\u001b[49m\u001b[43m(\u001b[49m\u001b[43m)\u001b[49m\n\u001b[1;32m    178\u001b[0m \u001b[38;5;28;01mexcept\u001b[39;00m:\n",
      "File \u001b[0;32m~/code/research/public/InsertionQuerySpatialDBs/venv/lib/python3.12/site-packages/sqlalchemy/pool/base.py:390\u001b[0m, in \u001b[0;36mPool._create_connection\u001b[0;34m(self)\u001b[0m\n\u001b[1;32m    388\u001b[0m \u001b[38;5;250m\u001b[39m\u001b[38;5;124;03m\"\"\"Called by subclasses to create a new ConnectionRecord.\"\"\"\u001b[39;00m\n\u001b[0;32m--> 390\u001b[0m \u001b[38;5;28;01mreturn\u001b[39;00m \u001b[43m_ConnectionRecord\u001b[49m\u001b[43m(\u001b[49m\u001b[38;5;28;43mself\u001b[39;49m\u001b[43m)\u001b[49m\n",
      "File \u001b[0;32m~/code/research/public/InsertionQuerySpatialDBs/venv/lib/python3.12/site-packages/sqlalchemy/pool/base.py:674\u001b[0m, in \u001b[0;36m_ConnectionRecord.__init__\u001b[0;34m(self, pool, connect)\u001b[0m\n\u001b[1;32m    673\u001b[0m \u001b[38;5;28;01mif\u001b[39;00m connect:\n\u001b[0;32m--> 674\u001b[0m     \u001b[38;5;28;43mself\u001b[39;49m\u001b[38;5;241;43m.\u001b[39;49m\u001b[43m__connect\u001b[49m\u001b[43m(\u001b[49m\u001b[43m)\u001b[49m\n\u001b[1;32m    675\u001b[0m \u001b[38;5;28mself\u001b[39m\u001b[38;5;241m.\u001b[39mfinalize_callback \u001b[38;5;241m=\u001b[39m deque()\n",
      "File \u001b[0;32m~/code/research/public/InsertionQuerySpatialDBs/venv/lib/python3.12/site-packages/sqlalchemy/pool/base.py:900\u001b[0m, in \u001b[0;36m_ConnectionRecord.__connect\u001b[0;34m(self)\u001b[0m\n\u001b[1;32m    899\u001b[0m \u001b[38;5;28;01mexcept\u001b[39;00m \u001b[38;5;167;01mBaseException\u001b[39;00m \u001b[38;5;28;01mas\u001b[39;00m e:\n\u001b[0;32m--> 900\u001b[0m \u001b[43m    \u001b[49m\u001b[38;5;28;43;01mwith\u001b[39;49;00m\u001b[43m \u001b[49m\u001b[43mutil\u001b[49m\u001b[38;5;241;43m.\u001b[39;49m\u001b[43msafe_reraise\u001b[49m\u001b[43m(\u001b[49m\u001b[43m)\u001b[49m\u001b[43m:\u001b[49m\n\u001b[1;32m    901\u001b[0m \u001b[43m        \u001b[49m\u001b[43mpool\u001b[49m\u001b[38;5;241;43m.\u001b[39;49m\u001b[43mlogger\u001b[49m\u001b[38;5;241;43m.\u001b[39;49m\u001b[43mdebug\u001b[49m\u001b[43m(\u001b[49m\u001b[38;5;124;43m\"\u001b[39;49m\u001b[38;5;124;43mError on connect(): \u001b[39;49m\u001b[38;5;132;43;01m%s\u001b[39;49;00m\u001b[38;5;124;43m\"\u001b[39;49m\u001b[43m,\u001b[49m\u001b[43m \u001b[49m\u001b[43me\u001b[49m\u001b[43m)\u001b[49m\n",
      "File \u001b[0;32m~/code/research/public/InsertionQuerySpatialDBs/venv/lib/python3.12/site-packages/sqlalchemy/util/langhelpers.py:146\u001b[0m, in \u001b[0;36msafe_reraise.__exit__\u001b[0;34m(self, type_, value, traceback)\u001b[0m\n\u001b[1;32m    145\u001b[0m     \u001b[38;5;28mself\u001b[39m\u001b[38;5;241m.\u001b[39m_exc_info \u001b[38;5;241m=\u001b[39m \u001b[38;5;28;01mNone\u001b[39;00m  \u001b[38;5;66;03m# remove potential circular references\u001b[39;00m\n\u001b[0;32m--> 146\u001b[0m     \u001b[38;5;28;01mraise\u001b[39;00m exc_value\u001b[38;5;241m.\u001b[39mwith_traceback(exc_tb)\n\u001b[1;32m    147\u001b[0m \u001b[38;5;28;01melse\u001b[39;00m:\n",
      "File \u001b[0;32m~/code/research/public/InsertionQuerySpatialDBs/venv/lib/python3.12/site-packages/sqlalchemy/pool/base.py:896\u001b[0m, in \u001b[0;36m_ConnectionRecord.__connect\u001b[0;34m(self)\u001b[0m\n\u001b[1;32m    895\u001b[0m \u001b[38;5;28mself\u001b[39m\u001b[38;5;241m.\u001b[39mstarttime \u001b[38;5;241m=\u001b[39m time\u001b[38;5;241m.\u001b[39mtime()\n\u001b[0;32m--> 896\u001b[0m \u001b[38;5;28mself\u001b[39m\u001b[38;5;241m.\u001b[39mdbapi_connection \u001b[38;5;241m=\u001b[39m connection \u001b[38;5;241m=\u001b[39m \u001b[43mpool\u001b[49m\u001b[38;5;241;43m.\u001b[39;49m\u001b[43m_invoke_creator\u001b[49m\u001b[43m(\u001b[49m\u001b[38;5;28;43mself\u001b[39;49m\u001b[43m)\u001b[49m\n\u001b[1;32m    897\u001b[0m pool\u001b[38;5;241m.\u001b[39mlogger\u001b[38;5;241m.\u001b[39mdebug(\u001b[38;5;124m\"\u001b[39m\u001b[38;5;124mCreated new connection \u001b[39m\u001b[38;5;132;01m%r\u001b[39;00m\u001b[38;5;124m\"\u001b[39m, connection)\n",
      "File \u001b[0;32m~/code/research/public/InsertionQuerySpatialDBs/venv/lib/python3.12/site-packages/sqlalchemy/engine/create.py:643\u001b[0m, in \u001b[0;36mcreate_engine.<locals>.connect\u001b[0;34m(connection_record)\u001b[0m\n\u001b[1;32m    641\u001b[0m             \u001b[38;5;28;01mreturn\u001b[39;00m connection\n\u001b[0;32m--> 643\u001b[0m \u001b[38;5;28;01mreturn\u001b[39;00m \u001b[43mdialect\u001b[49m\u001b[38;5;241;43m.\u001b[39;49m\u001b[43mconnect\u001b[49m\u001b[43m(\u001b[49m\u001b[38;5;241;43m*\u001b[39;49m\u001b[43mcargs\u001b[49m\u001b[43m,\u001b[49m\u001b[43m \u001b[49m\u001b[38;5;241;43m*\u001b[39;49m\u001b[38;5;241;43m*\u001b[39;49m\u001b[43mcparams\u001b[49m\u001b[43m)\u001b[49m\n",
      "File \u001b[0;32m~/code/research/public/InsertionQuerySpatialDBs/venv/lib/python3.12/site-packages/sqlalchemy/engine/default.py:621\u001b[0m, in \u001b[0;36mDefaultDialect.connect\u001b[0;34m(self, *cargs, **cparams)\u001b[0m\n\u001b[1;32m    619\u001b[0m \u001b[38;5;28;01mdef\u001b[39;00m \u001b[38;5;21mconnect\u001b[39m(\u001b[38;5;28mself\u001b[39m, \u001b[38;5;241m*\u001b[39mcargs, \u001b[38;5;241m*\u001b[39m\u001b[38;5;241m*\u001b[39mcparams):\n\u001b[1;32m    620\u001b[0m     \u001b[38;5;66;03m# inherits the docstring from interfaces.Dialect.connect\u001b[39;00m\n\u001b[0;32m--> 621\u001b[0m     \u001b[38;5;28;01mreturn\u001b[39;00m \u001b[38;5;28;43mself\u001b[39;49m\u001b[38;5;241;43m.\u001b[39;49m\u001b[43mloaded_dbapi\u001b[49m\u001b[38;5;241;43m.\u001b[39;49m\u001b[43mconnect\u001b[49m\u001b[43m(\u001b[49m\u001b[38;5;241;43m*\u001b[39;49m\u001b[43mcargs\u001b[49m\u001b[43m,\u001b[49m\u001b[43m \u001b[49m\u001b[38;5;241;43m*\u001b[39;49m\u001b[38;5;241;43m*\u001b[39;49m\u001b[43mcparams\u001b[49m\u001b[43m)\u001b[49m\n",
      "\u001b[0;31mOperationalError\u001b[0m: unable to open database file",
      "\nThe above exception was the direct cause of the following exception:\n",
      "\u001b[0;31mOperationalError\u001b[0m                          Traceback (most recent call last)",
      "Cell \u001b[0;32mIn[8], line 2\u001b[0m\n\u001b[1;32m      1\u001b[0m \u001b[38;5;66;03m# Create the table\u001b[39;00m\n\u001b[0;32m----> 2\u001b[0m \u001b[43mBase\u001b[49m\u001b[38;5;241;43m.\u001b[39;49m\u001b[43mmetadata\u001b[49m\u001b[38;5;241;43m.\u001b[39;49m\u001b[43mcreate_all\u001b[49m\u001b[43m(\u001b[49m\u001b[43mengine\u001b[49m\u001b[43m)\u001b[49m\n",
      "File \u001b[0;32m~/code/research/public/InsertionQuerySpatialDBs/venv/lib/python3.12/site-packages/sqlalchemy/sql/schema.py:5868\u001b[0m, in \u001b[0;36mMetaData.create_all\u001b[0;34m(self, bind, tables, checkfirst)\u001b[0m\n\u001b[1;32m   5844\u001b[0m \u001b[38;5;28;01mdef\u001b[39;00m \u001b[38;5;21mcreate_all\u001b[39m(\n\u001b[1;32m   5845\u001b[0m     \u001b[38;5;28mself\u001b[39m,\n\u001b[1;32m   5846\u001b[0m     bind: _CreateDropBind,\n\u001b[1;32m   5847\u001b[0m     tables: Optional[_typing_Sequence[Table]] \u001b[38;5;241m=\u001b[39m \u001b[38;5;28;01mNone\u001b[39;00m,\n\u001b[1;32m   5848\u001b[0m     checkfirst: \u001b[38;5;28mbool\u001b[39m \u001b[38;5;241m=\u001b[39m \u001b[38;5;28;01mTrue\u001b[39;00m,\n\u001b[1;32m   5849\u001b[0m ) \u001b[38;5;241m-\u001b[39m\u001b[38;5;241m>\u001b[39m \u001b[38;5;28;01mNone\u001b[39;00m:\n\u001b[1;32m   5850\u001b[0m \u001b[38;5;250m    \u001b[39m\u001b[38;5;124;03m\"\"\"Create all tables stored in this metadata.\u001b[39;00m\n\u001b[1;32m   5851\u001b[0m \n\u001b[1;32m   5852\u001b[0m \u001b[38;5;124;03m    Conditional by default, will not attempt to recreate tables already\u001b[39;00m\n\u001b[0;32m   (...)\u001b[0m\n\u001b[1;32m   5866\u001b[0m \n\u001b[1;32m   5867\u001b[0m \u001b[38;5;124;03m    \"\"\"\u001b[39;00m\n\u001b[0;32m-> 5868\u001b[0m     \u001b[43mbind\u001b[49m\u001b[38;5;241;43m.\u001b[39;49m\u001b[43m_run_ddl_visitor\u001b[49m\u001b[43m(\u001b[49m\n\u001b[1;32m   5869\u001b[0m \u001b[43m        \u001b[49m\u001b[43mddl\u001b[49m\u001b[38;5;241;43m.\u001b[39;49m\u001b[43mSchemaGenerator\u001b[49m\u001b[43m,\u001b[49m\u001b[43m \u001b[49m\u001b[38;5;28;43mself\u001b[39;49m\u001b[43m,\u001b[49m\u001b[43m \u001b[49m\u001b[43mcheckfirst\u001b[49m\u001b[38;5;241;43m=\u001b[39;49m\u001b[43mcheckfirst\u001b[49m\u001b[43m,\u001b[49m\u001b[43m \u001b[49m\u001b[43mtables\u001b[49m\u001b[38;5;241;43m=\u001b[39;49m\u001b[43mtables\u001b[49m\n\u001b[1;32m   5870\u001b[0m \u001b[43m    \u001b[49m\u001b[43m)\u001b[49m\n",
      "File \u001b[0;32m~/code/research/public/InsertionQuerySpatialDBs/venv/lib/python3.12/site-packages/sqlalchemy/engine/base.py:3252\u001b[0m, in \u001b[0;36mEngine._run_ddl_visitor\u001b[0;34m(self, visitorcallable, element, **kwargs)\u001b[0m\n\u001b[1;32m   3246\u001b[0m \u001b[38;5;28;01mdef\u001b[39;00m \u001b[38;5;21m_run_ddl_visitor\u001b[39m(\n\u001b[1;32m   3247\u001b[0m     \u001b[38;5;28mself\u001b[39m,\n\u001b[1;32m   3248\u001b[0m     visitorcallable: Type[Union[SchemaGenerator, SchemaDropper]],\n\u001b[1;32m   3249\u001b[0m     element: SchemaItem,\n\u001b[1;32m   3250\u001b[0m     \u001b[38;5;241m*\u001b[39m\u001b[38;5;241m*\u001b[39mkwargs: Any,\n\u001b[1;32m   3251\u001b[0m ) \u001b[38;5;241m-\u001b[39m\u001b[38;5;241m>\u001b[39m \u001b[38;5;28;01mNone\u001b[39;00m:\n\u001b[0;32m-> 3252\u001b[0m \u001b[43m    \u001b[49m\u001b[38;5;28;43;01mwith\u001b[39;49;00m\u001b[43m \u001b[49m\u001b[38;5;28;43mself\u001b[39;49m\u001b[38;5;241;43m.\u001b[39;49m\u001b[43mbegin\u001b[49m\u001b[43m(\u001b[49m\u001b[43m)\u001b[49m\u001b[43m \u001b[49m\u001b[38;5;28;43;01mas\u001b[39;49;00m\u001b[43m \u001b[49m\u001b[43mconn\u001b[49m\u001b[43m:\u001b[49m\n\u001b[1;32m   3253\u001b[0m \u001b[43m        \u001b[49m\u001b[43mconn\u001b[49m\u001b[38;5;241;43m.\u001b[39;49m\u001b[43m_run_ddl_visitor\u001b[49m\u001b[43m(\u001b[49m\u001b[43mvisitorcallable\u001b[49m\u001b[43m,\u001b[49m\u001b[43m \u001b[49m\u001b[43melement\u001b[49m\u001b[43m,\u001b[49m\u001b[43m \u001b[49m\u001b[38;5;241;43m*\u001b[39;49m\u001b[38;5;241;43m*\u001b[39;49m\u001b[43mkwargs\u001b[49m\u001b[43m)\u001b[49m\n",
      "File \u001b[0;32m/usr/lib/python3.12/contextlib.py:137\u001b[0m, in \u001b[0;36m_GeneratorContextManager.__enter__\u001b[0;34m(self)\u001b[0m\n\u001b[1;32m    135\u001b[0m \u001b[38;5;28;01mdel\u001b[39;00m \u001b[38;5;28mself\u001b[39m\u001b[38;5;241m.\u001b[39margs, \u001b[38;5;28mself\u001b[39m\u001b[38;5;241m.\u001b[39mkwds, \u001b[38;5;28mself\u001b[39m\u001b[38;5;241m.\u001b[39mfunc\n\u001b[1;32m    136\u001b[0m \u001b[38;5;28;01mtry\u001b[39;00m:\n\u001b[0;32m--> 137\u001b[0m     \u001b[38;5;28;01mreturn\u001b[39;00m \u001b[38;5;28;43mnext\u001b[39;49m\u001b[43m(\u001b[49m\u001b[38;5;28;43mself\u001b[39;49m\u001b[38;5;241;43m.\u001b[39;49m\u001b[43mgen\u001b[49m\u001b[43m)\u001b[49m\n\u001b[1;32m    138\u001b[0m \u001b[38;5;28;01mexcept\u001b[39;00m \u001b[38;5;167;01mStopIteration\u001b[39;00m:\n\u001b[1;32m    139\u001b[0m     \u001b[38;5;28;01mraise\u001b[39;00m \u001b[38;5;167;01mRuntimeError\u001b[39;00m(\u001b[38;5;124m\"\u001b[39m\u001b[38;5;124mgenerator didn\u001b[39m\u001b[38;5;124m'\u001b[39m\u001b[38;5;124mt yield\u001b[39m\u001b[38;5;124m\"\u001b[39m) \u001b[38;5;28;01mfrom\u001b[39;00m \u001b[38;5;28;01mNone\u001b[39;00m\n",
      "File \u001b[0;32m~/code/research/public/InsertionQuerySpatialDBs/venv/lib/python3.12/site-packages/sqlalchemy/engine/base.py:3242\u001b[0m, in \u001b[0;36mEngine.begin\u001b[0;34m(self)\u001b[0m\n\u001b[1;32m   3215\u001b[0m \u001b[38;5;129m@contextlib\u001b[39m\u001b[38;5;241m.\u001b[39mcontextmanager\n\u001b[1;32m   3216\u001b[0m \u001b[38;5;28;01mdef\u001b[39;00m \u001b[38;5;21mbegin\u001b[39m(\u001b[38;5;28mself\u001b[39m) \u001b[38;5;241m-\u001b[39m\u001b[38;5;241m>\u001b[39m Iterator[Connection]:\n\u001b[1;32m   3217\u001b[0m \u001b[38;5;250m    \u001b[39m\u001b[38;5;124;03m\"\"\"Return a context manager delivering a :class:`_engine.Connection`\u001b[39;00m\n\u001b[1;32m   3218\u001b[0m \u001b[38;5;124;03m    with a :class:`.Transaction` established.\u001b[39;00m\n\u001b[1;32m   3219\u001b[0m \n\u001b[0;32m   (...)\u001b[0m\n\u001b[1;32m   3240\u001b[0m \n\u001b[1;32m   3241\u001b[0m \u001b[38;5;124;03m    \"\"\"\u001b[39;00m\n\u001b[0;32m-> 3242\u001b[0m     \u001b[38;5;28;01mwith\u001b[39;00m \u001b[38;5;28;43mself\u001b[39;49m\u001b[38;5;241;43m.\u001b[39;49m\u001b[43mconnect\u001b[49m\u001b[43m(\u001b[49m\u001b[43m)\u001b[49m \u001b[38;5;28;01mas\u001b[39;00m conn:\n\u001b[1;32m   3243\u001b[0m         \u001b[38;5;28;01mwith\u001b[39;00m conn\u001b[38;5;241m.\u001b[39mbegin():\n\u001b[1;32m   3244\u001b[0m             \u001b[38;5;28;01myield\u001b[39;00m conn\n",
      "File \u001b[0;32m~/code/research/public/InsertionQuerySpatialDBs/venv/lib/python3.12/site-packages/sqlalchemy/engine/base.py:3278\u001b[0m, in \u001b[0;36mEngine.connect\u001b[0;34m(self)\u001b[0m\n\u001b[1;32m   3255\u001b[0m \u001b[38;5;28;01mdef\u001b[39;00m \u001b[38;5;21mconnect\u001b[39m(\u001b[38;5;28mself\u001b[39m) \u001b[38;5;241m-\u001b[39m\u001b[38;5;241m>\u001b[39m Connection:\n\u001b[1;32m   3256\u001b[0m \u001b[38;5;250m    \u001b[39m\u001b[38;5;124;03m\"\"\"Return a new :class:`_engine.Connection` object.\u001b[39;00m\n\u001b[1;32m   3257\u001b[0m \n\u001b[1;32m   3258\u001b[0m \u001b[38;5;124;03m    The :class:`_engine.Connection` acts as a Python context manager, so\u001b[39;00m\n\u001b[0;32m   (...)\u001b[0m\n\u001b[1;32m   3275\u001b[0m \n\u001b[1;32m   3276\u001b[0m \u001b[38;5;124;03m    \"\"\"\u001b[39;00m\n\u001b[0;32m-> 3278\u001b[0m     \u001b[38;5;28;01mreturn\u001b[39;00m \u001b[38;5;28;43mself\u001b[39;49m\u001b[38;5;241;43m.\u001b[39;49m\u001b[43m_connection_cls\u001b[49m\u001b[43m(\u001b[49m\u001b[38;5;28;43mself\u001b[39;49m\u001b[43m)\u001b[49m\n",
      "File \u001b[0;32m~/code/research/public/InsertionQuerySpatialDBs/venv/lib/python3.12/site-packages/sqlalchemy/engine/base.py:148\u001b[0m, in \u001b[0;36mConnection.__init__\u001b[0;34m(self, engine, connection, _has_events, _allow_revalidate, _allow_autobegin)\u001b[0m\n\u001b[1;32m    146\u001b[0m         \u001b[38;5;28mself\u001b[39m\u001b[38;5;241m.\u001b[39m_dbapi_connection \u001b[38;5;241m=\u001b[39m engine\u001b[38;5;241m.\u001b[39mraw_connection()\n\u001b[1;32m    147\u001b[0m     \u001b[38;5;28;01mexcept\u001b[39;00m dialect\u001b[38;5;241m.\u001b[39mloaded_dbapi\u001b[38;5;241m.\u001b[39mError \u001b[38;5;28;01mas\u001b[39;00m err:\n\u001b[0;32m--> 148\u001b[0m         \u001b[43mConnection\u001b[49m\u001b[38;5;241;43m.\u001b[39;49m\u001b[43m_handle_dbapi_exception_noconnection\u001b[49m\u001b[43m(\u001b[49m\n\u001b[1;32m    149\u001b[0m \u001b[43m            \u001b[49m\u001b[43merr\u001b[49m\u001b[43m,\u001b[49m\u001b[43m \u001b[49m\u001b[43mdialect\u001b[49m\u001b[43m,\u001b[49m\u001b[43m \u001b[49m\u001b[43mengine\u001b[49m\n\u001b[1;32m    150\u001b[0m \u001b[43m        \u001b[49m\u001b[43m)\u001b[49m\n\u001b[1;32m    151\u001b[0m         \u001b[38;5;28;01mraise\u001b[39;00m\n\u001b[1;32m    152\u001b[0m \u001b[38;5;28;01melse\u001b[39;00m:\n",
      "File \u001b[0;32m~/code/research/public/InsertionQuerySpatialDBs/venv/lib/python3.12/site-packages/sqlalchemy/engine/base.py:2442\u001b[0m, in \u001b[0;36mConnection._handle_dbapi_exception_noconnection\u001b[0;34m(cls, e, dialect, engine, is_disconnect, invalidate_pool_on_disconnect, is_pre_ping)\u001b[0m\n\u001b[1;32m   2440\u001b[0m \u001b[38;5;28;01melif\u001b[39;00m should_wrap:\n\u001b[1;32m   2441\u001b[0m     \u001b[38;5;28;01massert\u001b[39;00m sqlalchemy_exception \u001b[38;5;129;01mis\u001b[39;00m \u001b[38;5;129;01mnot\u001b[39;00m \u001b[38;5;28;01mNone\u001b[39;00m\n\u001b[0;32m-> 2442\u001b[0m     \u001b[38;5;28;01mraise\u001b[39;00m sqlalchemy_exception\u001b[38;5;241m.\u001b[39mwith_traceback(exc_info[\u001b[38;5;241m2\u001b[39m]) \u001b[38;5;28;01mfrom\u001b[39;00m \u001b[38;5;21;01me\u001b[39;00m\n\u001b[1;32m   2443\u001b[0m \u001b[38;5;28;01melse\u001b[39;00m:\n\u001b[1;32m   2444\u001b[0m     \u001b[38;5;28;01massert\u001b[39;00m exc_info[\u001b[38;5;241m1\u001b[39m] \u001b[38;5;129;01mis\u001b[39;00m \u001b[38;5;129;01mnot\u001b[39;00m \u001b[38;5;28;01mNone\u001b[39;00m\n",
      "File \u001b[0;32m~/code/research/public/InsertionQuerySpatialDBs/venv/lib/python3.12/site-packages/sqlalchemy/engine/base.py:146\u001b[0m, in \u001b[0;36mConnection.__init__\u001b[0;34m(self, engine, connection, _has_events, _allow_revalidate, _allow_autobegin)\u001b[0m\n\u001b[1;32m    144\u001b[0m \u001b[38;5;28;01mif\u001b[39;00m connection \u001b[38;5;129;01mis\u001b[39;00m \u001b[38;5;28;01mNone\u001b[39;00m:\n\u001b[1;32m    145\u001b[0m     \u001b[38;5;28;01mtry\u001b[39;00m:\n\u001b[0;32m--> 146\u001b[0m         \u001b[38;5;28mself\u001b[39m\u001b[38;5;241m.\u001b[39m_dbapi_connection \u001b[38;5;241m=\u001b[39m \u001b[43mengine\u001b[49m\u001b[38;5;241;43m.\u001b[39;49m\u001b[43mraw_connection\u001b[49m\u001b[43m(\u001b[49m\u001b[43m)\u001b[49m\n\u001b[1;32m    147\u001b[0m     \u001b[38;5;28;01mexcept\u001b[39;00m dialect\u001b[38;5;241m.\u001b[39mloaded_dbapi\u001b[38;5;241m.\u001b[39mError \u001b[38;5;28;01mas\u001b[39;00m err:\n\u001b[1;32m    148\u001b[0m         Connection\u001b[38;5;241m.\u001b[39m_handle_dbapi_exception_noconnection(\n\u001b[1;32m    149\u001b[0m             err, dialect, engine\n\u001b[1;32m    150\u001b[0m         )\n",
      "File \u001b[0;32m~/code/research/public/InsertionQuerySpatialDBs/venv/lib/python3.12/site-packages/sqlalchemy/engine/base.py:3302\u001b[0m, in \u001b[0;36mEngine.raw_connection\u001b[0;34m(self)\u001b[0m\n\u001b[1;32m   3280\u001b[0m \u001b[38;5;28;01mdef\u001b[39;00m \u001b[38;5;21mraw_connection\u001b[39m(\u001b[38;5;28mself\u001b[39m) \u001b[38;5;241m-\u001b[39m\u001b[38;5;241m>\u001b[39m PoolProxiedConnection:\n\u001b[1;32m   3281\u001b[0m \u001b[38;5;250m    \u001b[39m\u001b[38;5;124;03m\"\"\"Return a \"raw\" DBAPI connection from the connection pool.\u001b[39;00m\n\u001b[1;32m   3282\u001b[0m \n\u001b[1;32m   3283\u001b[0m \u001b[38;5;124;03m    The returned object is a proxied version of the DBAPI\u001b[39;00m\n\u001b[0;32m   (...)\u001b[0m\n\u001b[1;32m   3300\u001b[0m \n\u001b[1;32m   3301\u001b[0m \u001b[38;5;124;03m    \"\"\"\u001b[39;00m\n\u001b[0;32m-> 3302\u001b[0m     \u001b[38;5;28;01mreturn\u001b[39;00m \u001b[38;5;28;43mself\u001b[39;49m\u001b[38;5;241;43m.\u001b[39;49m\u001b[43mpool\u001b[49m\u001b[38;5;241;43m.\u001b[39;49m\u001b[43mconnect\u001b[49m\u001b[43m(\u001b[49m\u001b[43m)\u001b[49m\n",
      "File \u001b[0;32m~/code/research/public/InsertionQuerySpatialDBs/venv/lib/python3.12/site-packages/sqlalchemy/pool/base.py:449\u001b[0m, in \u001b[0;36mPool.connect\u001b[0;34m(self)\u001b[0m\n\u001b[1;32m    441\u001b[0m \u001b[38;5;28;01mdef\u001b[39;00m \u001b[38;5;21mconnect\u001b[39m(\u001b[38;5;28mself\u001b[39m) \u001b[38;5;241m-\u001b[39m\u001b[38;5;241m>\u001b[39m PoolProxiedConnection:\n\u001b[1;32m    442\u001b[0m \u001b[38;5;250m    \u001b[39m\u001b[38;5;124;03m\"\"\"Return a DBAPI connection from the pool.\u001b[39;00m\n\u001b[1;32m    443\u001b[0m \n\u001b[1;32m    444\u001b[0m \u001b[38;5;124;03m    The connection is instrumented such that when its\u001b[39;00m\n\u001b[0;32m   (...)\u001b[0m\n\u001b[1;32m    447\u001b[0m \n\u001b[1;32m    448\u001b[0m \u001b[38;5;124;03m    \"\"\"\u001b[39;00m\n\u001b[0;32m--> 449\u001b[0m     \u001b[38;5;28;01mreturn\u001b[39;00m \u001b[43m_ConnectionFairy\u001b[49m\u001b[38;5;241;43m.\u001b[39;49m\u001b[43m_checkout\u001b[49m\u001b[43m(\u001b[49m\u001b[38;5;28;43mself\u001b[39;49m\u001b[43m)\u001b[49m\n",
      "File \u001b[0;32m~/code/research/public/InsertionQuerySpatialDBs/venv/lib/python3.12/site-packages/sqlalchemy/pool/base.py:1263\u001b[0m, in \u001b[0;36m_ConnectionFairy._checkout\u001b[0;34m(cls, pool, threadconns, fairy)\u001b[0m\n\u001b[1;32m   1255\u001b[0m \u001b[38;5;129m@classmethod\u001b[39m\n\u001b[1;32m   1256\u001b[0m \u001b[38;5;28;01mdef\u001b[39;00m \u001b[38;5;21m_checkout\u001b[39m(\n\u001b[1;32m   1257\u001b[0m     \u001b[38;5;28mcls\u001b[39m,\n\u001b[0;32m   (...)\u001b[0m\n\u001b[1;32m   1260\u001b[0m     fairy: Optional[_ConnectionFairy] \u001b[38;5;241m=\u001b[39m \u001b[38;5;28;01mNone\u001b[39;00m,\n\u001b[1;32m   1261\u001b[0m ) \u001b[38;5;241m-\u001b[39m\u001b[38;5;241m>\u001b[39m _ConnectionFairy:\n\u001b[1;32m   1262\u001b[0m     \u001b[38;5;28;01mif\u001b[39;00m \u001b[38;5;129;01mnot\u001b[39;00m fairy:\n\u001b[0;32m-> 1263\u001b[0m         fairy \u001b[38;5;241m=\u001b[39m \u001b[43m_ConnectionRecord\u001b[49m\u001b[38;5;241;43m.\u001b[39;49m\u001b[43mcheckout\u001b[49m\u001b[43m(\u001b[49m\u001b[43mpool\u001b[49m\u001b[43m)\u001b[49m\n\u001b[1;32m   1265\u001b[0m         \u001b[38;5;28;01mif\u001b[39;00m threadconns \u001b[38;5;129;01mis\u001b[39;00m \u001b[38;5;129;01mnot\u001b[39;00m \u001b[38;5;28;01mNone\u001b[39;00m:\n\u001b[1;32m   1266\u001b[0m             threadconns\u001b[38;5;241m.\u001b[39mcurrent \u001b[38;5;241m=\u001b[39m weakref\u001b[38;5;241m.\u001b[39mref(fairy)\n",
      "File \u001b[0;32m~/code/research/public/InsertionQuerySpatialDBs/venv/lib/python3.12/site-packages/sqlalchemy/pool/base.py:712\u001b[0m, in \u001b[0;36m_ConnectionRecord.checkout\u001b[0;34m(cls, pool)\u001b[0m\n\u001b[1;32m    710\u001b[0m     rec \u001b[38;5;241m=\u001b[39m cast(_ConnectionRecord, pool\u001b[38;5;241m.\u001b[39m_do_get())\n\u001b[1;32m    711\u001b[0m \u001b[38;5;28;01melse\u001b[39;00m:\n\u001b[0;32m--> 712\u001b[0m     rec \u001b[38;5;241m=\u001b[39m \u001b[43mpool\u001b[49m\u001b[38;5;241;43m.\u001b[39;49m\u001b[43m_do_get\u001b[49m\u001b[43m(\u001b[49m\u001b[43m)\u001b[49m\n\u001b[1;32m    714\u001b[0m \u001b[38;5;28;01mtry\u001b[39;00m:\n\u001b[1;32m    715\u001b[0m     dbapi_connection \u001b[38;5;241m=\u001b[39m rec\u001b[38;5;241m.\u001b[39mget_connection()\n",
      "File \u001b[0;32m~/code/research/public/InsertionQuerySpatialDBs/venv/lib/python3.12/site-packages/sqlalchemy/pool/impl.py:179\u001b[0m, in \u001b[0;36mQueuePool._do_get\u001b[0;34m(self)\u001b[0m\n\u001b[1;32m    177\u001b[0m     \u001b[38;5;28;01mreturn\u001b[39;00m \u001b[38;5;28mself\u001b[39m\u001b[38;5;241m.\u001b[39m_create_connection()\n\u001b[1;32m    178\u001b[0m \u001b[38;5;28;01mexcept\u001b[39;00m:\n\u001b[0;32m--> 179\u001b[0m \u001b[43m    \u001b[49m\u001b[38;5;28;43;01mwith\u001b[39;49;00m\u001b[43m \u001b[49m\u001b[43mutil\u001b[49m\u001b[38;5;241;43m.\u001b[39;49m\u001b[43msafe_reraise\u001b[49m\u001b[43m(\u001b[49m\u001b[43m)\u001b[49m\u001b[43m:\u001b[49m\n\u001b[1;32m    180\u001b[0m \u001b[43m        \u001b[49m\u001b[38;5;28;43mself\u001b[39;49m\u001b[38;5;241;43m.\u001b[39;49m\u001b[43m_dec_overflow\u001b[49m\u001b[43m(\u001b[49m\u001b[43m)\u001b[49m\n\u001b[1;32m    181\u001b[0m     \u001b[38;5;28;01mraise\u001b[39;00m\n",
      "File \u001b[0;32m~/code/research/public/InsertionQuerySpatialDBs/venv/lib/python3.12/site-packages/sqlalchemy/util/langhelpers.py:146\u001b[0m, in \u001b[0;36msafe_reraise.__exit__\u001b[0;34m(self, type_, value, traceback)\u001b[0m\n\u001b[1;32m    144\u001b[0m     \u001b[38;5;28;01massert\u001b[39;00m exc_value \u001b[38;5;129;01mis\u001b[39;00m \u001b[38;5;129;01mnot\u001b[39;00m \u001b[38;5;28;01mNone\u001b[39;00m\n\u001b[1;32m    145\u001b[0m     \u001b[38;5;28mself\u001b[39m\u001b[38;5;241m.\u001b[39m_exc_info \u001b[38;5;241m=\u001b[39m \u001b[38;5;28;01mNone\u001b[39;00m  \u001b[38;5;66;03m# remove potential circular references\u001b[39;00m\n\u001b[0;32m--> 146\u001b[0m     \u001b[38;5;28;01mraise\u001b[39;00m exc_value\u001b[38;5;241m.\u001b[39mwith_traceback(exc_tb)\n\u001b[1;32m    147\u001b[0m \u001b[38;5;28;01melse\u001b[39;00m:\n\u001b[1;32m    148\u001b[0m     \u001b[38;5;28mself\u001b[39m\u001b[38;5;241m.\u001b[39m_exc_info \u001b[38;5;241m=\u001b[39m \u001b[38;5;28;01mNone\u001b[39;00m  \u001b[38;5;66;03m# remove potential circular references\u001b[39;00m\n",
      "File \u001b[0;32m~/code/research/public/InsertionQuerySpatialDBs/venv/lib/python3.12/site-packages/sqlalchemy/pool/impl.py:177\u001b[0m, in \u001b[0;36mQueuePool._do_get\u001b[0;34m(self)\u001b[0m\n\u001b[1;32m    175\u001b[0m \u001b[38;5;28;01mif\u001b[39;00m \u001b[38;5;28mself\u001b[39m\u001b[38;5;241m.\u001b[39m_inc_overflow():\n\u001b[1;32m    176\u001b[0m     \u001b[38;5;28;01mtry\u001b[39;00m:\n\u001b[0;32m--> 177\u001b[0m         \u001b[38;5;28;01mreturn\u001b[39;00m \u001b[38;5;28;43mself\u001b[39;49m\u001b[38;5;241;43m.\u001b[39;49m\u001b[43m_create_connection\u001b[49m\u001b[43m(\u001b[49m\u001b[43m)\u001b[49m\n\u001b[1;32m    178\u001b[0m     \u001b[38;5;28;01mexcept\u001b[39;00m:\n\u001b[1;32m    179\u001b[0m         \u001b[38;5;28;01mwith\u001b[39;00m util\u001b[38;5;241m.\u001b[39msafe_reraise():\n",
      "File \u001b[0;32m~/code/research/public/InsertionQuerySpatialDBs/venv/lib/python3.12/site-packages/sqlalchemy/pool/base.py:390\u001b[0m, in \u001b[0;36mPool._create_connection\u001b[0;34m(self)\u001b[0m\n\u001b[1;32m    387\u001b[0m \u001b[38;5;28;01mdef\u001b[39;00m \u001b[38;5;21m_create_connection\u001b[39m(\u001b[38;5;28mself\u001b[39m) \u001b[38;5;241m-\u001b[39m\u001b[38;5;241m>\u001b[39m ConnectionPoolEntry:\n\u001b[1;32m    388\u001b[0m \u001b[38;5;250m    \u001b[39m\u001b[38;5;124;03m\"\"\"Called by subclasses to create a new ConnectionRecord.\"\"\"\u001b[39;00m\n\u001b[0;32m--> 390\u001b[0m     \u001b[38;5;28;01mreturn\u001b[39;00m \u001b[43m_ConnectionRecord\u001b[49m\u001b[43m(\u001b[49m\u001b[38;5;28;43mself\u001b[39;49m\u001b[43m)\u001b[49m\n",
      "File \u001b[0;32m~/code/research/public/InsertionQuerySpatialDBs/venv/lib/python3.12/site-packages/sqlalchemy/pool/base.py:674\u001b[0m, in \u001b[0;36m_ConnectionRecord.__init__\u001b[0;34m(self, pool, connect)\u001b[0m\n\u001b[1;32m    672\u001b[0m \u001b[38;5;28mself\u001b[39m\u001b[38;5;241m.\u001b[39m__pool \u001b[38;5;241m=\u001b[39m pool\n\u001b[1;32m    673\u001b[0m \u001b[38;5;28;01mif\u001b[39;00m connect:\n\u001b[0;32m--> 674\u001b[0m     \u001b[38;5;28;43mself\u001b[39;49m\u001b[38;5;241;43m.\u001b[39;49m\u001b[43m__connect\u001b[49m\u001b[43m(\u001b[49m\u001b[43m)\u001b[49m\n\u001b[1;32m    675\u001b[0m \u001b[38;5;28mself\u001b[39m\u001b[38;5;241m.\u001b[39mfinalize_callback \u001b[38;5;241m=\u001b[39m deque()\n",
      "File \u001b[0;32m~/code/research/public/InsertionQuerySpatialDBs/venv/lib/python3.12/site-packages/sqlalchemy/pool/base.py:900\u001b[0m, in \u001b[0;36m_ConnectionRecord.__connect\u001b[0;34m(self)\u001b[0m\n\u001b[1;32m    898\u001b[0m     \u001b[38;5;28mself\u001b[39m\u001b[38;5;241m.\u001b[39mfresh \u001b[38;5;241m=\u001b[39m \u001b[38;5;28;01mTrue\u001b[39;00m\n\u001b[1;32m    899\u001b[0m \u001b[38;5;28;01mexcept\u001b[39;00m \u001b[38;5;167;01mBaseException\u001b[39;00m \u001b[38;5;28;01mas\u001b[39;00m e:\n\u001b[0;32m--> 900\u001b[0m \u001b[43m    \u001b[49m\u001b[38;5;28;43;01mwith\u001b[39;49;00m\u001b[43m \u001b[49m\u001b[43mutil\u001b[49m\u001b[38;5;241;43m.\u001b[39;49m\u001b[43msafe_reraise\u001b[49m\u001b[43m(\u001b[49m\u001b[43m)\u001b[49m\u001b[43m:\u001b[49m\n\u001b[1;32m    901\u001b[0m \u001b[43m        \u001b[49m\u001b[43mpool\u001b[49m\u001b[38;5;241;43m.\u001b[39;49m\u001b[43mlogger\u001b[49m\u001b[38;5;241;43m.\u001b[39;49m\u001b[43mdebug\u001b[49m\u001b[43m(\u001b[49m\u001b[38;5;124;43m\"\u001b[39;49m\u001b[38;5;124;43mError on connect(): \u001b[39;49m\u001b[38;5;132;43;01m%s\u001b[39;49;00m\u001b[38;5;124;43m\"\u001b[39;49m\u001b[43m,\u001b[49m\u001b[43m \u001b[49m\u001b[43me\u001b[49m\u001b[43m)\u001b[49m\n\u001b[1;32m    902\u001b[0m \u001b[38;5;28;01melse\u001b[39;00m:\n\u001b[1;32m    903\u001b[0m     \u001b[38;5;66;03m# in SQLAlchemy 1.4 the first_connect event is not used by\u001b[39;00m\n\u001b[1;32m    904\u001b[0m     \u001b[38;5;66;03m# the engine, so this will usually not be set\u001b[39;00m\n",
      "File \u001b[0;32m~/code/research/public/InsertionQuerySpatialDBs/venv/lib/python3.12/site-packages/sqlalchemy/util/langhelpers.py:146\u001b[0m, in \u001b[0;36msafe_reraise.__exit__\u001b[0;34m(self, type_, value, traceback)\u001b[0m\n\u001b[1;32m    144\u001b[0m     \u001b[38;5;28;01massert\u001b[39;00m exc_value \u001b[38;5;129;01mis\u001b[39;00m \u001b[38;5;129;01mnot\u001b[39;00m \u001b[38;5;28;01mNone\u001b[39;00m\n\u001b[1;32m    145\u001b[0m     \u001b[38;5;28mself\u001b[39m\u001b[38;5;241m.\u001b[39m_exc_info \u001b[38;5;241m=\u001b[39m \u001b[38;5;28;01mNone\u001b[39;00m  \u001b[38;5;66;03m# remove potential circular references\u001b[39;00m\n\u001b[0;32m--> 146\u001b[0m     \u001b[38;5;28;01mraise\u001b[39;00m exc_value\u001b[38;5;241m.\u001b[39mwith_traceback(exc_tb)\n\u001b[1;32m    147\u001b[0m \u001b[38;5;28;01melse\u001b[39;00m:\n\u001b[1;32m    148\u001b[0m     \u001b[38;5;28mself\u001b[39m\u001b[38;5;241m.\u001b[39m_exc_info \u001b[38;5;241m=\u001b[39m \u001b[38;5;28;01mNone\u001b[39;00m  \u001b[38;5;66;03m# remove potential circular references\u001b[39;00m\n",
      "File \u001b[0;32m~/code/research/public/InsertionQuerySpatialDBs/venv/lib/python3.12/site-packages/sqlalchemy/pool/base.py:896\u001b[0m, in \u001b[0;36m_ConnectionRecord.__connect\u001b[0;34m(self)\u001b[0m\n\u001b[1;32m    894\u001b[0m \u001b[38;5;28;01mtry\u001b[39;00m:\n\u001b[1;32m    895\u001b[0m     \u001b[38;5;28mself\u001b[39m\u001b[38;5;241m.\u001b[39mstarttime \u001b[38;5;241m=\u001b[39m time\u001b[38;5;241m.\u001b[39mtime()\n\u001b[0;32m--> 896\u001b[0m     \u001b[38;5;28mself\u001b[39m\u001b[38;5;241m.\u001b[39mdbapi_connection \u001b[38;5;241m=\u001b[39m connection \u001b[38;5;241m=\u001b[39m \u001b[43mpool\u001b[49m\u001b[38;5;241;43m.\u001b[39;49m\u001b[43m_invoke_creator\u001b[49m\u001b[43m(\u001b[49m\u001b[38;5;28;43mself\u001b[39;49m\u001b[43m)\u001b[49m\n\u001b[1;32m    897\u001b[0m     pool\u001b[38;5;241m.\u001b[39mlogger\u001b[38;5;241m.\u001b[39mdebug(\u001b[38;5;124m\"\u001b[39m\u001b[38;5;124mCreated new connection \u001b[39m\u001b[38;5;132;01m%r\u001b[39;00m\u001b[38;5;124m\"\u001b[39m, connection)\n\u001b[1;32m    898\u001b[0m     \u001b[38;5;28mself\u001b[39m\u001b[38;5;241m.\u001b[39mfresh \u001b[38;5;241m=\u001b[39m \u001b[38;5;28;01mTrue\u001b[39;00m\n",
      "File \u001b[0;32m~/code/research/public/InsertionQuerySpatialDBs/venv/lib/python3.12/site-packages/sqlalchemy/engine/create.py:643\u001b[0m, in \u001b[0;36mcreate_engine.<locals>.connect\u001b[0;34m(connection_record)\u001b[0m\n\u001b[1;32m    640\u001b[0m         \u001b[38;5;28;01mif\u001b[39;00m connection \u001b[38;5;129;01mis\u001b[39;00m \u001b[38;5;129;01mnot\u001b[39;00m \u001b[38;5;28;01mNone\u001b[39;00m:\n\u001b[1;32m    641\u001b[0m             \u001b[38;5;28;01mreturn\u001b[39;00m connection\n\u001b[0;32m--> 643\u001b[0m \u001b[38;5;28;01mreturn\u001b[39;00m \u001b[43mdialect\u001b[49m\u001b[38;5;241;43m.\u001b[39;49m\u001b[43mconnect\u001b[49m\u001b[43m(\u001b[49m\u001b[38;5;241;43m*\u001b[39;49m\u001b[43mcargs\u001b[49m\u001b[43m,\u001b[49m\u001b[43m \u001b[49m\u001b[38;5;241;43m*\u001b[39;49m\u001b[38;5;241;43m*\u001b[39;49m\u001b[43mcparams\u001b[49m\u001b[43m)\u001b[49m\n",
      "File \u001b[0;32m~/code/research/public/InsertionQuerySpatialDBs/venv/lib/python3.12/site-packages/sqlalchemy/engine/default.py:621\u001b[0m, in \u001b[0;36mDefaultDialect.connect\u001b[0;34m(self, *cargs, **cparams)\u001b[0m\n\u001b[1;32m    619\u001b[0m \u001b[38;5;28;01mdef\u001b[39;00m \u001b[38;5;21mconnect\u001b[39m(\u001b[38;5;28mself\u001b[39m, \u001b[38;5;241m*\u001b[39mcargs, \u001b[38;5;241m*\u001b[39m\u001b[38;5;241m*\u001b[39mcparams):\n\u001b[1;32m    620\u001b[0m     \u001b[38;5;66;03m# inherits the docstring from interfaces.Dialect.connect\u001b[39;00m\n\u001b[0;32m--> 621\u001b[0m     \u001b[38;5;28;01mreturn\u001b[39;00m \u001b[38;5;28;43mself\u001b[39;49m\u001b[38;5;241;43m.\u001b[39;49m\u001b[43mloaded_dbapi\u001b[49m\u001b[38;5;241;43m.\u001b[39;49m\u001b[43mconnect\u001b[49m\u001b[43m(\u001b[49m\u001b[38;5;241;43m*\u001b[39;49m\u001b[43mcargs\u001b[49m\u001b[43m,\u001b[49m\u001b[43m \u001b[49m\u001b[38;5;241;43m*\u001b[39;49m\u001b[38;5;241;43m*\u001b[39;49m\u001b[43mcparams\u001b[49m\u001b[43m)\u001b[49m\n",
      "\u001b[0;31mOperationalError\u001b[0m: (sqlite3.OperationalError) unable to open database file\n(Background on this error at: https://sqlalche.me/e/20/e3q8)"
     ]
    }
   ],
   "source": [
    "# Create the table\n",
    "Base.metadata.create_all(engine)"
   ]
  },
  {
   "cell_type": "code",
   "execution_count": null,
   "id": "fc5e3f29-6cda-4d51-9aa7-422c1bc5f9ab",
   "metadata": {},
   "outputs": [],
   "source": [
    "%%timeit\n",
    "# -- orm approach\n",
    "from sqlalchemy.orm import Session\n",
    "\n",
    "# Getting the total number of rows\n",
    "with Session(engine) as session:\n",
    "    total_rows = session.query(GeometryModel).count()\n",
    "print(total_rows)    "
   ]
  },
  {
   "cell_type": "code",
   "execution_count": null,
   "id": "3146d422-a34c-4568-80a9-a8be7e1b1640",
   "metadata": {},
   "outputs": [],
   "source": [
    "%%timeit\n",
    "# -- core approach\n",
    "from sqlalchemy import create_engine, MetaData, Table, select, func\n",
    "import random\n",
    "with  engine.connect() as conn:\n",
    "    total_rows = conn.execute(text(\"select count(*) from geometries;\")).fetchone()[0]\n",
    "print(total_rows)\n"
   ]
  },
  {
   "cell_type": "code",
   "execution_count": 14,
   "id": "75d5a91e-e7a0-40e4-a141-f6f84ee83187",
   "metadata": {},
   "outputs": [],
   "source": [
    "### note the previous ORM cell has to be executed without \"timeit\" so that the total_rows are actually calculated and session is created"
   ]
  },
  {
   "cell_type": "code",
   "execution_count": null,
   "id": "45f0a904-081c-4c18-95b1-a01740e0082f",
   "metadata": {
    "scrolled": true
   },
   "outputs": [],
   "source": [
    "%%timeit\n",
    "\n",
    "# ORM approach\n",
    "random_index = random.randint(1, total_rows)\n",
    "\n",
    "# Retrieve the random row by ID and convert the geom to a Shapely object\n",
    "with Session(engine) as session:\n",
    "    random_row = session.query(GeometryModel).filter_by(id=random_index).first()\n",
    "    #--- approach 1 - return only id\n",
    "    #print(random_row.id, end=\" \" )\n",
    "    #--- approach 2 - inline convert to shapely\n",
    "    # geom = random_row.shapely_geom #force convert\n",
    "    # print(random_row.id, end = \" \") #but don't print polygon because too much info\n",
    "    #--- approach 3 - inline convert to shapely and compute area\n",
    "    print(random_row.shapely_geom.area, end = \" \") ## uses property to compute dynamically\n"
   ]
  },
  {
   "cell_type": "code",
   "execution_count": null,
   "id": "26e3dc64-bca7-4f0d-9d70-7aef3b1456d0",
   "metadata": {
    "scrolled": true
   },
   "outputs": [],
   "source": [
    "%%timeit\n",
    "# -- get the geom directly, and convert to shapely object via WKB\n",
    "random_index = random.randint(1, total_rows)\n",
    "\n",
    "#NAUCED DIFFERENCE HERE --- geom type in spatiliate is **not exactly** a WKB\n",
    "with engine.connect() as conn:\n",
    "    random_row = conn.execute(\n",
    "        text(f'''\n",
    "        SELECT id,AsEWKB(geom)\n",
    "        FROM geometries \n",
    "        WHERE id = {random_index}\n",
    "        ''')\n",
    "    ).fetchone()\n",
    "    obj=shapely.wkb.loads(random_row[1])\n",
    "    \n",
    "print(random_row[0],end=\" \")\n",
    "#print(obj.area,end=\" \") # lenght of the goejson -- shold be > 0"
   ]
  },
  {
   "cell_type": "code",
   "execution_count": null,
   "id": "43f72d93-0018-4f2b-898d-add3c3c7b43a",
   "metadata": {
    "scrolled": true
   },
   "outputs": [],
   "source": [
    "%%timeit\n",
    "\n",
    "# convert to geojson in the database, and return the string\n",
    "random_index = random.randint(1, total_rows)\n",
    "\n",
    "with engine.connect() as conn:\n",
    "    random_row = conn.execute(\n",
    "        text(f'''\n",
    "        SELECT id, AsGeoJSON(geom) as geom \n",
    "        FROM geometries \n",
    "        WHERE id = {random_index}\n",
    "        ''')\n",
    "    ).fetchone()\n",
    "print(len(random_row[1]),end=\" \") # lenght of the goejson -- shold be > 0"
   ]
  },
  {
   "cell_type": "code",
   "execution_count": null,
   "id": "b9dc7677-c1e0-4a66-9fb5-6deac565d56a",
   "metadata": {
    "scrolled": true
   },
   "outputs": [],
   "source": [
    "%%timeit\n",
    "# with compute centroid dynamic\n",
    "random_index = random.randint(1, total_rows)\n",
    "\n",
    "with engine.connect() as conn:\n",
    "    random_row = conn.execute(\n",
    "        text(f'''\n",
    "        SELECT id, AsGeoJSON(geom) as geom\n",
    "        FROM geometries\n",
    "        WHERE id = {random_index}\n",
    "        ''')\n",
    "    ).fetchone()\n",
    "obj=shapely.from_geojson(random_row[1])\n",
    "print(obj.area,end=\" \") # lenght of the goejson -- shold be > 0"
   ]
  },
  {
   "cell_type": "code",
   "execution_count": null,
   "id": "bc38e6f0-a184-4c81-b863-c680e9d73f49",
   "metadata": {
    "scrolled": true
   },
   "outputs": [],
   "source": [
    "%%timeit\n",
    "# with compute centroid dynamic\n",
    "random_index = random.randint(1, total_rows)\n",
    "\n",
    "with engine.connect() as conn:\n",
    "    random_row = conn.execute(\n",
    "        text(f'''\n",
    "        SELECT id, AsGeoJSON(geom) as geom, AsGeoJSON(ST_Centroid(geom)) as centroid \n",
    "        FROM geometries \n",
    "        WHERE id = {random_index}\n",
    "        ''')\n",
    "    ).fetchone()\n",
    "print(len(random_row[1]),end=\" \") # lenght of the goejson -- shold be > 0"
   ]
  },
  {
   "cell_type": "code",
   "execution_count": null,
   "id": "624bf887-ddb4-469b-87c2-04e55239e800",
   "metadata": {},
   "outputs": [],
   "source": []
  },
  {
   "cell_type": "code",
   "execution_count": null,
   "id": "334f9104-d8ee-4bfc-94d3-f8e16f3b19d9",
   "metadata": {},
   "outputs": [],
   "source": []
  },
  {
   "cell_type": "code",
   "execution_count": null,
   "id": "808d8d28-0f72-41ae-b132-64821f00ac6c",
   "metadata": {},
   "outputs": [],
   "source": []
  },
  {
   "cell_type": "markdown",
   "id": "d8241cfc-73ac-4dca-8c01-3e9022b2b2a8",
   "metadata": {},
   "source": [
    "### below are spatial query tests"
   ]
  },
  {
   "cell_type": "code",
   "execution_count": null,
   "id": "b1db80b6-6c8a-4917-a66f-90c5be274909",
   "metadata": {},
   "outputs": [],
   "source": [
    "%%timeit -n 1 -r 100\n",
    "random_index = random.randint(1, total_rows)\n",
    "    \n",
    "half_bbox_size= 1_000\n",
    "# Step 3: Query for the specific row based on the random index\n",
    "with engine.connect() as conn:\n",
    "    random_row = conn.execute(\n",
    "        text(f'''\n",
    "        SELECT id, AsGeoJSON(ST_Centroid(geom)) as centroid \n",
    "        FROM geometries \n",
    "        WHERE id = {random_index}\n",
    "        ''')\n",
    "    ).fetchone()\n",
    "    \n",
    "\n",
    "    centroid_x,centroid_y=orjson.loads(random_row[1])['coordinates']\n",
    "\n",
    "    bounding_box_polygons = conn.execute(\n",
    "        text(f'''\n",
    "        SELECT id, AsGeoJSON(geom) as geom \n",
    "        FROM geometries \n",
    "        WHERE MbrIntersects(\n",
    "            geom,\n",
    "            BuildMBR(\n",
    "                {centroid_x - half_bbox_size}, {centroid_y - half_bbox_size},\n",
    "                {centroid_x + half_bbox_size}, {centroid_y + half_bbox_size}\n",
    "            )\n",
    "        )\n",
    "        ''')\n",
    "     ).fetchall()\n",
    "\n",
    "print(len(bounding_box_polygons), end= \" \" )"
   ]
  },
  {
   "cell_type": "code",
   "execution_count": null,
   "id": "f3a40509-5211-475a-9eaa-3905702a84dc",
   "metadata": {},
   "outputs": [],
   "source": [
    "%%timeit\n",
    "random_index = random.randint(1, total_rows)\n",
    "    \n",
    "half_bbox_size= 100\n",
    "# Step 3: Query for the specific row based on the random index\n",
    "with engine.connect() as conn:\n",
    "    random_row = conn.execute(\n",
    "        text(f'''\n",
    "        SELECT id, AsGeoJSON(ST_Centroid(geom)) as centroid \n",
    "        FROM geometries \n",
    "        WHERE id = {random_index}\n",
    "        ''')\n",
    "    ).fetchone()\n",
    "    \n",
    "\n",
    "    centroid_x,centroid_y=orjson.loads(random_row[1])['coordinates']\n",
    "\n",
    "    bounding_box_polygons = conn.execute(\n",
    "        text(f'''\n",
    "        SELECT id, AsGeoJSON(geom) as geom \n",
    "        FROM geometries \n",
    "        WHERE MbrIntersects(\n",
    "            geom,\n",
    "            BuildMBR(\n",
    "                {centroid_x - half_bbox_size}, {centroid_y - half_bbox_size},\n",
    "                {centroid_x + half_bbox_size}, {centroid_y + half_bbox_size}\n",
    "            )\n",
    "        )\n",
    "        ''')\n",
    "     ).fetchall()\n",
    "\n",
    "print(len(bounding_box_polygons), end= \" \" )"
   ]
  },
  {
   "cell_type": "code",
   "execution_count": null,
   "id": "b7208c44-8a56-4cef-b2b8-d43cb292d68d",
   "metadata": {},
   "outputs": [],
   "source": [
    "%%timeit -n 1 -r 100\n",
    "\n",
    "random_index = random.randint(1, total_rows)\n",
    "    \n",
    "half_bbox_size= 1_000\n",
    "# Step 3: Query for the specific row based on the random index\n",
    "with engine.connect() as conn:\n",
    "    random_row = conn.execute(\n",
    "        text(f'''\n",
    "        SELECT id, AsGeoJSON(ST_Centroid(geom)) as centroid \n",
    "        FROM geometries \n",
    "        WHERE id = {random_index}\n",
    "        ''')\n",
    "    ).fetchone()\n",
    "    \n",
    "\n",
    "    centroid_x,centroid_y=orjson.loads(random_row[1])['coordinates']\n",
    "\n",
    "    bounding_box_polygons = conn.execute(\n",
    "        text(f'''\n",
    "        SELECT id, AsGeoJSON(geom) as geom \n",
    "        FROM geometries \n",
    "        WHERE geometries.ROWID IN (\n",
    "        SELECT ROWID\n",
    "        FROM SpatialIndex\n",
    "        WHERE f_table_name = 'geometries'\n",
    "           AND search_frame =             BuildMBR(\n",
    "                {centroid_x - half_bbox_size}, {centroid_y - half_bbox_size},\n",
    "                {centroid_x + half_bbox_size}, {centroid_y + half_bbox_size}\n",
    "            ))\n",
    "        ''')\n",
    "     ).fetchall()\n",
    "\n",
    "print(len(bounding_box_polygons), end= \" \" )"
   ]
  },
  {
   "cell_type": "code",
   "execution_count": null,
   "id": "11c12d57-caae-414a-adf7-af7f85950050",
   "metadata": {},
   "outputs": [],
   "source": [
    "%%timeit\n",
    "\n",
    "random_index = random.randint(1, total_rows)\n",
    "    \n",
    "half_bbox_size= 100\n",
    "# Step 3: Query for the specific row based on the random index\n",
    "with engine.connect() as conn:\n",
    "    random_row = conn.execute(\n",
    "        text(f'''\n",
    "        SELECT id, AsGeoJSON(ST_Centroid(geom)) as centroid \n",
    "        FROM geometries \n",
    "        WHERE id = {random_index}\n",
    "        ''')\n",
    "    ).fetchone()\n",
    "    \n",
    "\n",
    "    centroid_x,centroid_y=orjson.loads(random_row[1])['coordinates']\n",
    "\n",
    "    bounding_box_polygons = conn.execute(\n",
    "        text(f'''\n",
    "        SELECT id, AsGeoJSON(geom) as geom \n",
    "        FROM geometries \n",
    "        WHERE MbrIntersects(\n",
    "            geom,\n",
    "            BuildMBR(\n",
    "                {centroid_x - half_bbox_size}, {centroid_y - half_bbox_size},\n",
    "                {centroid_x + half_bbox_size}, {centroid_y + half_bbox_size}\n",
    "            )\n",
    "        ) AND geometries.ROWID IN (\n",
    "        SELECT ROWID\n",
    "        FROM SpatialIndex\n",
    "        WHERE f_table_name = 'geometries'\n",
    "           AND search_frame =             BuildMBR(\n",
    "                {centroid_x - half_bbox_size}, {centroid_y - half_bbox_size},\n",
    "                {centroid_x + half_bbox_size}, {centroid_y + half_bbox_size}\n",
    "            ))\n",
    "        ''')\n",
    "     ).fetchall()\n",
    "\n",
    "print(len(bounding_box_polygons), end= \" \" )"
   ]
  },
  {
   "cell_type": "code",
   "execution_count": null,
   "id": "302c0a9d-dcae-4893-9a8b-5c68d82aa04d",
   "metadata": {},
   "outputs": [],
   "source": [
    "%%timeit\n",
    "\n",
    "with engine.connect() as conn:\n",
    "\n",
    "    bounding_box_polygons = conn.execute(\n",
    "        text(f'''\n",
    "        SELECT id, AsGeoJSON(geom) as geom \n",
    "        FROM geometries \n",
    "        WHERE MbrIntersects(\n",
    "            geom,\n",
    "            BuildMBR(\n",
    "                {centroid_x - half_bbox_size}, {centroid_y - half_bbox_size},\n",
    "                {centroid_x + half_bbox_size}, {centroid_y + half_bbox_size}\n",
    "            )\n",
    "        ) AND geometries.ROWID IN (\n",
    "        SELECT ROWID\n",
    "        FROM SpatialIndex\n",
    "        WHERE f_table_name = 'geometries'\n",
    "           AND search_frame =             BuildMBR(\n",
    "                {centroid_x - half_bbox_size}, {centroid_y - half_bbox_size},\n",
    "                {centroid_x + half_bbox_size}, {centroid_y + half_bbox_size}\n",
    "            ))\n",
    "        ''')\n",
    "     ).fetchall()\n",
    "\n",
    "print(len(bounding_box_polygons), end= \" \" )"
   ]
  },
  {
   "cell_type": "code",
   "execution_count": null,
   "id": "98432553-f62d-43cf-9b72-a7dba60db863",
   "metadata": {},
   "outputs": [],
   "source": [
    "%%timeit\n",
    "\n",
    "with engine.connect() as conn:\n",
    "\n",
    "    bounding_box_polygons = conn.execute(\n",
    "        text(f'''\n",
    "        SELECT id, AsGeoJSON(geom) as geom \n",
    "        FROM geometries \n",
    "        WHERE geometries.ROWID IN (\n",
    "        SELECT ROWID\n",
    "        FROM SpatialIndex\n",
    "        WHERE f_table_name = 'geometries'\n",
    "           AND search_frame =             BuildMBR(\n",
    "                {centroid_x - half_bbox_size}, {centroid_y - half_bbox_size},\n",
    "                {centroid_x + half_bbox_size}, {centroid_y + half_bbox_size}\n",
    "            ))\n",
    "        ''')\n",
    "     ).fetchall()\n",
    "\n",
    "print(len(bounding_box_polygons), end= \" \" )"
   ]
  },
  {
   "cell_type": "code",
   "execution_count": null,
   "id": "565c45e3-1630-4cfb-aa50-9a577624b8bc",
   "metadata": {},
   "outputs": [],
   "source": [
    "a=text(f'''\n",
    "SELECT id, AsGeoJSON(geom) as geom \n",
    "FROM geometries \n",
    "WHERE MbrIntersects(\n",
    "    geom,\n",
    "    BuildMBR(\n",
    "        {centroid_x - half_bbox_size}, {centroid_y - half_bbox_size},\n",
    "        {centroid_x + half_bbox_size}, {centroid_y + half_bbox_size}\n",
    "    )\n",
    ") AND geometries.ROWID IN (\n",
    "SELECT ROWID\n",
    "FROM SpatialIndex\n",
    "WHERE f_table_name = 'geometries'\n",
    "   AND search_frame =             BuildMBR(\n",
    "        {centroid_x - half_bbox_size}, {centroid_y - half_bbox_size},\n",
    "        {centroid_x + half_bbox_size}, {centroid_y + half_bbox_size}\n",
    "    ))''')"
   ]
  },
  {
   "cell_type": "code",
   "execution_count": null,
   "id": "23c57450-a569-4083-8541-6755fcc30f39",
   "metadata": {},
   "outputs": [],
   "source": [
    "print(a)"
   ]
  },
  {
   "cell_type": "code",
   "execution_count": null,
   "id": "a8280971-78cb-4f19-ba41-41e2a900ddf8",
   "metadata": {},
   "outputs": [],
   "source": [
    "b=        text(f'''\n",
    "        SELECT id, AsGeoJSON(geom) as geom \n",
    "        FROM geometries \n",
    "        WHERE geometries.ROWID IN (\n",
    "        SELECT ROWID\n",
    "        FROM SpatialIndex\n",
    "        WHERE f_table_name = 'geometries'\n",
    "           AND search_frame =             BuildMBR(\n",
    "                {centroid_x - half_bbox_size}, {centroid_y - half_bbox_size},\n",
    "                {centroid_x + half_bbox_size}, {centroid_y + half_bbox_size}\n",
    "            ))\n",
    "        ''')"
   ]
  },
  {
   "cell_type": "code",
   "execution_count": null,
   "id": "20e7bcd3-e873-4cf4-844d-97ba24be4314",
   "metadata": {},
   "outputs": [],
   "source": [
    "print(b)"
   ]
  },
  {
   "cell_type": "code",
   "execution_count": null,
   "id": "b53f1fd7-cd6a-46c1-a370-3ab7c542dab3",
   "metadata": {},
   "outputs": [],
   "source": [
    "%%timeit\n",
    "\n",
    "with engine.connect() as conn:\n",
    "\n",
    "    bounding_box_polygons = conn.execute(\n",
    "        text(f'''\n",
    "        SELECT id, AsGeoJSON(geom) as geom \n",
    "        FROM geometries \n",
    "        WHERE MbrIntersects(\n",
    "            geom,\n",
    "            BuildMBR(\n",
    "                {centroid_x - half_bbox_size}, {centroid_y - half_bbox_size},\n",
    "                {centroid_x + half_bbox_size}, {centroid_y + half_bbox_size}\n",
    "            )\n",
    "        )\n",
    "        ''')\n",
    "     ).fetchall()\n",
    "\n",
    "print(len(bounding_box_polygons), end= \" \" )"
   ]
  },
  {
   "cell_type": "code",
   "execution_count": null,
   "id": "9d252282-6e0c-4887-9465-c7eb782fa3ea",
   "metadata": {},
   "outputs": [],
   "source": [
    "SELECT * \n",
    "FROM com2011 AS c, prov2011 AS p\n",
    "WHERE ST_CoveredBy(c.geometry, p.geometry) = 1 \n",
    "  AND nome_pro = 'AREZZO' AND c.ROWID IN (\n",
    "    SELECT ROWID \n",
    "    FROM SpatialIndex\n",
    "    WHERE f_table_name = 'com2011' \n",
    "        AND search_frame = p.geometry);"
   ]
  },
  {
   "cell_type": "code",
   "execution_count": null,
   "id": "709df2fc-dd24-41cd-8d0f-f05be8b182d0",
   "metadata": {},
   "outputs": [],
   "source": [
    "%%time\n",
    "\n",
    "\n",
    "random_index = random.randint(1, total_rows)\n",
    "    \n",
    "half_bbox_size= 1000\n",
    "# Step 3: Query for the specific row based on the random index\n",
    "with engine.connect() as conn:\n",
    "    random_row = conn.execute(\n",
    "        text(f'''\n",
    "        SELECT id, AsGeoJSON(ST_Centroid(geom)) as centroid \n",
    "        FROM geometries \n",
    "        WHERE id = {random_index}\n",
    "        ''')\n",
    "    ).fetchone()\n",
    "    \n",
    "\n",
    "    centroid_x,centroid_y=orjson.loads(random_row[1])['coordinates']\n",
    "\n",
    "    bounding_box_polygons = conn.execute(\n",
    "        text(f'''\n",
    "        SELECT id, AsGeoJSON(geom) as geom \n",
    "        FROM geometries \n",
    "        WHERE MbrIntersects(\n",
    "            geom,\n",
    "            BuildMBR(\n",
    "                {centroid_x - half_bbox_size}, {centroid_y - half_bbox_size},\n",
    "                {centroid_x + half_bbox_size}, {centroid_y + half_bbox_size}\n",
    "            )\n",
    "        )\n",
    "        ''')\n",
    "     ).fetchall()\n",
    "\n",
    "print(len(bounding_box_polygons), end= \" \" )"
   ]
  },
  {
   "cell_type": "code",
   "execution_count": null,
   "id": "d7ead65c-a2fa-4ea3-b108-cac9c722ca8f",
   "metadata": {},
   "outputs": [],
   "source": []
  },
  {
   "cell_type": "code",
   "execution_count": null,
   "id": "ec839415-fa5c-4cc2-99a7-794c17613c21",
   "metadata": {},
   "outputs": [],
   "source": []
  },
  {
   "cell_type": "code",
   "execution_count": null,
   "id": "ec6a05dc-4f45-47d4-b799-ba2daa532fb8",
   "metadata": {},
   "outputs": [],
   "source": []
  },
  {
   "cell_type": "code",
   "execution_count": null,
   "id": "15a71a62-603a-4608-a494-e9bcbe9c26e0",
   "metadata": {},
   "outputs": [],
   "source": [
    "db_path = 'sqlite:///spatialite_ray.db'\n",
    "engine = create_engine(db_path, echo=True)  # Set echo=True to see SQL commands being executed\n",
    "# Initialize Spatialite extension\n",
    "@event.listens_for(engine, \"connect\")\n",
    "def connect(dbapi_connection, connection_record):\n",
    "    dbapi_connection.enable_load_extension(True)\n",
    "    dbapi_connection.execute('SELECT load_extension(\"mod_spatialite\")')\n",
    "#    dbapi_connection.execute('SELECT InitSpatialMetaData(1);')\n",
    "\n",
    "with engine.connect() as conn:\n",
    "    bounding_box_polygons = conn.execute(\n",
    "        text(f'''\n",
    "        EXPLAIN QUERY PLAN SELECT id \n",
    "        FROM geometries \n",
    "        WHERE MbrIntersects(\n",
    "            geom,\n",
    "            BuildMBR(\n",
    "                {centroid_x - half_bbox_size}, {centroid_y - half_bbox_size},\n",
    "                {centroid_x + half_bbox_size}, {centroid_y + half_bbox_size}\n",
    "            )\n",
    "        )\n",
    "        ''')\n",
    "     ).fetchall()\n",
    "\n",
    "\n",
    "for p in bounding_box_polygons:\n",
    "    print(p)"
   ]
  },
  {
   "cell_type": "code",
   "execution_count": null,
   "id": "34e45452-0f22-4b80-83a8-c8d5b3a614d4",
   "metadata": {},
   "outputs": [],
   "source": []
  },
  {
   "cell_type": "code",
   "execution_count": null,
   "id": "e93e9c9f-41b0-420e-9207-dd5ffad4fab5",
   "metadata": {},
   "outputs": [],
   "source": []
  },
  {
   "cell_type": "code",
   "execution_count": null,
   "id": "d2443785-5ae5-4542-83d6-427d4a7fce81",
   "metadata": {},
   "outputs": [],
   "source": [
    "from sqlalchemy_utils import database_exists, create_database\n",
    "db_path = 'sqlite:///spatialite_ray.db'\n",
    "engine = create_engine(db_path, echo=True)  # Set echo=True to see SQL commands being executed\n",
    "@event.listens_for(engine, \"connect\")\n",
    "def connect(dbapi_connection, connection_record):\n",
    "    dbapi_connection.enable_load_extension(True)\n",
    "    dbapi_connection.execute('SELECT load_extension(\"mod_spatialite\")')\n",
    "#    dbapi_connection.execute('SELECT InitSpatialMetaData(1);')"
   ]
  },
  {
   "cell_type": "code",
   "execution_count": null,
   "id": "b16bc99e-34b3-4e3a-8f01-9da9634b4ef0",
   "metadata": {},
   "outputs": [],
   "source": [
    "Session = sessionmaker(bind=engine)\n",
    "session = Session()"
   ]
  },
  {
   "cell_type": "code",
   "execution_count": null,
   "id": "04dbefa7-cbef-449c-8846-8ff2bb9deba7",
   "metadata": {},
   "outputs": [],
   "source": [
    "%%time\n",
    "query = session.query(GeometryModel).filter(GeometryModel.geom.ST_Intersects(func.BuildMbr(\n",
    "            centroid_x - half_bbox_size,\n",
    "            centroid_y - half_bbox_size,\n",
    "            centroid_x + half_bbox_size,\n",
    "            centroid_y + half_bbox_size\n",
    "        )))\n",
    "\n",
    "results=query.all()\n",
    "len(results)\n"
   ]
  },
  {
   "cell_type": "code",
   "execution_count": null,
   "id": "784cd245-b924-4b12-94d4-4f534bd119ef",
   "metadata": {},
   "outputs": [],
   "source": [
    "%%timeit\n",
    "random_index = random.randint(1, total_rows)\n",
    "    \n",
    "half_bbox_size= 6_000\n",
    "# Step 3: Query for the specific row based on the random index\n",
    "with engine.connect() as conn:\n",
    "    random_row = conn.execute(\n",
    "        text(f'''\n",
    "        SELECT id, ST_AsGeoJSON(centroid) as centroid \n",
    "        FROM geometries \n",
    "        WHERE id = {random_index}\n",
    "        ''')\n",
    "    ).fetchone()\n",
    "    \n",
    "    centroid_x,centroid_y=orjson.loads(random_row[1])['coordinates']\n",
    "\n",
    "    bounding_box_polygons = conn.execute(\n",
    "        text(f'''\n",
    "        SELECT id, ST_AsGeoJSON(geom) as geom \n",
    "        FROM geometries \n",
    "        WHERE ST_Intersects(\n",
    "            centroid,\n",
    "            ST_MakeEnvelope(\n",
    "                {centroid_x - half_bbox_size}, {centroid_y - half_bbox_size},\n",
    "                {centroid_x + half_bbox_size}, {centroid_y + half_bbox_size},\n",
    "                4326\n",
    "            )\n",
    "        )\n",
    "        ''')\n",
    "     ).fetchall()\n",
    "\n",
    "\n",
    "\n",
    "print(len(bounding_box_polygons), end= \" \" )"
   ]
  },
  {
   "cell_type": "code",
   "execution_count": null,
   "id": "a5a28a55-6bf2-4d19-a60a-6da809f9b75b",
   "metadata": {},
   "outputs": [],
   "source": []
  }
 ],
 "metadata": {
  "jupytext": {
   "formats": "ipynb,py"
  },
  "kernelspec": {
   "display_name": "Python 3 (ipykernel)",
   "language": "python",
   "name": "python3"
  },
  "language_info": {
   "codemirror_mode": {
    "name": "ipython",
    "version": 3
   },
   "file_extension": ".py",
   "mimetype": "text/x-python",
   "name": "python",
   "nbconvert_exporter": "python",
   "pygments_lexer": "ipython3",
   "version": "3.12.3"
  }
 },
 "nbformat": 4,
 "nbformat_minor": 5
}
