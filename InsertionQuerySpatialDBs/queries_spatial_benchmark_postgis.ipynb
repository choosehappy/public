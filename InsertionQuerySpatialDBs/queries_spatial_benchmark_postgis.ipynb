{
 "cells": [
  {
   "cell_type": "code",
   "execution_count": 1,
   "id": "4dfed961-daf2-4386-98a9-5b794a0f309d",
   "metadata": {},
   "outputs": [],
   "source": [
    "import orjson\n",
    "\n",
    "from sqlalchemy import create_engine, Column, String, Integer, func, event, text\n",
    "from sqlalchemy.ext.declarative import declarative_base\n",
    "from sqlalchemy.dialects.postgresql import ARRAY\n",
    "from sqlalchemy.orm import sessionmaker\n",
    "from geoalchemy2 import Geometry \n",
    "from tqdm import tqdm\n",
    "from shapely.wkt import dumps\n",
    "import shapely\n",
    "from shapely.wkb import loads as load_wkb\n",
    "import random"
   ]
  },
  {
   "cell_type": "code",
   "execution_count": 2,
   "id": "3e12fd0b-6eb8-4c77-9382-0f51a0a71f00",
   "metadata": {},
   "outputs": [],
   "source": [
    "from sqlalchemy import create_engine\n",
    "from sqlalchemy_utils import database_exists, create_database"
   ]
  },
  {
   "cell_type": "code",
   "execution_count": 3,
   "id": "bb56d332-5303-4d62-97ec-379a44b05bab",
   "metadata": {},
   "outputs": [],
   "source": [
    "from sqlalchemy_utils import database_exists, create_database\n",
    "engine = create_engine('postgresql://postgres@localhost:5333/test')#,echo=True)"
   ]
  },
  {
   "cell_type": "code",
   "execution_count": 4,
   "id": "758b8f9c-a0e6-4ac1-9d0f-1fccf3e5645f",
   "metadata": {},
   "outputs": [],
   "source": [
    "# Initialize Spatialite extension\n",
    "@event.listens_for(engine, \"connect\")\n",
    "def connect(dbapi_connection, connection_record):\n",
    "    with dbapi_connection.cursor() as cursor:\n",
    "        cursor.execute('CREATE EXTENSION IF NOT EXISTS postgis;')"
   ]
  },
  {
   "cell_type": "code",
   "execution_count": 5,
   "id": "3f6edab2-5b39-48c6-9b72-7a99f831b7f0",
   "metadata": {
    "scrolled": true
   },
   "outputs": [
    {
     "name": "stderr",
     "output_type": "stream",
     "text": [
      "/tmp/ipykernel_23917/3638041328.py:2: MovedIn20Warning: The ``declarative_base()`` function is now available as sqlalchemy.orm.declarative_base(). (deprecated since: 2.0) (Background on SQLAlchemy 2.0 at: https://sqlalche.me/e/b8d9)\n",
      "  Base = declarative_base()\n"
     ]
    }
   ],
   "source": [
    "# Create a base class for our declarative mapping\n",
    "Base = declarative_base()\n",
    "\n",
    "# Define your SQLAlchemy model\n",
    "class GeometryModel(Base):\n",
    "    __tablename__ = 'geometries'\n",
    "    id = Column(Integer, primary_key=True)\n",
    "    name = Column(String)\n",
    "    geom = Column(Geometry('POLYGON'))\n",
    "    centroid = Column(Geometry('POINT'))\n",
    "\n",
    "\n",
    "    @property\n",
    "    def shapely_geom(self):\n",
    "        return load_wkb(self.geom.desc) if self.geom else None"
   ]
  },
  {
   "cell_type": "code",
   "execution_count": 6,
   "id": "5be61f3a-87db-4354-bcba-3230d23fd4fc",
   "metadata": {},
   "outputs": [],
   "source": [
    "# Create the table\n",
    "Base.metadata.create_all(engine)"
   ]
  },
  {
   "cell_type": "code",
   "execution_count": 7,
   "id": "50c29597-dc3e-4e97-b92c-23980daae864",
   "metadata": {},
   "outputs": [
    {
     "name": "stdout",
     "output_type": "stream",
     "text": [
      "1063260\n",
      "CPU times: user 4.15 ms, sys: 4.56 ms, total: 8.71 ms\n",
      "Wall time: 185 ms\n"
     ]
    }
   ],
   "source": [
    "%%time\n",
    "# -- orm approach\n",
    "from sqlalchemy.orm import Session\n",
    "\n",
    "# Getting the total number of rows\n",
    "with Session(engine) as session:\n",
    "    total_rows = session.query(GeometryModel).count()\n",
    "print(total_rows)    "
   ]
  },
  {
   "cell_type": "markdown",
   "id": "af032e1f-602b-41b8-9a33-395893b0d65b",
   "metadata": {},
   "source": [
    "#### Query Spatial Intersection "
   ]
  },
  {
   "cell_type": "markdown",
   "id": "8304cbeb-fb9d-4562-be09-fe597fa0dd57",
   "metadata": {},
   "source": [
    "## Core"
   ]
  },
  {
   "cell_type": "markdown",
   "id": "d4b7e6f1-8283-48c0-974a-1a0d688a3fe7",
   "metadata": {},
   "source": [
    "### Geom"
   ]
  },
  {
   "cell_type": "markdown",
   "id": "7c52726f-ab98-4f00-8b98-5374d894ffd9",
   "metadata": {},
   "source": [
    "Query Spatial Count-only Intersection "
   ]
  },
  {
   "cell_type": "code",
   "execution_count": 65,
   "id": "35f2e959-1f49-457a-94d2-ef20cbe5ef41",
   "metadata": {},
   "outputs": [
    {
     "name": "stdout",
     "output_type": "stream",
     "text": [
      "850 ms ± 142 ms per loop (mean ± std. dev. of 7 runs, 1 loop each)\n"
     ]
    }
   ],
   "source": [
    "%%timeit\n",
    "#--- Core approach\n",
    "## --- this is for counts only\n",
    "\n",
    "random_index = random.randint(1, total_rows)\n",
    "    \n",
    "half_bbox_size= 6000\n",
    "# Step 3: Query for the specific row based on the random index\n",
    "with engine.connect() as conn:\n",
    "    random_row = conn.execute(\n",
    "        text(f'''\n",
    "        SELECT id, ST_AsGeoJSON(centroid) as centroid \n",
    "        FROM geometries \n",
    "        WHERE id = {random_index}\n",
    "        ''')\n",
    "    ).fetchone()\n",
    "    \n",
    "    centroid_x,centroid_y=orjson.loads(random_row[1])['coordinates']\n",
    "\n",
    "    npolys = conn.execute(\n",
    "        text(f'''\n",
    "        SELECT count(geom) \n",
    "        FROM geometries \n",
    "        WHERE ST_Intersects(\n",
    "            geom,\n",
    "            ST_MakeEnvelope(\n",
    "                {centroid_x - half_bbox_size}, {centroid_y - half_bbox_size},\n",
    "                {centroid_x + half_bbox_size}, {centroid_y + half_bbox_size},\n",
    "                4326\n",
    "            )\n",
    "        )\n",
    "        ''')\n",
    "     ).fetchone()\n",
    "\n",
    "\n",
    "\n",
    "#print(npolys, end= \" \" )"
   ]
  },
  {
   "cell_type": "markdown",
   "id": "d4dcd92e-31cc-4460-abd4-e7dc61099a77",
   "metadata": {},
   "source": [
    "id only"
   ]
  },
  {
   "cell_type": "code",
   "execution_count": 70,
   "id": "324e297d-28be-4b69-8556-ab3260ba1b17",
   "metadata": {},
   "outputs": [
    {
     "name": "stdout",
     "output_type": "stream",
     "text": [
      "857 ms ± 60.5 ms per loop (mean ± std. dev. of 7 runs, 1 loop each)\n"
     ]
    }
   ],
   "source": [
    "%%timeit\n",
    "#--- Core approach\n",
    "## --- this is for counts only\n",
    "\n",
    "random_index = random.randint(1, total_rows)\n",
    "    \n",
    "half_bbox_size= 6000\n",
    "# Step 3: Query for the specific row based on the random index\n",
    "with engine.connect() as conn:\n",
    "    random_row = conn.execute(\n",
    "        text(f'''\n",
    "        SELECT id, ST_AsGeoJSON(centroid) as centroid \n",
    "        FROM geometries \n",
    "        WHERE id = {random_index}\n",
    "        ''')\n",
    "    ).fetchone()\n",
    "    \n",
    "    centroid_x,centroid_y=orjson.loads(random_row[1])['coordinates']\n",
    "\n",
    "    npolys = conn.execute(\n",
    "        text(f'''\n",
    "        SELECT id\n",
    "        FROM geometries \n",
    "        WHERE ST_Intersects(\n",
    "            geom,\n",
    "            ST_MakeEnvelope(\n",
    "                {centroid_x - half_bbox_size}, {centroid_y - half_bbox_size},\n",
    "                {centroid_x + half_bbox_size}, {centroid_y + half_bbox_size},\n",
    "                4326\n",
    "            )\n",
    "        )\n",
    "        ''')\n",
    "     ).fetchall()\n",
    "\n",
    "\n",
    "\n",
    "#print(npolys, end= \" \" )"
   ]
  },
  {
   "cell_type": "markdown",
   "id": "a4d22459-4f62-45d9-92b1-ddceebecc849",
   "metadata": {},
   "source": [
    "return with geojson"
   ]
  },
  {
   "cell_type": "code",
   "execution_count": 75,
   "id": "d0768c41-15ab-43c3-81c5-257328b0f249",
   "metadata": {},
   "outputs": [
    {
     "name": "stdout",
     "output_type": "stream",
     "text": [
      "2.73 s ± 1.01 s per loop (mean ± std. dev. of 7 runs, 1 loop each)\n"
     ]
    }
   ],
   "source": [
    "%%timeit\n",
    "#--- Core approach\n",
    "## --- this is for counts only\n",
    "\n",
    "random_index = random.randint(1, total_rows)\n",
    "    \n",
    "half_bbox_size= 6000\n",
    "# Step 3: Query for the specific row based on the random index\n",
    "with engine.connect() as conn:\n",
    "    random_row = conn.execute(\n",
    "        text(f'''\n",
    "        SELECT id, ST_AsGeoJSON(centroid) as centroid \n",
    "        FROM geometries \n",
    "        WHERE id = {random_index}\n",
    "        ''')\n",
    "    ).fetchone()\n",
    "    \n",
    "    centroid_x,centroid_y=orjson.loads(random_row[1])['coordinates']\n",
    "\n",
    "    npolys = conn.execute(\n",
    "        text(f'''\n",
    "        SELECT ST_AsGeoJSON(geom)\n",
    "        FROM geometries \n",
    "        WHERE ST_Intersects(\n",
    "            geom,\n",
    "            ST_MakeEnvelope(\n",
    "                {centroid_x - half_bbox_size}, {centroid_y - half_bbox_size},\n",
    "                {centroid_x + half_bbox_size}, {centroid_y + half_bbox_size},\n",
    "                4326\n",
    "            )\n",
    "        )\n",
    "        ''')\n",
    "     ).fetchall()\n",
    "\n",
    "\n",
    "\n",
    "#print(npolys, end= \" \" )"
   ]
  },
  {
   "cell_type": "markdown",
   "id": "0203068d-fc6e-40f9-ac28-b45cac7f4765",
   "metadata": {},
   "source": [
    "### Centroid"
   ]
  },
  {
   "attachments": {},
   "cell_type": "markdown",
   "id": "9b649b0a-4ab0-4981-9fa0-552fdc1977f5",
   "metadata": {},
   "source": [
    "Query Spatial Count-only Intersection "
   ]
  },
  {
   "cell_type": "code",
   "execution_count": 76,
   "id": "a54a2d1a-33eb-49b0-bb9d-443d7b77acb6",
   "metadata": {},
   "outputs": [
    {
     "name": "stdout",
     "output_type": "stream",
     "text": [
      "(131724,) (93384,) (107004,) (107856,) (109332,) (95916,) (69396,) (125940,) 236 ms ± 59.5 ms per loop (mean ± std. dev. of 7 runs, 1 loop each)\n"
     ]
    }
   ],
   "source": [
    "%%timeit\n",
    "#--- Core approach\n",
    "## --- this is for counts only\n",
    "\n",
    "random_index = random.randint(1, total_rows)\n",
    "    \n",
    "half_bbox_size= 6000\n",
    "# Step 3: Query for the specific row based on the random index\n",
    "with engine.connect() as conn:\n",
    "    random_row = conn.execute(\n",
    "        text(f'''\n",
    "        SELECT id, ST_AsGeoJSON(centroid) as centroid \n",
    "        FROM geometries \n",
    "        WHERE id = {random_index}\n",
    "        ''')\n",
    "    ).fetchone()\n",
    "    \n",
    "    centroid_x,centroid_y=orjson.loads(random_row[1])['coordinates']\n",
    "\n",
    "    npolys = conn.execute(\n",
    "        text(f'''\n",
    "        SELECT count(geom) \n",
    "        FROM geometries \n",
    "        WHERE ST_Intersects(\n",
    "            centroid,\n",
    "            ST_MakeEnvelope(\n",
    "                {centroid_x - half_bbox_size}, {centroid_y - half_bbox_size},\n",
    "                {centroid_x + half_bbox_size}, {centroid_y + half_bbox_size},\n",
    "                4326\n",
    "            )\n",
    "        )\n",
    "        ''')\n",
    "     ).fetchone()\n",
    "\n",
    "\n",
    "\n",
    "print(npolys, end= \" \" )"
   ]
  },
  {
   "cell_type": "code",
   "execution_count": 48,
   "id": "223c41ff-6c86-4e9e-af32-ebea053e8e11",
   "metadata": {},
   "outputs": [],
   "source": [
    "s=\"(110316,) (89460,) (102888,) (97608,) (99024,) (117720,) (84444,) (128844,)\""
   ]
  },
  {
   "cell_type": "code",
   "execution_count": 49,
   "id": "44c81213-595c-417c-81fe-faec1ce26ae7",
   "metadata": {},
   "outputs": [
    {
     "name": "stdout",
     "output_type": "stream",
     "text": [
      "103788.0\n"
     ]
    }
   ],
   "source": [
    "import numpy as np\n",
    "s=s.replace(\"(\",\"\").replace(\")\",\"\")\n",
    "numbers = [int(num.strip()) for num in s.split(',') if num.strip()]\n",
    "\n",
    "print(np.mean(numbers))"
   ]
  },
  {
   "cell_type": "markdown",
   "id": "7bb70d3a-6687-43ba-967e-72954f68a4d4",
   "metadata": {},
   "source": [
    "id only"
   ]
  },
  {
   "cell_type": "code",
   "execution_count": 54,
   "id": "ff53e7bc-c8bd-4da8-896a-f8b9c1434a94",
   "metadata": {},
   "outputs": [
    {
     "name": "stdout",
     "output_type": "stream",
     "text": [
      "324 ms ± 63.1 ms per loop (mean ± std. dev. of 7 runs, 1 loop each)\n"
     ]
    }
   ],
   "source": [
    "%%timeit\n",
    "#--- Core approach\n",
    "## --- this is for counts only\n",
    "\n",
    "random_index = random.randint(1, total_rows)\n",
    "    \n",
    "half_bbox_size= 6000\n",
    "# Step 3: Query for the specific row based on the random index\n",
    "with engine.connect() as conn:\n",
    "    random_row = conn.execute(\n",
    "        text(f'''\n",
    "        SELECT id, ST_AsGeoJSON(centroid) as centroid \n",
    "        FROM geometries \n",
    "        WHERE id = {random_index}\n",
    "        ''')\n",
    "    ).fetchone()\n",
    "    \n",
    "    centroid_x,centroid_y=orjson.loads(random_row[1])['coordinates']\n",
    "\n",
    "    npolys = conn.execute(\n",
    "        text(f'''\n",
    "        SELECT id\n",
    "        FROM geometries \n",
    "        WHERE ST_Intersects(\n",
    "            centroid,\n",
    "            ST_MakeEnvelope(\n",
    "                {centroid_x - half_bbox_size}, {centroid_y - half_bbox_size},\n",
    "                {centroid_x + half_bbox_size}, {centroid_y + half_bbox_size},\n",
    "                4326\n",
    "            )\n",
    "        )\n",
    "        ''')\n",
    "     ).fetchall()\n",
    "\n",
    "\n",
    "\n",
    "#print(npolys, end= \" \" )"
   ]
  },
  {
   "cell_type": "markdown",
   "id": "edfb19b8-c5af-4ed0-9449-7e474ff7c1fe",
   "metadata": {},
   "source": [
    "return with geojson"
   ]
  },
  {
   "cell_type": "code",
   "execution_count": 59,
   "id": "a7959249-f254-4582-b13a-0ac321f4720a",
   "metadata": {},
   "outputs": [
    {
     "name": "stdout",
     "output_type": "stream",
     "text": [
      "2.68 s ± 572 ms per loop (mean ± std. dev. of 7 runs, 1 loop each)\n"
     ]
    }
   ],
   "source": [
    "%%timeit\n",
    "#--- Core approach\n",
    "## --- this is for counts only\n",
    "\n",
    "random_index = random.randint(1, total_rows)\n",
    "    \n",
    "half_bbox_size= 6000\n",
    "# Step 3: Query for the specific row based on the random index\n",
    "with engine.connect() as conn:\n",
    "    random_row = conn.execute(\n",
    "        text(f'''\n",
    "        SELECT id, ST_AsGeoJSON(centroid) as centroid \n",
    "        FROM geometries \n",
    "        WHERE id = {random_index}\n",
    "        ''')\n",
    "    ).fetchone()\n",
    "    \n",
    "    centroid_x,centroid_y=orjson.loads(random_row[1])['coordinates']\n",
    "\n",
    "    npolys = conn.execute(\n",
    "        text(f'''\n",
    "        SELECT ST_AsGeoJSON(geom)\n",
    "        FROM geometries \n",
    "        WHERE ST_Intersects(\n",
    "            centroid,\n",
    "            ST_MakeEnvelope(\n",
    "                {centroid_x - half_bbox_size}, {centroid_y - half_bbox_size},\n",
    "                {centroid_x + half_bbox_size}, {centroid_y + half_bbox_size},\n",
    "                4326\n",
    "            )\n",
    "        )\n",
    "        ''')\n",
    "     ).fetchall()\n",
    "\n",
    "\n",
    "\n",
    "#print(npolys, end= \" \" )"
   ]
  },
  {
   "cell_type": "markdown",
   "id": "5c5dfe43-27aa-4c06-a26a-dcf5d8da6e51",
   "metadata": {},
   "source": [
    "TO DELETE? #Count-only Centroid"
   ]
  },
  {
   "cell_type": "code",
   "execution_count": null,
   "id": "00b95e50-ec27-4b9d-a819-4af17aaa21cf",
   "metadata": {},
   "outputs": [],
   "source": [
    "# %%timeit\n",
    "# #--- Core approach\n",
    "# ## --- this is for counts only\n",
    "\n",
    "# random_index = random.randint(1, total_rows)\n",
    "    \n",
    "# half_bbox_size= 6000\n",
    "# # Step 3: Query for the specific row based on the random index\n",
    "# with engine.connect() as conn:\n",
    "#     random_row = conn.execute(\n",
    "#         text(f'''\n",
    "#         SELECT id, ST_AsGeoJSON(centroid) as centroid \n",
    "#         FROM geometries \n",
    "#         WHERE id = {random_index}\n",
    "#         ''')\n",
    "#     ).fetchone()\n",
    "    \n",
    "#     centroid_x,centroid_y=orjson.loads(random_row[1])['coordinates']\n",
    "\n",
    "#     npolys = conn.execute(\n",
    "#         text(f'''\n",
    "#         SELECT ST_AsGeoJSON(ST_Centroidgeom)\n",
    "#         FROM geometries \n",
    "#         WHERE ST_Intersects(\n",
    "#             centroid,\n",
    "#             ST_MakeEnvelope(\n",
    "#                 {centroid_x - half_bbox_size}, {centroid_y - half_bbox_size},\n",
    "#                 {centroid_x + half_bbox_size}, {centroid_y + half_bbox_size},\n",
    "#                 4326\n",
    "#             )\n",
    "#         )\n",
    "#         ''')\n",
    "#      ).fetchall()\n",
    "\n",
    "\n",
    "\n",
    "# #print(npolys, end= \" \" )"
   ]
  },
  {
   "cell_type": "markdown",
   "id": "b9a645bd-3c2e-4fab-9250-3b6284ab3805",
   "metadata": {},
   "source": [
    "## ORM"
   ]
  },
  {
   "cell_type": "code",
   "execution_count": 77,
   "id": "5240315f-cf25-4a75-ba28-588649b3d118",
   "metadata": {},
   "outputs": [],
   "source": [
    "# Assuming you have a session\n",
    "session = Session(bind=engine)"
   ]
  },
  {
   "cell_type": "markdown",
   "id": "efa46418-bced-4476-985b-23b61c482b9e",
   "metadata": {},
   "source": [
    "## GEOM "
   ]
  },
  {
   "cell_type": "markdown",
   "id": "c0aef92e-32af-439b-9fb4-ff45cfee4a6a",
   "metadata": {},
   "source": [
    "count only"
   ]
  },
  {
   "cell_type": "code",
   "execution_count": 86,
   "id": "60699acc-9a97-419d-8897-bd893643653d",
   "metadata": {},
   "outputs": [
    {
     "name": "stdout",
     "output_type": "stream",
     "text": [
      "723 ms ± 189 ms per loop (mean ± std. dev. of 7 runs, 1 loop each)\n"
     ]
    }
   ],
   "source": [
    "%%timeit\n",
    "# Perform the query -- ORM approach\n",
    "random_index = random.randint(1, total_rows)\n",
    "\n",
    "random_row = (session.query(GeometryModel.id,func.ST_AsGeoJSON(func.ST_Centroid(GeometryModel.geom)))\n",
    "            .filter(GeometryModel.id == random_index)\n",
    "            .one_or_none())\n",
    "\n",
    "centroid_x,centroid_y=orjson.loads(random_row[1])['coordinates']\n",
    "\n",
    "half_bbox_size= 6000\n",
    "\n",
    "bounding_box_polygons = (\n",
    "    session.query(\n",
    "        func.count(GeometryModel.id))\n",
    "    .filter(\n",
    "        func.ST_Intersects(\n",
    "            GeometryModel.geom,\n",
    "            func.ST_MakeEnvelope(\n",
    "                centroid_x - half_bbox_size,\n",
    "                centroid_y - half_bbox_size,\n",
    "                centroid_x + half_bbox_size,\n",
    "                centroid_y + half_bbox_size,\n",
    "                4326  # SRID, adjust if needed\n",
    "            )\n",
    "        )\n",
    "    )\n",
    "    .all()\n",
    ")\n",
    "\n",
    "#print(len(bounding_box_polygons), end= \" \" )"
   ]
  },
  {
   "cell_type": "markdown",
   "id": "f84ce82d-d7b9-4af3-8ace-c1812b9958c7",
   "metadata": {},
   "source": [
    "id only"
   ]
  },
  {
   "cell_type": "code",
   "execution_count": 93,
   "id": "186747d8-a283-4ed9-8276-542672ad49c9",
   "metadata": {},
   "outputs": [
    {
     "name": "stdout",
     "output_type": "stream",
     "text": [
      "793 ms ± 186 ms per loop (mean ± std. dev. of 7 runs, 1 loop each)\n"
     ]
    }
   ],
   "source": [
    "%%timeit\n",
    "# Perform the query -- ORM approach\n",
    "random_index = random.randint(1, total_rows)\n",
    "\n",
    "random_row = (session.query(GeometryModel.id,func.ST_AsGeoJSON(func.ST_Centroid(GeometryModel.geom)))\n",
    "            .filter(GeometryModel.id == random_index)\n",
    "            .one_or_none())\n",
    "\n",
    "centroid_x,centroid_y=orjson.loads(random_row[1])['coordinates']\n",
    "\n",
    "half_bbox_size= 6000\n",
    "\n",
    "bounding_box_polygons = (\n",
    "    session.query(\n",
    "        GeometryModel.id)\n",
    "    .filter(\n",
    "        func.ST_Intersects(\n",
    "            GeometryModel.geom,\n",
    "            func.ST_MakeEnvelope(\n",
    "                centroid_x - half_bbox_size,\n",
    "                centroid_y - half_bbox_size,\n",
    "                centroid_x + half_bbox_size,\n",
    "                centroid_y + half_bbox_size,\n",
    "                4326  # SRID, adjust if needed\n",
    "            )\n",
    "        )\n",
    "    )\n",
    "    .all()\n",
    ")\n",
    "\n",
    "#print(len(bounding_box_polygons), end= \" \" )"
   ]
  },
  {
   "cell_type": "markdown",
   "id": "1baa2ba2-5a82-43b4-bf91-8ec33de2f8f3",
   "metadata": {},
   "source": [
    "geom as geojson"
   ]
  },
  {
   "cell_type": "code",
   "execution_count": 100,
   "id": "30a5329f-f034-44c9-9109-848bea36ffae",
   "metadata": {},
   "outputs": [
    {
     "name": "stdout",
     "output_type": "stream",
     "text": [
      "3.08 s ± 518 ms per loop (mean ± std. dev. of 7 runs, 1 loop each)\n"
     ]
    }
   ],
   "source": [
    "%%timeit\n",
    "# Perform the query -- ORM approach\n",
    "random_index = random.randint(1, total_rows)\n",
    "\n",
    "random_row = (session.query(GeometryModel.id,func.ST_AsGeoJSON(func.ST_Centroid(GeometryModel.geom)))\n",
    "            .filter(GeometryModel.id == random_index)\n",
    "            .one_or_none())\n",
    "\n",
    "centroid_x,centroid_y=orjson.loads(random_row[1])['coordinates']\n",
    "\n",
    "half_bbox_size= 6000\n",
    "\n",
    "bounding_box_polygons = (\n",
    "    session.query(\n",
    "        func.ST_AsGeoJSON(GeometryModel.geom))\n",
    "    .filter(\n",
    "        func.ST_Intersects(\n",
    "            GeometryModel.geom,\n",
    "            func.ST_MakeEnvelope(\n",
    "                centroid_x - half_bbox_size,\n",
    "                centroid_y - half_bbox_size,\n",
    "                centroid_x + half_bbox_size,\n",
    "                centroid_y + half_bbox_size,\n",
    "                4326  # SRID, adjust if needed\n",
    "            )\n",
    "        )\n",
    "    )\n",
    "    .all()\n",
    ")\n",
    "\n",
    "#print(len(bounding_box_polygons), end= \" \" )"
   ]
  },
  {
   "cell_type": "markdown",
   "id": "f5ebf43d-5d06-4c34-b4a8-4533b6fa100e",
   "metadata": {},
   "source": [
    "## Centroid"
   ]
  },
  {
   "cell_type": "markdown",
   "id": "724d8ac4-3c28-4f3c-a9fc-e372ee80cd35",
   "metadata": {},
   "source": [
    "count only"
   ]
  },
  {
   "cell_type": "code",
   "execution_count": 110,
   "id": "e0691561-ae49-401c-ab8d-b19549d4d751",
   "metadata": {},
   "outputs": [
    {
     "name": "stdout",
     "output_type": "stream",
     "text": [
      "255 ms ± 24.8 ms per loop (mean ± std. dev. of 7 runs, 1 loop each)\n"
     ]
    }
   ],
   "source": [
    "%%timeit\n",
    "# Perform the query -- ORM approach\n",
    "random_index = random.randint(1, total_rows)\n",
    "\n",
    "random_row = (session.query(GeometryModel.id,func.ST_AsGeoJSON(func.ST_Centroid(GeometryModel.geom)))\n",
    "            .filter(GeometryModel.id == random_index)\n",
    "            .one_or_none())\n",
    "\n",
    "centroid_x,centroid_y=orjson.loads(random_row[1])['coordinates']\n",
    "\n",
    "half_bbox_size= 6000\n",
    "\n",
    "bounding_box_polygons = (\n",
    "    session.query(\n",
    "        func.count(GeometryModel.id))\n",
    "    .filter(\n",
    "        func.ST_Intersects(\n",
    "            GeometryModel.centroid,\n",
    "            func.ST_MakeEnvelope(\n",
    "                centroid_x - half_bbox_size,\n",
    "                centroid_y - half_bbox_size,\n",
    "                centroid_x + half_bbox_size,\n",
    "                centroid_y + half_bbox_size,\n",
    "                4326  # SRID, adjust if needed\n",
    "            )\n",
    "        )\n",
    "    )\n",
    "    .all()\n",
    ")\n",
    "\n",
    "#print(len(bounding_box_polygons), end= \" \" )"
   ]
  },
  {
   "cell_type": "markdown",
   "id": "5d2d7445-51e1-4d60-a3e2-852bf3ce7fef",
   "metadata": {},
   "source": [
    "id only"
   ]
  },
  {
   "cell_type": "code",
   "execution_count": 114,
   "id": "becf496c-fdec-40bb-a985-64751b2eb321",
   "metadata": {},
   "outputs": [
    {
     "name": "stdout",
     "output_type": "stream",
     "text": [
      "318 ms ± 32.2 ms per loop (mean ± std. dev. of 7 runs, 1 loop each)\n"
     ]
    }
   ],
   "source": [
    "%%timeit\n",
    "# Perform the query -- ORM approach\n",
    "random_index = random.randint(1, total_rows)\n",
    "\n",
    "random_row = (session.query(GeometryModel.id,func.ST_AsGeoJSON(func.ST_Centroid(GeometryModel.geom)))\n",
    "            .filter(GeometryModel.id == random_index)\n",
    "            .one_or_none())\n",
    "\n",
    "centroid_x,centroid_y=orjson.loads(random_row[1])['coordinates']\n",
    "\n",
    "half_bbox_size= 6000\n",
    "\n",
    "bounding_box_polygons = (\n",
    "    session.query(\n",
    "        GeometryModel.id)\n",
    "    .filter(\n",
    "        func.ST_Intersects(\n",
    "            GeometryModel.centroid,\n",
    "            func.ST_MakeEnvelope(\n",
    "                centroid_x - half_bbox_size,\n",
    "                centroid_y - half_bbox_size,\n",
    "                centroid_x + half_bbox_size,\n",
    "                centroid_y + half_bbox_size,\n",
    "                4326  # SRID, adjust if needed\n",
    "            )\n",
    "        )\n",
    "    )\n",
    "    .all()\n",
    ")\n",
    "\n",
    "#print(len(bounding_box_polygons), end= \" \" )"
   ]
  },
  {
   "cell_type": "markdown",
   "id": "acd7121e-bf2d-4881-ab56-b157d6b11876",
   "metadata": {},
   "source": [
    "geom as geojson"
   ]
  },
  {
   "cell_type": "code",
   "execution_count": 119,
   "id": "18b878b4-4a86-4e54-be9f-f0ea0a965ccf",
   "metadata": {},
   "outputs": [
    {
     "name": "stdout",
     "output_type": "stream",
     "text": [
      "6.53 ms ± 613 µs per loop (mean ± std. dev. of 7 runs, 100 loops each)\n"
     ]
    }
   ],
   "source": [
    "%%timeit\n",
    "# Perform the query -- ORM approach\n",
    "random_index = random.randint(1, total_rows)\n",
    "\n",
    "random_row = (session.query(GeometryModel.id,func.ST_AsGeoJSON(func.ST_Centroid(GeometryModel.geom)))\n",
    "            .filter(GeometryModel.id == random_index)\n",
    "            .one_or_none())\n",
    "\n",
    "centroid_x,centroid_y=orjson.loads(random_row[1])['coordinates']\n",
    "\n",
    "half_bbox_size= 100\n",
    "\n",
    "bounding_box_polygons = (\n",
    "    session.query(\n",
    "        func.ST_AsGeoJSON(GeometryModel.geom))\n",
    "    .filter(\n",
    "        func.ST_Intersects(\n",
    "            GeometryModel.centroid,\n",
    "            func.ST_MakeEnvelope(\n",
    "                centroid_x - half_bbox_size,\n",
    "                centroid_y - half_bbox_size,\n",
    "                centroid_x + half_bbox_size,\n",
    "                centroid_y + half_bbox_size,\n",
    "                4326  # SRID, adjust if needed\n",
    "            )\n",
    "        )\n",
    "    )\n",
    "    .all()\n",
    ")\n",
    "\n",
    "#print(len(bounding_box_polygons), end= \" \" )"
   ]
  },
  {
   "cell_type": "code",
   "execution_count": null,
   "id": "04920b74-4b70-4857-b72b-a74f2fa1b7ef",
   "metadata": {},
   "outputs": [],
   "source": []
  }
 ],
 "metadata": {
  "jupytext": {
   "formats": "ipynb,py"
  },
  "kernelspec": {
   "display_name": "Python 3 (ipykernel)",
   "language": "python",
   "name": "python3"
  },
  "language_info": {
   "codemirror_mode": {
    "name": "ipython",
    "version": 3
   },
   "file_extension": ".py",
   "mimetype": "text/x-python",
   "name": "python",
   "nbconvert_exporter": "python",
   "pygments_lexer": "ipython3",
   "version": "3.10.12"
  }
 },
 "nbformat": 4,
 "nbformat_minor": 5
}
